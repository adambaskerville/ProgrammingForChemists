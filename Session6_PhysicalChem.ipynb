{
 "cells": [
  {
   "cell_type": "markdown",
   "metadata": {},
   "source": [
    "# Programming for Chemists: Physical Chemistry using NumPy, SciPy and SymPy"
   ]
  },
  {
   "cell_type": "markdown",
   "metadata": {},
   "source": [
    "**Importance for scientists:**\n",
    "* This session is more mathematical than the previous ones, but crucially we are going to learn a variety of tools applicable in many different scientific applications, including:\n",
    "    * Symbolic computation.\n",
    "    * Finding maxima of functions.\n",
    "    * Automatically varying fitting parameters to minimize or maximize certain values.\n",
    "    * Random number generation.\n",
    "    * Use matplotlib to produce animations, excellent for presentations.\n",
    "\n",
    "This hands on session will explore two worked examples in intricate detail, adding more tools to your programming toolbox. First we discuss another useful Python library called [SymPy](https://www.sympy.org/en/index.html). SymPy is a Python library for symbolic mathematics; aiming to become a full-featured **computer algebra system (CAS)**. "
   ]
  },
  {
   "cell_type": "markdown",
   "metadata": {},
   "source": [
    "## Computer Algebra in SymPy \n",
    "\n",
    "Computer algebra refers to software packages that are capable of doing **symbolic mathematical computations** such as:\n",
    "\n",
    "\\\\[\n",
    "    (x + 1)^2 \\hspace{0.5cm} \\rightarrow \\hspace{0.5cm} x^2 + 2x + 1,\n",
    "\\\\]\n",
    "where the word \"algebraic\" refers to operations with symbolic objects originating from algebra. Two well known software packages allowing for this functionality are *Maple* and *Mathematica*, but Python has a library called **SymPy** which provides us the ability to do symbolic computation in Python. Scientific computing is usually based on **numerical** computation using **approximate floating point numbers**, while symbolic computation emphasises **exact** computation with expressions containing variables that have no given value and are manipulated as symbols. \n",
    "\n",
    "\n",
    "| Pros                                 | Cons                                                               |\n",
    "|:-------------------------------------|:-------------------------------------------------------------------|\n",
    "| Exact Arithmetic                     | **Much slower** than numerical computation                         |\n",
    "| Non-linear expressions with symbols  | Poor hardware support                                              |\n",
    "| Inequalities, differential equations | Difficult to parallelize                                           |\n",
    "| Results can be formulae              | Numerical problems better handled with \"orthodox\" computer methods |\n",
    "| It \"knows\" how to integrate          | Number of expressions can grow exponentially                       |"
   ]
  },
  {
   "cell_type": "markdown",
   "metadata": {},
   "source": [
    "### Example: Analytical vs. Numerical Integration\n",
    "\n",
    "Consider the [known integral](https://functions.wolfram.com/Constants/Pi/07/01/01/0002/)\n",
    "\n",
    "\\\\[\n",
    "    4\\int\\limits_{0}^{1}\\sqrt{1-t^2}\\text{d}t = \\pi.\n",
    "\\\\]\n",
    "\n",
    "We pass this integral to SymPy and it produces \\\\(\\pi\\\\) **exactly**, not a floating point representation (we will discuss SymPy terminology throughout this tutorial):"
   ]
  },
  {
   "cell_type": "code",
   "execution_count": null,
   "metadata": {},
   "outputs": [],
   "source": [
    "import sympy as sy\n",
    "\n",
    "# define t as symbol not requiring an explicit value\n",
    "t = sy.symbols('t')\n",
    "\n",
    "# define the integrand\n",
    "integrand = sy.sqrt(1 - t**2)\n",
    "\n",
    "# calculate the integral\n",
    "4*sy.integrate(integrand, (t, 0, 1))"
   ]
  },
  {
   "cell_type": "markdown",
   "metadata": {},
   "source": [
    "Native programming languages; Python, C++, Fortran, Java etc... **cannot do this** without the help of customised libraries, but can solve the integral **approximately** using **numerical** methods. I programmed the following animation using matplotlib simulating a numerical technique called a **Riemann sum** of the same integral above; approximating the area under the function using an increasing number of rectangles:\n",
    "\n",
    "<center><img src=\"https://raw.githubusercontent.com/adambaskerville/ProgrammingForChemists/master/images/riemann_sum.gif\" width=\"900\" height=\"900\" /></center>\n",
    "\n",
    "The field of numerical integration has developed faster, more sophisticated techniques to numerically calculate integrals over any number of dimensions which we will not discuss here; the Riemann sum was just used to emphasise a point."
   ]
  },
  {
   "cell_type": "markdown",
   "metadata": {},
   "source": [
    "## Solving the Hydrogen Atom "
   ]
  },
  {
   "cell_type": "markdown",
   "metadata": {},
   "source": [
    "This is a detailed investigation on how to solve the hydrogen atom; the building block of a lot of computational and quantum chemical methods. It can be described using the **time independent, non-relativistic Schr&ouml;dinger equation**\n",
    "\n",
    "\\\\[\n",
    " \\hat{H}\\psi = E\\psi,\n",
    " \\tag{1}\n",
    "\\\\]\n",
    "\n",
    "where: \n",
    "* \\\\(\\hat{H} \\\\) is the Hamiltonian, the total energy operator.\n",
    "* \\\\(\\psi\\\\) is the wavefunction, containing all the key physical behaviour of the system.\n",
    "* \\\\(E\\\\) is the energy eigenvalue. \n",
    "\n",
    "This is the textbook system studied in quantum mechanics as it is one of the most simple, consisting of a single proton and electron. The radial part of the hydrogen atom is **exactly solvable** using a series solution method but lets pretend we are unaware of this and explore how a computer can solve it. The aim will be to get the computer to do *everything*, requiring no preliminary mathematics by us humans. We are going to use a very powerful mathematical technique called the **variational method**; using a combination of symbolic mathematics from **SymPy** and numerical techniques from **SciPy**. "
   ]
  },
  {
   "cell_type": "markdown",
   "metadata": {},
   "source": [
    "### Variational Method \n",
    "\n",
    "Consider the wave equation given in equation (1). If we multiply both sides by \\\\(\\psi\\\\) and integrate over all space we end up with the following\n",
    "\n",
    "\\\\[\n",
    "E = \\frac{\\int \\psi \\hat{H}\\psi \\text{d}\\tau}{\\int \\psi^2 \\text{d}\\tau}.\n",
    "\\tag{2}\n",
    "\\\\]\n",
    "\n",
    "When \\\\(\\psi\\\\) is complex this becomes\n",
    "\n",
    "\\\\[\n",
    "E = \\frac{\\int \\psi^* \\hat{H} \\psi \\text{d}\\tau}{\\int \\psi^* \\psi \\text{d}\\tau}.\n",
    "\\tag{3}\n",
    "\\\\]\n",
    "\n",
    "We can now calculate the energy, \\\\(E\\\\) if we know the wavefunction, \\\\(\\psi\\\\). If we do not know the exact wavefunction our best bet is to have an educated guess using some physical intuition; unlikely to be the exact wavefunction, but by labelling it as \\\\(\\psi_1\\\\) it will calculate a value of the energy, \\\\(E_1\\\\). \n",
    "\n",
    "We can now guess a second wavefunction, \\\\(\\psi_2\\\\), resulting in an energy value \\\\(E_2\\\\) and if desired we could guess even more wavefunctions, there is no limit. The variational principle tells us that if \\\\(E_g\\\\) is the exact ground state energy then both \\\\(E_1\\\\) and \\\\(E_2\\\\) will always be greater than \\\\(E_g\\\\) unless we somehow guess the exact wavefunction; which would then be equal to \\\\(E_g\\\\). We can represent the variational principle via the following inequality\\\\(^{[2]}\\\\)\n",
    "\n",
    "\\\\[\n",
    "\\frac{\\int\\psi^* \\hat{H} \\psi \\text{d}\\tau}{\\int \\psi^* \\psi \\text{d}\\tau} \\ge E_g.\n",
    "\\tag{4}\n",
    "\\\\]\n"
   ]
  },
  {
   "cell_type": "markdown",
   "metadata": {},
   "source": [
    "Due to the inability of solving many-body problems exactly, computational and quantum chemistry is built upon approximate methods and a number of methods utilize the variational principle, including **Hartree Fock theory**. These work by making repeated iterative changes to the trial wavefunctions or density matrices, calculating the energy as they go until the lowest value has been found; safe in the knowledge it can not drop below the exact ground state solution. "
   ]
  },
  {
   "cell_type": "markdown",
   "metadata": {},
   "source": [
    "### Gaussian Wavefunction\n",
    "\n",
    "For our first trial wavefunction, \\\\(\\psi_1\\\\), we will use a single [Gaussian function](https://mathworld.wolfram.com/GaussianFunction.html). <font color='red'>Can you plot the function using matplotlib?</font>\n",
    "\n",
    "\\\\[\n",
    "\\psi_1 = e^{-cr^2},\n",
    "\\\\]\n",
    "\n",
    "where \\\\(r\\\\) is the nucleus-electron distance and \\\\(c\\\\) is a **variational parameter** which our program will change throughout the calculation in order to find the lowest energy, \\\\(E_g\\\\). The Hamiltonian for the hydrogen atom is given by\\\\(^{[1]}\\\\)\n",
    "\n",
    "\\\\[\n",
    "\\hat{H} = -\\overbrace{\\frac{\\hbar^2}{2\\mu}\\nabla^2}^{K.E} - \\overbrace{\\frac{e^2}{r}}^{P.E},\n",
    "\\tag{5}\n",
    "\\\\]\n",
    "\n",
    "where \\\\(\\mu\\\\) represents the reduced mass of the proton-electron pair (\\\\(\\mu \\approx 1\\\\) for the hydrogen atom). The Laplacian operator for the spherically symmetric 1s state of the hydrogen atom is\n",
    "\n",
    "\\\\[\n",
    "    \\nabla^2 = \\frac{\\partial^2}{\\partial r^2} + \\frac{2}{r}\\frac{\\partial}{\\partial r}.\n",
    "\\\\]\n",
    "\n",
    "To simplify the situation we can introduce a more natural set of units called **atomic units** which set the following constant values:\n",
    "\n",
    "* Reduced planck constant: \\\\(\\hbar = 1\\\\)\n",
    "* Elementary charge: \\\\(e = 1\\\\)\n",
    "* Bohr radius: \\\\(a_0 = 1\\\\)\n",
    "* Electron mass: \\\\(m_e = 1\\\\)\n",
    "\n",
    "These units simplify the Hamiltonian\n",
    "\n",
    "\\\\[\n",
    "\\hat{H} = -\\overbrace{\\frac{1}{2}\\nabla^2}^{K.E} - \\overbrace{\\frac{1}{r}}^{P.E}.\n",
    "\\tag{6}\n",
    "\\\\]\n",
    "\n",
    "The first thing we do is import NumPy, SciPy, SymPy and a useful module within the SciPy library called `Optimize` containing a lot of functionality relevant for non-linear optimization problems. We want to import the `minimize` function which we do using\n",
    "\n",
    "`from scipy.optimize import minimize`\n",
    "\n",
    "As we are going to solve this symbolically using computer algebra we need to tell Python to treat the coordinate `r` as a symbol not requiring an explicit value. We do this using `sy.symbols('r')` from SymPy:\n",
    "\n",
    "`r = sy.symbols('r')`\n",
    "\n",
    "which tells the program to treat `r` as a generic variable not needing an explicit value."
   ]
  },
  {
   "cell_type": "code",
   "execution_count": null,
   "metadata": {},
   "outputs": [],
   "source": [
    "import numpy as np\n",
    "import scipy as sp\n",
    "import sympy as sy\n",
    "\n",
    "# import minimize function from optimize\n",
    "\n",
    "# tell Python to treat r as a symbol, not a numerical value\n"
   ]
  },
  {
   "cell_type": "markdown",
   "metadata": {},
   "source": [
    "We need to keep changing the value of the variational parameter, \\\\(c\\\\), so need a Python object which can continually take unique input and return unique output -> **Function**. \n",
    "\n",
    "Further down this worksheet you will see a function called `min_energy(c):` with a placeholder docstring and multiple lines with missing code. We are going to discuss all the quantities needed to solve the problem, and your task is to fill in the blanks in the program. If you get stuck you can ask me, or I have included a complete working example of the program at the end of this worksheet for you to compare yours against.\n",
    "\n",
    "Lets begin working through what is needed to minimize the energy of the hydrogen atom."
   ]
  },
  {
   "cell_type": "markdown",
   "metadata": {},
   "source": [
    "**Define wavefunction:**\n",
    "\n",
    "The first step is to tell the program what our Gaussian wavefunction looks like:\n",
    "\n",
    "`psi_1 = sy.exp(-c*r**2)`\n",
    "\n",
    "where we have called the SymPy implementation of the exponential function. \n",
    "\n",
    "**Define Hamiltonian:**\n",
    "\n",
    "We next define the Hamiltonian operator and get SymPy to evaluate the differential operators for us, symbolically! Remember an operator, our Hamiltonian, only makes sense if it **is acting on something** so we will act it on the wavefunction on its right hand side of equation (4):\n",
    "\n",
    "`hamiltonian = (-1/2)*(sy.diff(psi_1, r, r) + (2/r)*sy.diff(psi_1, r)) - (1/r)*psi_1`\n",
    "\n",
    "There is a lot to unpack here so lets break it down:\n",
    "\n",
    "1. `sy.diff` calls the differential operator from SymPy. The first differential in our \\\\(\\nabla^2\\\\) operator is a second order derivative with respect to \\\\(r\\\\) which can be programmed in two equivalent ways:\n",
    "\n",
    "    `sy.diff(psi_1, r, r)` or `sy.diff(psi_1, r, 2)`\n",
    "\n",
    "2. the next derivative is first order:\n",
    "\n",
    "    `sy.diff(psi_1, r)`\n",
    "\n",
    "3. we also need to multiply the potential energy term at the end by `psi_1` as it is part of the Hamiltonian operator.\n",
    "\n",
    "**Volume element:**\n",
    "\n",
    "Next we need to consider **Heisenberg's uncertainty principle**, relating to how the electron will not idly sit at a fixed position from the proton; but instead have a finite probability of existing at any position in the sphere traced out by \"swinging\" the radius joining the proton and electron around. The surface area of a sphere is \\\\(4\\pi r^2\\\\) which we will program as our volume element, `dv`, remember to use `sy.pi`.\n",
    "\n",
    "**Integration:**\n",
    "\n",
    "We have now defined our wavefunction, Hamiltonian operator and volume element, so we can now conduct the integration. We will implement two expressions, one for the numerator (`num`) of equation (4) and one for the denominator (`den`):\n",
    "\n",
    "`num = sy.N(sy.integrate(psi_1*hamiltonian*dv, (r, 0, sy.oo)))`\n",
    "\n",
    "Lets break this down:\n",
    "\n",
    "1. To symbolically integrate in SymPy we call:\n",
    "\n",
    "    `sy.integrate(integrand, (variable to integrate over, start, end))` \n",
    "\n",
    "2. We want to integrate over \\\\(r\\\\) from 0 to \\\\(\\infty\\\\) as quantum mechanics tells us the electron can technically reside in a sphere stretching out to the edge of the Universe, even though the probability is effectively zero past a radius of several Bohr radii.\n",
    "\n",
    "    `(r, 0, sy.oo)`\n",
    "\n",
    "    infinity is represented as `oo` in Sympy. The denominator can be programmed using an almost identical syntax, *have a go yourself*. \n",
    "\n",
    "3. As SymPy evaluates it symbolically, it will leave it in a general form (print out the result to check for yourself!) and we want a numeric answer so call `sy.N` which numerically evaluates the expressions for us.\n",
    "\n",
    "We then calculate the energy by dividing: `E = num/den`. A useful feature of an optimisation program is to output each step of the optimisation process so the user can see what is happening. We can print out the value of `c` and `E` each time the function is called:\n",
    "\n",
    "`print(\"c = {:.6f}, Energy = {:.10f}\".format(c, E))`\n",
    "\n",
    "We are finished! <font color='red'>You can fill in the following function using what we just discussed</font>. Outside the function we set the initial value of `c=3` and then call the minimize function from SciPy which varies the value of `c` until it has achieved a convergence tolerance of \\\\(1 \\times 10^{-6}\\\\), `tol=1e-6`, or 6 decimal places:"
   ]
  },
  {
   "cell_type": "code",
   "execution_count": null,
   "metadata": {},
   "outputs": [],
   "source": [
    "def min_energy(c):\n",
    "    '''\n",
    "    This function minimises the energy with respect to a single variational parameter c\n",
    "    \n",
    "    Parameters:\n",
    "    -----------\n",
    "    c : \n",
    "        \n",
    "    \n",
    "    Returns:\n",
    "    --------\n",
    "    E : \n",
    "        \n",
    "\n",
    "    '''\n",
    "    # The scipy minimize function passes the parameters in an array. \n",
    "    # To use it within our mathematical formulae we need to extract it as a separate number, done using the index [0]\n",
    "    c = c[0]\n",
    "    \n",
    "    # define the Gaussian wavefunction\n",
    "\n",
    "    # define the Hamiltonian\n",
    "\n",
    "    # define the volume of integration\n",
    "\n",
    "    # define the numerator of the variational principle\n",
    "\n",
    "    # define the denominator of the variational principle\n",
    "\n",
    "    # calculate the energy\n",
    "    E = num/den\n",
    "\n",
    "    # print the current value of c and E \n",
    "    \n",
    "    # return E to the minimize function\n",
    "    return E\n",
    "\n",
    "# set an initial value for the variational parameter 'c'\n",
    "c = 3\n",
    "\n",
    "# call the minimize function, tell it the parameter to vary, c, and tell it the tolerance for convergence, tol\n",
    "hydrogen_gs = minimize(min_energy, c, tol=1e-6)\n",
    "\n",
    "# print the final result to terminal\n",
    "print(hydrogen_gs)"
   ]
  },
  {
   "cell_type": "markdown",
   "metadata": {},
   "source": [
    "We have a final energy of \\\\(E_g = -0.4244131816\\\\) hartrees when \\\\(c = 0.28294212\\\\). This is not too bad, but we know the exact ground state energy for a one-electron system\n",
    "\n",
    "\\\\[\n",
    "E_g = -\\frac{Z^2}{2},\n",
    "\\\\]\n",
    "\n",
    "where \\\\(Z\\\\) is the nuclear charge, so for the hydrogen atom \\\\(E = -0.5\\\\) hartrees. Using a Gaussian wavefunction produces an Energy value with a \\\\(\\approx 15\\%\\\\) error!"
   ]
  },
  {
   "cell_type": "markdown",
   "metadata": {},
   "source": [
    "### Slater-type orbital Wavefunction\n",
    "\n",
    "Let us consider a better approximation for our wavefunction, this time using a **Slater-type orbital**:\n",
    "\n",
    "\\\\[\n",
    "\\psi_2 = e^{-cr}.\n",
    "\\\\]\n",
    "\n",
    "Why is this better? Lets plot the Slater-type function against the Gaussian function using matplotlib:"
   ]
  },
  {
   "cell_type": "code",
   "execution_count": null,
   "metadata": {},
   "outputs": [],
   "source": [
    "from matplotlib import pyplot as plt\n",
    "import numpy as np\n",
    "\n",
    "# create the figure (fig) and axes (ax) objects\n",
    "fig, ax = plt.subplots()\n",
    "\n",
    "# create r range from 0 -> 5 with a step of 0.05\n",
    "r = np.arange(0, 5, 0.05)   # start, stop, step\n",
    "\n",
    "# define gaussian function\n",
    "gaussian = np.exp(-r**2)\n",
    "\n",
    "# define slater function\n",
    "slater = np.exp(-r)\n",
    "\n",
    "# set the range of the x-axis data\n",
    "ax.set_xlim([0, 5])\n",
    "\n",
    "# set the range of the y-axis data\n",
    "ax.set_ylim([0, 1])\n",
    "\n",
    "# set the axis labels\n",
    "ax.set_xlabel('r')\n",
    "ax.set_ylabel(r'$\\psi$')\n",
    "\n",
    "# call the plot command\n",
    "ax.plot(r, gaussian, label = 'Gaussian')\n",
    "ax.plot(r, slater, label = 'Slater')\n",
    "\n",
    "# plot the legend\n",
    "ax.legend()\n",
    "\n",
    "plt.show()"
   ]
  },
  {
   "cell_type": "markdown",
   "metadata": {},
   "source": [
    "These two forms look quite different, and the key reason why the Slater form is more **physically realistic** than the Gaussian form is that it reaches a **cusp** at the origin, \\\\(r=0\\\\), which is a rule particles have to obey when they coalesce; [rigorously proven](https://onlinelibrary.wiley.com/doi/abs/10.1002/cpa.3160100201) by Tosio Kato in 1957. Change the scale(s) of the plot to get a closer look. \n",
    "\n",
    "Return to your program, or the complete version at the bottom of the script, and change the Gaussian function for a Slater-type function and see what the new result is.\n",
    "\n",
    "We end up with \\\\(E_g = -0.5\\\\) hartrees when \\\\(c=1\\\\), matching the exact energy to the specified precision. This also reveals the nature of the exact wavefunction of the hydrogen atom but also any one-electron system\n",
    "\n",
    "\\\\[\n",
    "\\psi = e^{-Zr},\n",
    "\\\\]\n",
    "\n",
    "where \\\\(Z\\\\) is the nuclear charge. Lets plot wavefunctions for various \\\\(Z\\\\)-values using a `for` loop:"
   ]
  },
  {
   "cell_type": "code",
   "execution_count": null,
   "metadata": {},
   "outputs": [],
   "source": [
    "from matplotlib import pyplot as plt\n",
    "import numpy as np\n",
    "\n",
    "# create the figure (fig) and axes (ax) objects\n",
    "fig, ax = plt.subplots()\n",
    "\n",
    "# create r range from 0 -> 5 with a step of 0.05\n",
    "r = np.arange(0, 5, 0.05)   # start, stop, step\n",
    "\n",
    "# set the range of the x-axis data\n",
    "ax.set_xlim([0, 5])\n",
    "\n",
    "# set the range of the y-axis data\n",
    "ax.set_ylim([0, 1])\n",
    "\n",
    "# set the axis labels\n",
    "ax.set_xlabel('r')\n",
    "ax.set_ylabel(r'$\\psi$')\n",
    "\n",
    "for Z in range(1,5):\n",
    "    # define slater function\n",
    "    slater = np.exp(-Z*r)\n",
    "    \n",
    "    # call the plot command\n",
    "    ax.plot(r, slater, label = \"Z = {}\".format(Z))\n",
    "\n",
    "    # plot the legend\n",
    "    ax.legend()\n",
    "\n",
    "plt.show()"
   ]
  },
  {
   "cell_type": "markdown",
   "metadata": {},
   "source": [
    "### Radial Distribution Functions\n",
    "We now have our optimised Gaussian and Slater type wavefunctions\n",
    "\n",
    "**Gaussian:**\n",
    "\n",
    "\\\\[\n",
    "\\psi_1 = e^{-0.28294212 r}\n",
    "\\\\]\n",
    "\n",
    "**Slater:**\n",
    "\n",
    "\\\\[\n",
    "\\psi_2 = e^{-1r}\n",
    "\\\\]\n",
    "\n",
    "We can use these wavefunctions to calculate the **radial Distribution Function (RDF)** of the hydrogen atom; i.e. the electron density around the proton\n",
    "\n",
    "\\\\[\n",
    "    \\text{RDF} = 4\\pi r^2\\psi\\psi|_{r=r'}\n",
    "    \\tag{7}\n",
    "\\\\]\n",
    "\n",
    "where we fix the coordinate \\\\(r\\\\) to be values in the range \\\\(0 \\le r' \\le \\infty\\\\). \n",
    "\n",
    "**Normalisation:**\n",
    "\n",
    "We need to make sure the RDF is normalised correctly otherwise it will not reflect the true physical nature of the system. We want the area under the RDF curves to equal 1 representing 100%; i.e. there is a 100% chance the electron is located somewhere in space, which is physically true. We can calculate the normalisation of our wavefunctions using\n",
    "\n",
    "\\\\[\n",
    "    \\text{Norm} = \\langle \\psi|\\psi \\rangle = \\int\\limits_{0}^{\\infty}\\psi\\psi\\text{d}\\tau,\n",
    "    \\tag{8}\n",
    "\\\\]\n",
    "which we need only calculate **once** using SymPy, and then divide the RDF function by the normalisation value achieving normalisation:"
   ]
  },
  {
   "cell_type": "code",
   "execution_count": null,
   "metadata": {},
   "outputs": [],
   "source": [
    "from matplotlib import pyplot as plt\n",
    "import numpy as np\n",
    "import sympy as sy\n",
    "from sympy import lambdify\n",
    "\n",
    "r = sy.symbols('r')\n",
    "\n",
    "# create the figure (fig) and axes (ax) objects\n",
    "fig, ax = plt.subplots()\n",
    "\n",
    "# define gaussian function\n",
    "gaussian = sy.exp(-r**2)\n",
    "\n",
    "# define slater function\n",
    "slater = sy.exp(-r)\n",
    "\n",
    "# define volume element\n",
    "dv = 4*sy.pi*r**2\n",
    "\n",
    "# calculate the inner product <psi|psi> of the gaussian wavefunction\n",
    "gaussian_norm = sy.N(sy.integrate(gaussian*gaussian*dv, (r, 0, sy.oo)))\n",
    "\n",
    "# calculate the inner product <psi|psi> of the slater-type orbital wavefunction\n",
    "slater_norm = sy.N(sy.integrate(slater*slater*dv, (r, 0, sy.oo)))\n",
    "\n",
    "# calculate the RDF using the Gaussian wavefunction\n",
    "RDF_gaussian = gaussian*gaussian*dv / gaussian_norm\n",
    "lam_gaussian = lambdify(r, RDF_gaussian)\n",
    "\n",
    "# calculate the RDF using the slater-type orbital wavefunction\n",
    "RDF_slater =  slater*slater*dv / slater_norm\n",
    "lam_slater = lambdify(r, RDF_slater)\n",
    "\n",
    "# set the range of the x-axis data\n",
    "ax.set_xlim([0, 5])\n",
    "\n",
    "# set the range of the y-axis data\n",
    "ax.set_ylim([0, 1.5])\n",
    "\n",
    "# set the axis labels\n",
    "ax.set_xlabel(\"r'\")\n",
    "ax.set_ylabel(r'$4\\pi r^2\\psi\\psi$') # This notation uses LaTeX math font!\n",
    "\n",
    "# generate 500 r' values (rp) between 0 and 5\n",
    "rp_vals = np.linspace(0, 5, 500)  # start, stop, no. points \n",
    "\n",
    "# calculate the y-values of the graph using the RDF functions\n",
    "y_vals_gaussian = lam_gaussian(rp_vals)\n",
    "y_vals_slater   = lam_slater(rp_vals)\n",
    "\n",
    "# call the plot command\n",
    "ax.plot(rp_vals, y_vals_gaussian, label = 'RDF Gaussian')\n",
    "ax.plot(rp_vals, y_vals_slater, label = 'RDF Slater')\n",
    "\n",
    "# plot the legend\n",
    "ax.legend()\n",
    "\n",
    "plt.show()"
   ]
  },
  {
   "cell_type": "markdown",
   "metadata": {},
   "source": [
    "Check they are normalised by integrating the RDF functions to calculate the area underneath the curves; <font color='red'>write the code for the slater-type orbital wavefunction</font>:"
   ]
  },
  {
   "cell_type": "code",
   "execution_count": null,
   "metadata": {},
   "outputs": [],
   "source": [
    "# check normalisation of the RDF using a gaussian wave function\n",
    "print(sy.N(sy.integrate(RDF_gaussian, (r, 0, sy.oo))))\n",
    "\n",
    "# check normalisation of the RDF using a gaussian wave function\n"
   ]
  },
  {
   "cell_type": "markdown",
   "metadata": {},
   "source": [
    "### Most Probable Value of r\n",
    "\n",
    "If we look at the RDF plots above, they are not symmetric about a point like a standard Gaussian function is; meaning the **most probable** and **average** value of \\\\(r\\\\) are not equal! the most probable value is given by the position of the maximum of the curve. To find and classify extreme points of a function take the first derivative and set equal to 0 and solve. As we know the function has a maximum by visual inspection we do not need to take the second derivative in order to classify whether it is a maximum, minimum or point of inspection, <font color='red'>but try adding this to the following function, perhaps include `if` statements to print out what type of extreme point it is</font>:"
   ]
  },
  {
   "cell_type": "code",
   "execution_count": null,
   "metadata": {},
   "outputs": [],
   "source": [
    "def find_extremes(func, arg):\n",
    "    '''\n",
    "    This function find the extreme points of a sympy function, returning the maximum value\n",
    "    \n",
    "    Parameters:\n",
    "    -----------\n",
    "    func : sympy.core.mul.Mul\n",
    "           This is the symbolic sympy expression which we want to find the maximum of\n",
    "        \n",
    "    arg : sympy.core.symbol.Symbol\n",
    "          This is the variable to differentiate wirht respect to.\n",
    "    \n",
    "    Returns:\n",
    "    --------\n",
    "    max(extremes) : The maximum value in the extreme points list\n",
    "    '''\n",
    "    # calculate first derivative\n",
    "    dy = sy.diff(func, arg)\n",
    "    \n",
    "    # calculate extreme points\n",
    "    extremes = sy.solve(dy, arg)\n",
    "\n",
    "    return max(extremes)\n",
    "\n",
    "print(\"Most probable r for Gaussian = {:.3f}\".format(find_extremes(RDF_gaussian, r)))\n",
    "\n",
    "print(\"Most probable r for Slater = {:.3f}\".format(find_extremes(RDF_slater, r)))"
   ]
  },
  {
   "cell_type": "markdown",
   "metadata": {},
   "source": [
    "The most probable value of \\\\(r\\\\) for hydrogen is exactly \\\\(r = 1\\\\) a.u. so this shows that the Gaussian wavefunction does not just underestimate the ground state energy, but also the physical properties of the system."
   ]
  },
  {
   "cell_type": "markdown",
   "metadata": {},
   "source": [
    "### Expectation Value of \\\\(r\\\\)\n",
    "\n",
    "Expectation values represent the average value of a given quantity, which in the case of the proton-electron distance, \\\\(r\\\\), in the hydrogen atom is\n",
    "\n",
    "\\\\[\n",
    "    \\langle \\psi| r |\\psi \\rangle = \\frac{\\int\\limits_{0}^{\\infty} \\psi r \\psi \\text{d}\\tau}{\\int\\limits_{0}^{\\infty}\\psi\\psi\\text{d}\\tau}\n",
    "    \\tag{9}\n",
    "\\\\]\n",
    "\n",
    "<font color='red'>The following code calculates this in SymPy. but there are several typographic errors. Follow the errors to fix the issues and then run the code</font>:"
   ]
  },
  {
   "cell_type": "code",
   "execution_count": null,
   "metadata": {},
   "outputs": [],
   "source": [
    "# gaussian expectation value of r\n",
    "expec_num_gaussian = sy.N(sy.integrate(gaussian*r*gaussian*dv, (r, 0, sy.oo)))\n",
    "expec_den_gaussian = sy.N(sy.integrate(gaussian**gaussian*dv, (r, 0, sy.OO)))\n",
    "\n",
    "print(\"<r> using Gaussian = {:.4f}\".format(expec_num_gaussian / expec_den_gaussian))\n",
    "\n",
    "# slater-type expectation value of r\n",
    "expec_num_slater = sy.N(sy.int(slater*r*slater*dv, (r, 0, sy.oo)))\n",
    "expec_den_slater = sy.N(sy.integrate(slater*slater*dv, (, 0, sy.oo)))\n",
    "\n",
    "print(\"<r> using Slater = {:.4f}\".format(expec_num_slater / expec_den_slater))"
   ]
  },
  {
   "cell_type": "markdown",
   "metadata": {},
   "source": [
    "## Complete Hydrogen Atom Program"
   ]
  },
  {
   "cell_type": "code",
   "execution_count": null,
   "metadata": {},
   "outputs": [],
   "source": [
    "import numpy as np\n",
    "import scipy as sp\n",
    "import sympy as sy\n",
    "from scipy.optimize import minimize\n",
    "\n",
    "r = sy.symbols('r')\n",
    "\n",
    "def min_energy(c):\n",
    "    '''\n",
    "    This function minimises the energy with respect to a single variational parameter c\n",
    "    \n",
    "    Parameters:\n",
    "    -----------\n",
    "    c : np.ndarray\n",
    "        This is the current value of the c parameter\n",
    "    \n",
    "    Returns:\n",
    "    --------\n",
    "    E : sympy.core.numbers.Float\n",
    "        This number represents the energy value in hartrees\n",
    "\n",
    "    '''\n",
    "    # The scipy minimize function passes the parameters in an array. \n",
    "    # To use it within our mathematical formulae we need to extract it as a separate number, done using the index [0]\n",
    "    c = c[0]\n",
    "\n",
    "    # define the Gaussian wavefunction\n",
    "    psi = sy.exp(-c*r**2)\n",
    "\n",
    "    # define the Hamiltonian\n",
    "    hamiltonian = (-1/2)*(sy.diff(psi, r, r) + (2/r)*sy.diff(psi, r)) - (1/r)*psi\n",
    "\n",
    "    # define the volume of integration\n",
    "    dv = 4*sy.pi*r**2\n",
    "\n",
    "    # define the numerator of the variational principle\n",
    "    num = sy.N(sy.integrate(psi*hamiltonian*dv, (r, 0, sy.oo)))\n",
    "\n",
    "    # define the denominator of the variational principle\n",
    "    den = sy.N(sy.integrate(psi*psi*dv, (r, 0, sy.oo)))\n",
    "\n",
    "    # calculate the energy\n",
    "    E = num/den\n",
    "\n",
    "    # print the current value of c and E \n",
    "    #print(\"c = {:.6f}, Energy = {:.10f}\".format(c, E))\n",
    "\n",
    "    # return E to the minimize function\n",
    "    return E\n",
    "\n",
    "# set an initial value for the variational parameter 'c'\n",
    "c = 3\n",
    "bnds = ((0,10),)\n",
    "# call the minimize function, tell it the parameter to vary, c, and tell it the tolerance for convergence\n",
    "hydrogen_gs = minimize(min_energy, c, tol=1e-6, bounds=bnds)\n",
    "\n",
    "print(hydrogen_gs)"
   ]
  },
  {
   "cell_type": "markdown",
   "metadata": {},
   "source": [
    "# Brownian Motion Simulation"
   ]
  },
  {
   "cell_type": "markdown",
   "metadata": {},
   "source": [
    "Brownian motion named after its discoverer, botanist Robert Brown, is the motion exhibited by a small particle totally immersed in a liquid or gas. It is an example of a **stochastic process**, referring to a family of random variables indexed against some other variable or set of variables. Stochastic processes are used as mathematical models of systems appearing to vary in a random manner such as growth of a bacterial population, decay of radioactive elements or the movement of a gas molecule; with Brownian motion being one of the most useful stochastic processes in applied probability theory. **We are going to simulate a gas molecule moving around a 3-dimensional box** using NumPy and matplotlib. First lets cover the maths required to model the random motion of our gas molecule, it ends up being much simpler than it looks!"
   ]
  },
  {
   "cell_type": "markdown",
   "metadata": {},
   "source": [
    "## Mathematics"
   ]
  },
  {
   "cell_type": "markdown",
   "metadata": {},
   "source": [
    "A stochastic process, \\\\(X(t)\\\\), is said to be a Brownian motion process if\\\\(^{[3]}\\\\):\n",
    "\n",
    "* \\\\(X(0)=0\\\\) is certain, i,e, has probability 1. \n",
    "* \\\\(\\lbrace X(t), t \\ge 0\\rbrace \\\\) has stationary and independant increments.\n",
    "* For every \\\\(t>0\\\\), \\\\(X(t)\\\\) is normally distributed with mean, \\\\(\\mu = 0\\\\) and variance \\\\(\\sigma^2 = 1\\\\).\n",
    "\n",
    "\\\\[\n",
    "\\begin{aligned}\n",
    "    X(t_2) - X(t_1) &\\approx \\sqrt{t_2 - t_1}\\mathcal{N}(\\mu,\\sigma^2) \\\\\n",
    "          dX(t_i)   &\\approx \\sqrt{\\Delta t}\\mathcal{N}(0,1)\n",
    "\\end{aligned}\n",
    " \\tag{10}\n",
    "\\\\]\n",
    "where \\\\(\\mathcal{N}(\\mu,\\sigma^2)\\\\) denotes the normal distribution. In order to simulate this in Python, we need to start by discretizing our time interval \\\\([0,T]\\\\) into \\\\(N\\\\) time steps, \\\\(\\Delta t\\\\):"
   ]
  },
  {
   "cell_type": "code",
   "execution_count": null,
   "metadata": {},
   "outputs": [],
   "source": [
    "import numpy as np \n",
    "import matplotlib.pyplot as plt\n",
    "from matplotlib.animation import FuncAnimation # call the animation module of matplotlib\n",
    "from IPython.display import HTML               # this is only required when running the code in the Jupyter notebook\n",
    "import mpl_toolkits.mplot3d.axes3d as p3       # this imports the 3d axis option from matplotlib otherwise we only have access to 2d space! \n",
    "\n",
    "fig = plt.figure()\n",
    "ax = p3.Axes3D(fig)\n",
    "\n",
    "T = 1    # this is an arbitrary time unit\n",
    "N = 1000 # number of steps\n",
    "dt = T/N # the ratio gives the time step increment"
   ]
  },
  {
   "cell_type": "markdown",
   "metadata": {},
   "source": [
    "Similar to before, we initiate the `figure` object using `plt.figure()` but this time we initialise the axis object as a 3d axis object using `p3.Axes3D(fig)` which tells matplotlib to accept and display \\\\(x, y, z\\\\) data to form a 3D plot.\n",
    "\n",
    "As our as molecule is moving inside a **box** we need to know its \\\\(x\\\\), \\\\(y\\\\) and \\\\(z\\\\) coordinates in order to map its path as it moves through the box. Equation (10) shows us that this is just the product of the square root of the time interval, \\\\(\\Delta t\\\\) and a random number from the standard normal distribution, \\\\(\\mathcal{N}(0,1)\\\\). There is an inbuilt NumPy function to do just this called:\n",
    "\n",
    "[`np.random.randn(d0,d1,...,dn)`](https://docs.scipy.org/doc/numpy-1.14.0/reference/generated/numpy.random.randn.html)\n",
    "\n",
    "which generates a random number from the standard normal distribution with specified shape `d0,d1,...,dn`. Keep re-running the cell and you will see a new number output each time:"
   ]
  },
  {
   "cell_type": "code",
   "execution_count": null,
   "metadata": {},
   "outputs": [],
   "source": [
    "# single random number from the standard normal distribution\n",
    "print(np.random.randn(1))\n",
    "\n",
    "# array of size 2,4 filled with random numbers from the standard normal distribution\n",
    "print(np.random.randn(2, 4))"
   ]
  },
  {
   "cell_type": "markdown",
   "metadata": {},
   "source": [
    "We will label the changes in each coordinate as `dX, dY, dZ` respectively, <font color='red'>don't forget to assign the dZ variable</font>:"
   ]
  },
  {
   "cell_type": "code",
   "execution_count": null,
   "metadata": {},
   "outputs": [],
   "source": [
    "dX = np.sqrt(dt) * np.random.randn(1, N)\n",
    "dY = np.sqrt(dt) * np.random.randn(1, N)\n"
   ]
  },
  {
   "cell_type": "markdown",
   "metadata": {},
   "source": [
    "By using NumPy we have arrays which contain all the changes in coordinates for the entire simulation, no looping required! `dX, dY, dZ` represent the **changes** in position but not the position itself. In order to do this we need to cumulatively add each number in the array in order to represent the new position of the particle at each time step; achievable using a `for` loop but there is a function in NumPy designed for this exact purpose, [`np.cumsum()`](https://numpy.org/doc/stable/reference/generated/numpy.cumsum.html):"
   ]
  },
  {
   "cell_type": "code",
   "execution_count": null,
   "metadata": {},
   "outputs": [],
   "source": [
    "# create a list of integers\n",
    "lst = [1, 3, 5, 7, 9]\n",
    "\n",
    "# call cumsum on the list to cumulatively add the elements\n",
    "# 1 + 3 = 4   ->   4 + 5 = 9   ->   9 + 7 = 16   ->   16 + 9 = 25\n",
    "np.cumsum(lst)"
   ]
  },
  {
   "cell_type": "markdown",
   "metadata": {},
   "source": [
    "We can apply this function to our arrays resulting in a new array which contains the actual \\\\(x\\\\), \\\\(y\\\\) and \\\\(z\\\\) coordinates of our gas molecule"
   ]
  },
  {
   "cell_type": "code",
   "execution_count": null,
   "metadata": {},
   "outputs": [],
   "source": [
    "X = np.cumsum(dX) # Cumulatively add to get the x positions of the particle\n",
    "Y = np.cumsum(dY) # Cumulatively add to get the y positions of the particle\n",
    "Z = np.cumsum(dZ) # Cumulatively add to get the z positions of the particle"
   ]
  },
  {
   "cell_type": "markdown",
   "metadata": {},
   "source": [
    "We now have arrays that hold the coordinates of the gas molecule for the entire simulation; and now move onto how matplotlib  can animate the path taken by the molecule."
   ]
  },
  {
   "cell_type": "markdown",
   "metadata": {},
   "source": [
    "## Simulation"
   ]
  },
  {
   "cell_type": "markdown",
   "metadata": {},
   "source": [
    "<font color='red'>We first create a `line` object</font> which sets the desired attributes, which in this case are that it’s coloured blue and has a line weight (thickness), `lw` of 1. Note the comma after line, required as the output of `ax.plot` is a tuple or list containing 1 item. The comma unpacks the value out of the list into a variable which the rest of the program can use: \n",
    "\n",
    "`line, = ax.plot(X, Y, Z, color='blue', lw=1)`"
   ]
  },
  {
   "cell_type": "code",
   "execution_count": null,
   "metadata": {},
   "outputs": [],
   "source": []
  },
  {
   "cell_type": "markdown",
   "metadata": {},
   "source": [
    "Matplotlib has a useful function called [`FuncAnimation()`](https://matplotlib.org/api/_as_gen/matplotlib.animation.FuncAnimation.html#matplotlib.animation.FuncAnimation) which has the ability to create an animation by repeatedly calling a function which we will now define. This function requires a single argument which updates the line plot each step; the argument acting as a iterator to iterate through the coordinates in the arrays. Matplotlib handles 2D and 3D data seperately meaning we use `set_data` to declare the \\\\(x,y\\\\) data and set the third dimension, the 'depth' separately using `set_3d_properties()`:"
   ]
  },
  {
   "cell_type": "code",
   "execution_count": null,
   "metadata": {},
   "outputs": [],
   "source": [
    "def animate(i):\n",
    "    '''\n",
    "    Fill in the docstring!\n",
    "    '''\n",
    "    line.set_data(X[:i], Y[:i])   # set the x,y data \n",
    "    line.set_3d_properties(Z[:i]) # the third dimension is treated separately in matplotlib and is set as the 3d property using .set_3d_properties\n",
    "\n",
    "    return line # return the updated line object to the FuncAnimation function"
   ]
  },
  {
   "cell_type": "markdown",
   "metadata": {},
   "source": [
    "Finally we call `FuncAnimation` which repeatedly calls our `animate()` function:"
   ]
  },
  {
   "cell_type": "code",
   "execution_count": null,
   "metadata": {},
   "outputs": [],
   "source": [
    "anim = FuncAnimation(fig, animate, interval=10, frames=N, repeat=False)\n",
    "# fig calls the figure object we created above so it can update the figure with each coordinate position of our molecule\n",
    "# animate is the name of our function we defined above which FuncAnimation is going to loop through \n",
    "# interval sets the delay between frames in milliseconds\n",
    "# frames represents the total number of frames to show, which we set to the total number of time steps\n",
    "# repeat can be set to True|False if you want the animation to loop"
   ]
  },
  {
   "cell_type": "markdown",
   "metadata": {},
   "source": [
    "If you are running this in the Jupyter notebook, then you will need to call a unique command which is not required if running locally. This is due to the way the web browser handles the animation and instead needs it to be processed as a html5 video tag. If running locally you only need to call `plt.draw()` followed by `plt.show()`:"
   ]
  },
  {
   "cell_type": "code",
   "execution_count": null,
   "metadata": {},
   "outputs": [],
   "source": [
    "HTML(anim.to_html5_video()) # This is just for the Jupyter notebook which will not show the animation when using plt.show()\n",
    "\n",
    "# if running locally, uncomment this line and remove the HTML command above.\n",
    "#plt.show()"
   ]
  },
  {
   "cell_type": "markdown",
   "metadata": {},
   "source": [
    "After a short delay you should see your gas molecule's trajectory as it moves around the box! <font color='red'>An interesting extension to this program is to add in more than 1 gas molecule; have a go and experiment!</font>"
   ]
  },
  {
   "cell_type": "markdown",
   "metadata": {},
   "source": [
    "## Complete Brownian Motion Simulation Code"
   ]
  },
  {
   "cell_type": "code",
   "execution_count": null,
   "metadata": {},
   "outputs": [],
   "source": [
    "import numpy as np\n",
    "import matplotlib.pyplot as plt\n",
    "from matplotlib.animation import FuncAnimation\n",
    "from IPython.display import HTML\n",
    "import mpl_toolkits.mplot3d.axes3d as p3\n",
    "import numpy as np\n",
    "import matplotlib.pyplot as plt\n",
    "\n",
    "fig = plt.figure()\n",
    "ax = p3.Axes3D(fig)\n",
    "\n",
    "N = 2000 # Number of points\n",
    "T = 1.0\n",
    "dt = T/(N-1)\n",
    "\n",
    "dX = np.sqrt(dt) * np.random.randn(1, N)\n",
    "X = np.cumsum(dX) # Cumulatively add these values to get the x positions of the particle\n",
    "\n",
    "dY = np.sqrt(dt) * np.random.randn(1, N) \n",
    "Y = np.cumsum(dY) # Cumulatively add these values to get the y positions of the particle\n",
    "\n",
    "dZ = np.sqrt(dt) * np.random.randn(1, N) \n",
    "Z = np.cumsum(dZ) # Cumulatively add these values to get the z positions of the particle\n",
    "\n",
    "line, = ax.plot(X, Y, Z, color='blue', lw=1)\n",
    "\n",
    "def animate(i):\n",
    "    '''\n",
    "    This function is iterated over by FuncAnimation to produce the frames necessary to produce the animation \n",
    "    \n",
    "    Parameters:\n",
    "    -----------\n",
    "    i : int\n",
    "        This is the index used to iterate through the coordinate arrays\n",
    "    \n",
    "    Returns:\n",
    "    --------\n",
    "    line : mpl_toolkits.mplot3d.art3d.Line3D\n",
    "           This contains the line information which is updated each time the function is iterated over\n",
    "    '''\n",
    "    line.set_data(X[:i], Y[:i])\n",
    "    line.set_3d_properties(Z[:i])\n",
    "\n",
    "    return line\n",
    "\n",
    "anim = FuncAnimation(fig, animate, interval=10, frames=N, repeat=False)\n",
    "\n",
    "HTML(anim.to_html5_video()) # This is just for the Jupyter notebook which will not show the animation when using plt.show()\n",
    "\n",
    "# if running locally, uncomment these two lines and remove the HTML command above.\n",
    "#plt.show()"
   ]
  },
  {
   "cell_type": "markdown",
   "metadata": {},
   "source": [
    "# References\n",
    "\n",
    "[1] Quantum Mechanics, F. Mandl, 1992, Wiley & Sons, page 56.\n",
    "\n",
    "[2] Quantum Mechanics, F. Mandl, 1992, Wiley & Sons, page 187.\n",
    "\n",
    "[3] Introduction to Probability Models 10th Edition, S. M. Ross, 2010, Elsevier, page 632."
   ]
  }
 ],
 "metadata": {
  "kernelspec": {
   "display_name": "Python 3",
   "language": "python",
   "name": "python3"
  },
  "language_info": {
   "codemirror_mode": {
    "name": "ipython",
    "version": 3
   },
   "file_extension": ".py",
   "mimetype": "text/x-python",
   "name": "python",
   "nbconvert_exporter": "python",
   "pygments_lexer": "ipython3",
   "version": "3.7.7"
  }
 },
 "nbformat": 4,
 "nbformat_minor": 4
}
