{
 "cells": [
  {
   "cell_type": "markdown",
   "metadata": {},
   "source": [
    "# Programming For Chemists: Control Flow Statements"
   ]
  },
  {
   "cell_type": "markdown",
   "metadata": {},
   "source": [
    "**Importance for scientists:**\n",
    "* Control flow statements allow for programs to make rudimentary decisions based on input or output.\n",
    "* They allow for autonomous looping over large sets of data without manually having to manipulate them; the essence of computation.\n",
    "* They can save a scientist valuable time by automation of many tasks.\n",
    "* **You make the computer work for you**.\n",
    "\n",
    "Control flow is the order in which a program’s code executes. The control flow of a Python program is regulated by conditional statements, loops, and function calls which will be covered in this session. First we will discuss how you can program a **decision** into your program using `if` statements."
   ]
  },
  {
   "cell_type": "markdown",
   "metadata": {},
   "source": [
    "## The if Statement"
   ]
  },
  {
   "cell_type": "markdown",
   "metadata": {},
   "source": [
    "`if` statements are control flow statements used to run particular code only when a certain condition is satisfied; e.g. you want to end a program when a particular value is calculated. \n",
    "\n",
    "* The `if...elif...else` statements are used in Python for decision making and are one of the most common control flow statements you will use. Practically it means:\n",
    "\n",
    "    `if condition 1 is met then run code A. else if condition 2 is met run code B. if neither of these conditions are satisfied, run code C`.\n",
    "\n",
    "* Let's now turn this pseudo-code into Python code in conjunction with the conditionals we learned about in session 2:\n",
    "\n",
    "<center><img src=\"https://raw.githubusercontent.com/adambaskerville/ProgrammingForChemists/master/images/if_statement_syntax.png\" width=\"900\" height=\"900\" /></center>\n",
    "\n",
    "*  <font color='red'>Complete the following implementation of the picture. Change the values of `x` and `y` to test the various outputs:</font>"
   ]
  },
  {
   "cell_type": "code",
   "execution_count": null,
   "metadata": {},
   "outputs": [],
   "source": [
    "x = 2\n",
    "\n",
    "if x > y: # Condition 1: If x is greater than y\n",
    "    print(\"x is greater than y!\") # Code A\n",
    "elif :\n",
    "    "
   ]
  },
  {
   "cell_type": "markdown",
   "metadata": {},
   "source": [
    "* There can be zero or more `elif` parts, and the `else` part is optional. \n",
    "* The keyword `elif` is short for `else if`, and is useful to avoid excessive indentation. \n",
    "* The result of `if..elif...else` statements evaluate to **Booleans**: `True` or `False` depending on the condition so are valid across Python data types. \n",
    "\n",
    "**Two very important syntax rules:**\n",
    "\n",
    "1. Always include colons at the end of the `if`, `elif` and `else` lines.\n",
    "2. Never miss the indentation (spaces or tabs) after the conditional statements. Most programming languages like C, C++, and Java use braces `{ }` to define where a block of code starts and ends whereas Python uses **indentation**. A code block (body of a function, `if` statement, etc...) starts with indentation and ends with the *first unindented line*. The amount of indentation is up to you, but it must be consistent throughout that block as this is how Python determines when a code block has ended. \n",
    "\n",
    "* Tabs vs. spaces is one of the longest running debates in programming and the [original Python style guide](https://www.python.org/dev/peps/pep-0008/#tabs-or-spaces) suggests spaces as the preferred indentation method. I personally use tabs for indentation as they are faster and more convenient, but the choice is up to you! \n",
    "* In the previous session we implemented multiple conditional statements at the same time which also applies for `if` statements. Consider checking if an integer is divisible by 14 **and** is less than 3500: "
   ]
  },
  {
   "cell_type": "code",
   "execution_count": null,
   "metadata": {},
   "outputs": [],
   "source": [
    "x = 1582\n",
    "\n",
    "if (x % 14 == 0) and (x < 3500): # If a number is exactly divisible by another then the remainder (modulus: %) will be 0\n",
    "    print(\"The number is divisible by 14 and is less than 3500\")"
   ]
  },
  {
   "cell_type": "markdown",
   "metadata": {},
   "source": [
    "* Sometimes we might want to make another decision based on the initial decision which can be done by 'nesting' `if` statements. Consider the following example:"
   ]
  },
  {
   "cell_type": "code",
   "execution_count": null,
   "metadata": {},
   "outputs": [],
   "source": [
    "username = 'Adam1'\n",
    "password = 'sherlock123'\n",
    "    \n",
    "if username == 'Adam1':\n",
    "    if len(password) < 6:\n",
    "        print(\"Your password is too short\")\n",
    "    else:\n",
    "        print(\"Your password is a good length\")\n",
    "else:\n",
    "    print(\"Username not recognised.\")"
   ]
  },
  {
   "cell_type": "markdown",
   "metadata": {},
   "source": [
    "* Python sets a maximum number of nested static code blocks to **20** which is to keep memory usage at a sane level when executing nested blocks. If you feel you need more than 20 nested `if` statements then there is certainly a better way to implement your code."
   ]
  },
  {
   "cell_type": "markdown",
   "metadata": {},
   "source": [
    "## The for Loop"
   ]
  },
  {
   "cell_type": "markdown",
   "metadata": {},
   "source": [
    "`for` loops are synonymous with automation, highlighting a computers real talent for running the same command repeatedly:\n",
    "\n",
    "* `for` loops iterate over a collection of items, such as a list or dictionary, and run a block of code with each element from the collection. \n",
    "* Consider dividing each item in a list by 3 and printing the remainder of the division:"
   ]
  },
  {
   "cell_type": "code",
   "execution_count": null,
   "metadata": {},
   "outputs": [],
   "source": [
    "for i in [0, 1, 2, 3, 4, 5, 6]:\n",
    "    print(i % 3)"
   ]
  },
  {
   "cell_type": "markdown",
   "metadata": {},
   "source": [
    "* **Note again the importance of indentation**. We can rewrite the previous example using the `range` function which returns a series of numbers under an iterable form and is commonplace in `for` loops:"
   ]
  },
  {
   "cell_type": "code",
   "execution_count": null,
   "metadata": {},
   "outputs": [],
   "source": [
    "for i in range(7):\n",
    "    print(i % 3)"
   ]
  },
  {
   "cell_type": "markdown",
   "metadata": {},
   "source": [
    "* This gives the exact same result as the first `for` loop. \n",
    "* Note that the integer in `range` is set to 7 not 6 as `range` uses the first 6 numbers counting from 0, i.e. 0, 1, 2, 3, 4, 5 so we add one to get 0, 1, 2, 3, 4, 5, 6. \n",
    "* `range` also accepts a second integer argument meaning ranges between numbers can be specified:"
   ]
  },
  {
   "cell_type": "code",
   "execution_count": null,
   "metadata": {},
   "outputs": [],
   "source": [
    "# Loop over all numbers from 0 -> 9 (10 numbers)\n",
    "for i in range(10):\n",
    "    print(i)\n",
    "\n",
    "print(\"\\n\") # This inserts a newline character to separate the print outs\n",
    "\n",
    "# Loop over all numbers from 5 -> 10 (5 numbers)\n",
    "for i in range(5,10):\n",
    "    print(i)"
   ]
  },
  {
   "cell_type": "markdown",
   "metadata": {},
   "source": [
    "* In session 2 we discussed the possible pitfalls of floating point rounding errors which are now further highlighted using `for` loops. Consider adding 0.1 to 0.2 a million times using a **cumulative sum**:"
   ]
  },
  {
   "cell_type": "code",
   "execution_count": null,
   "metadata": {},
   "outputs": [],
   "source": [
    "a = 0.2 # We tell Python the initial value of a\n",
    "for i in range(1000000):\n",
    "    a += 0.1  #This is the same as writing: a = a + 0.1\n",
    "    \n",
    "print(a)"
   ]
  },
  {
   "cell_type": "markdown",
   "metadata": {},
   "source": [
    "* Note our use of the syntax `+=` which is equivalent to a = a + 1 (new a = old a + 1). \n",
    "* The exact answer is `a = 100000.2`, and we can see that the error is now present at the 6th decimal place which is much more significant than we saw before. \n",
    "* When using loops in your program, especially nested `for` loops, take note of the possible sources of floating point rounding error and check that errors do not accumulate as your program runs. \n",
    "* A better option is to remove unnecessary loops and leverage mathematics where possible. In the previous example there is no need to use a `for` loop as it can simply be calculated as:"
   ]
  },
  {
   "cell_type": "code",
   "execution_count": null,
   "metadata": {},
   "outputs": [],
   "source": [
    "a = 0.2 + (1000000 * 0.1)\n",
    "\n",
    "print(a) # Notice there is no rounding error here even though we use 0.1 which is non-representable exactly in binary?\n",
    "         # In Python 3 results printed to the screen are a string representation of the object. They pass through the repr() function in Python which chooses how best to represent the object."
   ]
  },
  {
   "cell_type": "markdown",
   "metadata": {},
   "source": [
    "* If you want to loop through both the elements of a list **and** have an index for the elements as well, you can use Python's `enumerate` function:"
   ]
  },
  {
   "cell_type": "code",
   "execution_count": null,
   "metadata": {},
   "outputs": [],
   "source": [
    "for index, item in enumerate(['volume', 'pressure', 'temperature', 'velocity']):\n",
    "    print(index, '::', item)"
   ]
  },
  {
   "cell_type": "markdown",
   "metadata": {},
   "source": [
    "* `enumerate` will generate tuples, which are unpacked into index (an integer) and item (the actual value from the list)"
   ]
  },
  {
   "cell_type": "markdown",
   "metadata": {},
   "source": [
    "### Exercise"
   ]
  },
  {
   "cell_type": "markdown",
   "metadata": {},
   "source": [
    "<font color='red'>Why won't this program run?:</font>"
   ]
  },
  {
   "cell_type": "code",
   "execution_count": null,
   "metadata": {},
   "outputs": [],
   "source": [
    "for i in range(10)\n",
    "    print i * 10)"
   ]
  },
  {
   "cell_type": "markdown",
   "metadata": {},
   "source": [
    "## The while Loop\n",
    "\n",
    "`while` loops allow us to execute a set of statements as long as a condition is `True`. Consider printing numbers less than 10, `while x is less than 10, print that number. If x >= 10 stop`:"
   ]
  },
  {
   "cell_type": "code",
   "execution_count": null,
   "metadata": {},
   "outputs": [],
   "source": [
    "x = 1\n",
    "\n",
    "while x < 10:\n",
    "    print(x)\n",
    "\n",
    "    x += 1 # increment the value of x by 1"
   ]
  },
  {
   "cell_type": "markdown",
   "metadata": {},
   "source": [
    "* We need to increment `x` by 1 at the end of each loop cycle otherwise the `while` loop will continue forever as `x` will always be equal to 1.  "
   ]
  },
  {
   "cell_type": "markdown",
   "metadata": {},
   "source": [
    "### The break Statement\n",
    "\n",
    "With the `break` statement we can stop a loop even if the `while` condition is `True`:"
   ]
  },
  {
   "cell_type": "code",
   "execution_count": null,
   "metadata": {},
   "outputs": [],
   "source": [
    "x = 1\n",
    "\n",
    "while x < 10:\n",
    "    print(x)\n",
    "    if x == 6:\n",
    "        break\n",
    "    x += 1 "
   ]
  },
  {
   "cell_type": "markdown",
   "metadata": {},
   "source": [
    "* As soon as the condition `x == 6` is satisfied the loop gets the command to `break` and will exit the entire loop."
   ]
  },
  {
   "cell_type": "markdown",
   "metadata": {},
   "source": [
    "### The continue Statement\n",
    "\n",
    "With the `continue` statement we can stop the current iteration, and continue with the next. In this example we print out numbers less than 6 but skip the number 3:"
   ]
  },
  {
   "cell_type": "code",
   "execution_count": null,
   "metadata": {},
   "outputs": [],
   "source": [
    "x = 0\n",
    "\n",
    "while x < 6:\n",
    "    x += 1\n",
    "    if x == 3:\n",
    "        continue\n",
    "    \n",
    "    print(x)"
   ]
  },
  {
   "cell_type": "markdown",
   "metadata": {},
   "source": [
    "* There is a similar statement to `continue` called `pass`. `pass` just means 'no operation', it does not do anything, whereas in comparison `continue` breaks a loop and jumps to the next loop iteration:"
   ]
  },
  {
   "cell_type": "code",
   "execution_count": null,
   "metadata": {},
   "outputs": [],
   "source": [
    "x = True\n",
    "\n",
    "while x:\n",
    "    x = False\n",
    "    continue\n",
    "    print(\"This will not print\") # continue breaks the loop and starts the next loop iteration without encountering this line\n",
    "\n",
    "y = True\n",
    "while y:\n",
    "    y = False\n",
    "    pass\n",
    "    print(\"This will print\") # pass doesn't do anything so lines after calling it are executed"
   ]
  },
  {
   "cell_type": "markdown",
   "metadata": {},
   "source": [
    "### The else Statement\n",
    "\n",
    "`else` statements can be used in conjunction with `while` loops just as we did with `if` statements."
   ]
  },
  {
   "cell_type": "code",
   "execution_count": null,
   "metadata": {},
   "outputs": [],
   "source": [
    "x = 1\n",
    "while x < 6:\n",
    "    print(x)\n",
    "    x += 1\n",
    "else:\n",
    "    print(\"x is no longer less than 6\")"
   ]
  },
  {
   "cell_type": "markdown",
   "metadata": {},
   "source": [
    "### List Comprehension\n",
    "\n",
    "List comprehension is an elegant way to define and create lists based on existing lists. \n",
    "\n",
    "* Common applications are to make new lists where each element is the result of some operation applied to each member of another sequence or iterable. \n",
    "* List comprehension combines lists, `for` loops and optionally `if` statements. The syntax is as follows:\n",
    "\n",
    "    `[expression for element in iterable]`\n",
    "\n",
    "* With the optional `if` condition:\n",
    "\n",
    "    `[expression for element in iterable if condition]`\n",
    "\n",
    "* Let's consider an example of using a list comprehension and how you could achieve the same result using regular `for` loop syntax. Consider the chemical formula for ethanol input as a string, and we want to extract each character into a new list to be used somewhere else in the program:\n"
   ]
  },
  {
   "cell_type": "code",
   "execution_count": null,
   "metadata": {},
   "outputs": [],
   "source": [
    "chemical_formula = 'C2H5OH'\n",
    "\n",
    "# Using for loops seperately\n",
    "chem_characters = []\n",
    "for i in chemical_formula:\n",
    "    chem_characters.append(i) \n",
    "\n",
    "print(chem_characters)\n",
    "\n",
    "# Using list comprehension\n",
    "chem_characters = [i for i in chemical_formula]\n",
    "\n",
    "print(chem_characters)"
   ]
  },
  {
   "cell_type": "markdown",
   "metadata": {},
   "source": [
    "* List comprehensions are slightly faster than the precisely equivalent `for` loop syntax but the intended advantage of list comprehension is its elegant syntax, resulting in clear and easily understandable code."
   ]
  },
  {
   "cell_type": "markdown",
   "metadata": {},
   "source": [
    "# Functions\n",
    "\n",
    "Functions are blocks of code which only run when called, behaving similarly to mathematical functions\n",
    "\n",
    "$$ \n",
    "f(x) = x + 6.\n",
    "$$\n",
    "\n",
    "* This function accepts any value of $x$ and will produce the corresponding result. \n",
    "* Functions bundle a set of instructions that are run repeatedly, or due to the complexity of the code, are better self-contained in a sub-program and called when needed. \n",
    "* Functions can take none, single or multiple inputs and output none, single or multiple outputs, and are a **key building block used in scientific computing**.\n",
    "\n",
    "**Defining a function:**\n",
    "\n",
    "* The keyword `def` introduces a function definition and must be followed by the function name and the parenthesized list of input parameters. "
   ]
  },
  {
   "cell_type": "code",
   "execution_count": null,
   "metadata": {},
   "outputs": [],
   "source": [
    "def example_func1(x):\n",
    "    return x + 6\n",
    "\n",
    "def example_func2(x, y, z):\n",
    "    return x + 6, y + 6, z + 6\n",
    "    \n",
    "x = example_func1(4)\n",
    "print(x)\n",
    "\n",
    "x, y, z = example_func2(4, 5, 9)\n",
    "print(x, y, z)"
   ]
  },
  {
   "cell_type": "markdown",
   "metadata": {},
   "source": [
    "* The statements that form the body of the function start at the next line, and must be indented as discussed previously. \n",
    "* The first statement of the function body can optionally be a string; this string is the function’s **documentation string**, or **docstring**. \n",
    "    * Docstrings are used by developers to automatically produce online or printed documentation; but more importantly to explain to readers and users of your code what the purpose of the function is. \n",
    "    * For very simple functions this is not necessary, but it is good practice to include docstrings in code that you write, so make a habit of it. \n",
    "    * In these tutorials we will be using the [numpy docstring convention, PEP257 superset](https://numpydoc.readthedocs.io/en/latest/format.html#docstring-standard) but there are multiple schemes. \n",
    "    \n",
    "* Consider the following function that is an equivalent implementation of the chemical formula code above:"
   ]
  },
  {
   "cell_type": "code",
   "execution_count": null,
   "metadata": {},
   "outputs": [],
   "source": [
    "def chem_formula_to_character(chemical_formula):\n",
    "    '''\n",
    "    This is the function's docstring!\n",
    "    \n",
    "    This function takes a chemical formula input as a string, separates the characters and appends them to a list.\n",
    "    \n",
    "    Parameters\n",
    "    ----------\n",
    "    chemical_formula : string\n",
    "                       This is a chemical formula in string format, e.g. \"H2O\".\n",
    "    \n",
    "    Returns\n",
    "    -------\n",
    "    chem_characters : list\n",
    "                      This list contains the separated characters from the chemical_formula string.\n",
    "    '''\n",
    "    # Using list comprehension\n",
    "    chem_characters = [i for i in chemical_formula]\n",
    "\n",
    "    # Using for loops seperately\n",
    "    chem_characters = []\n",
    "    for i in chemical_formula:\n",
    "        chem_characters.append(i)\n",
    "        \n",
    "    return chem_characters\n",
    "\n",
    "print(chem_formula_to_character('C2H5OH'))\n",
    "print(chem_formula_to_character('H2O'))\n",
    "print(chem_formula_to_character('C9H8O4'))"
   ]
  },
  {
   "cell_type": "markdown",
   "metadata": {},
   "source": [
    "# Worked Example: Sum of Multiples"
   ]
  },
  {
   "cell_type": "markdown",
   "metadata": {},
   "source": [
    "Now we know the basics of `if` statements, `for` and `while` loops we will put our knowledge to the test and answer the [first question](https://projecteuler.net/problem=1) from Project Euler, similar to the **fizz buzz** interview question for programmers:\n",
    "\n",
    "<p style=\"text-align: center;\">\n",
    "\"If we list all the natural numbers below 10 that are multiples of 3 or 5, we get 3, 5, 6 and 9. The sum of these multiples is 23. Find the sum of all the multiples of 3 or 5 below 1000.\"\n",
    "</p>\n",
    "\n",
    "There are usually multiple ways to solve a problem; and there are some very succinct ways of solving this problem using more advanced Python, but it is perfectly solvable using just `if` and `for` statements in conjunction with what we learned about lists in session 2. **Firstly, let's replicate the given information about multiples of 3 and 5 below 10 by:**\n",
    "\n",
    "1. Storing the natural numbers below 10 in a list.\n",
    "2. Creating two empty lists, one to store multiples of 3 and one to store multiples of 5.\n",
    "3. We will then loop over the natural number list using a `for` loop and test each number to see if it is divisible by 3 or 5 using the modulus operator, `%`. If the number is divisible by 3 or 5, it is appended to its relevant list which we then sum together after the `for` loop using the inbuilt `sum` function in Python which adds the items of an iterable object:"
   ]
  },
  {
   "cell_type": "code",
   "execution_count": null,
   "metadata": {},
   "outputs": [],
   "source": [
    "# Create list of natural numbers below 10\n",
    "natural_num_list = [0, 1, 2, 3, 4, 5, 6, 7, 8, 9]\n",
    "\n",
    "# Create two empty lists, one for multiples of 3 and one for multiples of 5\n",
    "mul_3 = []\n",
    "mul_5 = []\n",
    "\n",
    "# We now want to loop over the list of numbers\n",
    "for i in natural_num_list:\n",
    "    if (i % 3 == 0): # If number is exactly divisible by 3\n",
    "        mul_3.append(i) # If True then append the number to the multiples of 3 list\n",
    "    elif (i % 5 == 0): # If number is exactly divisible by 5\n",
    "        mul_5.append(i) # If True then append the number to the multiples of 5 list\n",
    "    else:\n",
    "        pass # If neither condition is True then carry on\n",
    "\n",
    "# Add the multiples together\n",
    "sum_multiples = sum(mul_3) + sum(mul_5)\n",
    "\n",
    "print(sum_multiples)"
   ]
  },
  {
   "cell_type": "markdown",
   "metadata": {},
   "source": [
    "* Excellent! we have replicated the given information which is a worthwhile habit to learn as your programming progresses. \n",
    "* Testing your program on model systems, known input and output or literature data is one of the primary ways to check your program is functioning as expected; \n",
    "    * **remember a program will produce numbers but it does not know if those numbers are correct; that is the job of the human programming it.** \n",
    "\n",
    "* We can now modify our program to find the multiples of 3 and 5 below 1000; which we will do by using `for` loops and the equivalent list comprehension to build a variable size list of the natural numbers, rather than having to manually type them all: "
   ]
  },
  {
   "cell_type": "code",
   "execution_count": null,
   "metadata": {},
   "outputs": [],
   "source": [
    "# for loop notation\n",
    "natural_num_list = []\n",
    "for x in range(10):\n",
    "    natural_num_list.append(x)\n",
    "\n",
    "print(natural_num_list)\n",
    "\n",
    "# Equivalent, more compact list comprehension notation\n",
    "natural_num_list = [x for x in range(10)]\n",
    "\n",
    "print(natural_num_list)"
   ]
  },
  {
   "cell_type": "code",
   "execution_count": null,
   "metadata": {},
   "outputs": [],
   "source": [
    "# There are more comments here than should usually be written. This is just because we are learning!\n",
    "\n",
    "# Create list of natural numbers below 1000\n",
    "natural_num_list = [x for x in range(1000)]\n",
    "\n",
    "# Create two empty lists, one for multiples of 3 and one for multiples of 5\n",
    "mul_3 = []\n",
    "mul_5 = []\n",
    "\n",
    "# We now want to loop over the list of numbers\n",
    "for i in natural_num_list:\n",
    "    if (i % 3 == 0) :   # If number is exactly divisible by 3\n",
    "        mul_3.append(i) # If True then append the number to the multiples of 3 list\n",
    "    elif (i % 5 == 0):  # If number is exactly divisible by 5\n",
    "        mul_5.append(i) # If True then append the number to the multiples of 5 list \n",
    "    else:\n",
    "        pass # If neither condition is True then pass\n",
    "\n",
    "# Add the multiples together as required\n",
    "sum_multiples = sum(mul_3) + sum(mul_5)\n",
    "\n",
    "print(sum_multiples)"
   ]
  },
  {
   "cell_type": "markdown",
   "metadata": {},
   "source": [
    "* **Which is the correct answer!**\n",
    "* We can go one step further and use list comprehension to compress the entire program into just a single line:"
   ]
  },
  {
   "cell_type": "code",
   "execution_count": null,
   "metadata": {},
   "outputs": [],
   "source": [
    "print(sum([i for i in range(1000) if i % 3 == 0 or i % 5 == 0]))"
   ]
  },
  {
   "cell_type": "markdown",
   "metadata": {},
   "source": [
    "* We have produced several equivalent programs which correctly calculate the answer, but do we even need to use `for` loops, `if` statements or lists? \n",
    "    * There are times where sitting down with a problem and analysing it carefully can reveal alternative solutions using more elegant mathematics than 'brute forcing' it with loops. \n",
    "    * We could instead solve this problem using the [**inclusion-exclusion principle**](https://mathworld.wolfram.com/Inclusion-ExclusionPrinciple.html) from a branch of mathematics called *combinatorics* which is described at the **end of this workbook** as an alternative solution to this probelm without requiring any `for` loops.  "
   ]
  },
  {
   "cell_type": "markdown",
   "metadata": {},
   "source": [
    "## Review\n",
    "\n",
    "In this session we covered:\n",
    "\n",
    "* `if`, `elif` and `else` statements which allow us to include decisions within our program.\n",
    "* `for` loops which allows us to iterate over a collection of items.\n",
    "* `while` loops which allow us to execute a set of statements as long as a condition is `True`.\n",
    "* List comprehension using a combination of lists, `if` statements and `for` loops.\n",
    "* `Functions` which only run when called, behaving similarly to mathematical functions."
   ]
  },
  {
   "cell_type": "markdown",
   "metadata": {},
   "source": [
    "## Exercise"
   ]
  },
  {
   "cell_type": "markdown",
   "metadata": {},
   "source": [
    "Each new term in the Fibonacci sequence is generated by adding the previous two terms, e.g. 1 + 2 = 3 -> 2 + 3 = 5 -> 3 + 5 = 8 etc... By starting with 1 and 2, the first 10 terms will be:\n",
    "\n",
    "\\\\[1, 2, 3, 5, 8, 13, 21, 34, 55, 89, \\ldots\\\\]\n",
    "\n",
    "By considering the terms in the Fibonacci sequence whose values do **not exceed four million**, find the sum of the **even-valued** terms. Below is a code which generates the Fibonacci sequence and your task is to modify it in order to find the sum of these **even-valued** terms."
   ]
  },
  {
   "cell_type": "code",
   "execution_count": null,
   "metadata": {},
   "outputs": [],
   "source": [
    "x = 0\n",
    "y = 1\n",
    "\n",
    "no_fib_iters = 10 # number of steps to take in the Fibonacci sequence\n",
    "\n",
    "fib = [] # Create empty list to store the Fibonacci numbers\n",
    "for i in range(no_fib_iters):\n",
    "    fib_current = x + y # current Fibonnaci value\n",
    "\n",
    "    x = y # assign the second value in the sum to the first value for the next sum\n",
    "    y = fib_current \n",
    "\n",
    "    fib.append(fib_current)\n",
    "\n",
    "print(fib)"
   ]
  },
  {
   "cell_type": "markdown",
   "metadata": {},
   "source": [
    "**Hints**: \n",
    "\n",
    "* Start by generating the given Fibonnaci sequence by running the code to understand how it works.\n",
    "* Copy, paste and edit the code to handle the summation part of the problem, a `while` loop may be useful.\n",
    "* Extract out the even numbers from this sequence and add together, making sure no terms in the Fibonacci sequence exceed 4 million.\n",
    "* The answer is **4613732**.\n",
    "* **If you are stuck:** An example code answer is at the bottom of this notebook."
   ]
  },
  {
   "cell_type": "markdown",
   "metadata": {},
   "source": [
    "## Alternative solution to sums of multiples"
   ]
  },
  {
   "cell_type": "markdown",
   "metadata": {},
   "source": [
    "If the items in sets can be in any of several sets (multiples of 3 and multiples of 5 being the sets), add the totals for each set, subtract the number of things that are in exactly two of the sets (in this case multiples of 15 which are double counted):\n",
    "\n",
    "$$\n",
    "\\underbrace{\\sum\\limits_{k_1 = 1}^{333}3k_1\\phantom{15}}_{\\text{Sum 1}} + \\underbrace{\\sum\\limits_{k_2 = 1}^{199}5k_2 \\phantom{15}}_{\\text{Sum 2}} - \\underbrace{\\sum\\limits_{k_3 = 1}^{66}15k_3}_{\\text{Sum 3}} = 166833 + 99500 − 33165 = 233168\n",
    "$$\n",
    "\n",
    "* **Sum 1:** Sum up all numbers, which are multiples of 3: 3, 6, 9, 12, 15, 18, 21,..., 990, 993, 996, 999. We factor out 3 which is why the upper bound is 333, (333 x 3 = 999).\n",
    "\n",
    "* **Sum 2:** Sum up all numbers, which are multiples of 5: 5, 10, 15, 20, 25, 30, 35,..., 990, 995. We factor out 5 which is why the upper bound is 199, (199 x 5 = 995).\n",
    "* **Sum 3:** We have counted multiple numbers twice, e.g. 990 and we need to account for this double counting by subtracting them off the total. We know how many multiples of 15 there will be by dividing the highest multiple of 15 in the range by 15, i.e. 990/15 = 66, hence the third sum ranges from 1 to 66. \n",
    "\n",
    "This solution is more technical compared to the Python codes we just developed but when you stumble across elegant mathematical solutions to a problem that do not require writing code they are nearly always **the preferred solution.**"
   ]
  },
  {
   "cell_type": "markdown",
   "metadata": {},
   "source": [
    "## Fibonacci summation code"
   ]
  },
  {
   "cell_type": "code",
   "execution_count": null,
   "metadata": {},
   "outputs": [],
   "source": [
    "x = 0\n",
    "y = 1\n",
    "\n",
    "num_limit = 4E6 # set the limit of the Fobonacci numbers to be 4000000\n",
    "\n",
    "fib_even = 0 # Start the cumulative sum of even fibonnaci numbers\n",
    "while x <= num_limit:\n",
    "    fib_current = x + y\n",
    "\n",
    "    x = y\n",
    "    y = fib_current\n",
    "\n",
    "    # Test if the number is even\n",
    "    if fib_current % 2 == 0.0:\n",
    "        fib_even += fib_current\n",
    "\n",
    "# run the final sum of even Fibonacci numbers\n",
    "print(fib_even)"
   ]
  },
  {
   "cell_type": "code",
   "execution_count": null,
   "metadata": {},
   "outputs": [],
   "source": [
    "# Below is a more efficient solution\n",
    "\n",
    "def fibonacci_sum_even(limit):\n",
    "    '''\n",
    "    Fill in the docstring for practice!\n",
    "    '''\n",
    "    x, y = 0, 1\n",
    "    while x < limit:\n",
    "        if not x % 2:         \n",
    "            yield x # look here for what the yield function does: https://www.geeksforgeeks.org/use-yield-keyword-instead-return-keyword-python/\n",
    "        x, y = y, x + y\n",
    "\n",
    "print(sum(fibonacci_sum_even(4E6)))"
   ]
  }
 ],
 "metadata": {
  "kernelspec": {
   "display_name": "Python 3",
   "language": "python",
   "name": "python3"
  },
  "language_info": {
   "codemirror_mode": {
    "name": "ipython",
    "version": 3
   },
   "file_extension": ".py",
   "mimetype": "text/x-python",
   "name": "python",
   "nbconvert_exporter": "python",
   "pygments_lexer": "ipython3",
   "version": "3.7.3"
  },
  "toc-autonumbering": true
 },
 "nbformat": 4,
 "nbformat_minor": 4
}
