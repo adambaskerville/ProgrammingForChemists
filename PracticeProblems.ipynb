{
 "cells": [
  {
   "cell_type": "markdown",
   "metadata": {},
   "source": [
    "# Practice Problems\n",
    "\n",
    "Follows are practice problems on various topics we covered in the course. These will make you familar with the Python language and being able to practice writing programs is **invaluable**."
   ]
  },
  {
   "cell_type": "markdown",
   "metadata": {
    "id": "yY8S9kefcVFk"
   },
   "source": [
    "## General Python"
   ]
  },
  {
   "cell_type": "markdown",
   "metadata": {
    "id": "jMXBZO9acWvb"
   },
   "source": [
    "### Problem 1\n",
    "\n",
    "Write a Python program to calculate the volume of a sphere with radius 6."
   ]
  },
  {
   "cell_type": "code",
   "execution_count": null,
   "metadata": {},
   "outputs": [],
   "source": []
  },
  {
   "cell_type": "markdown",
   "metadata": {},
   "source": [
    "#### Answer"
   ]
  },
  {
   "cell_type": "code",
   "execution_count": 1,
   "metadata": {},
   "outputs": [
    {
     "ename": "ModuleNotFoundError",
     "evalue": "No module named 'numpy'",
     "output_type": "error",
     "traceback": [
      "\u001b[0;31m---------------------------------------------------------------------------\u001b[0m",
      "\u001b[0;31mModuleNotFoundError\u001b[0m                       Traceback (most recent call last)",
      "\u001b[0;32m/tmp/ipykernel_1187002/782229853.py\u001b[0m in \u001b[0;36m<module>\u001b[0;34m\u001b[0m\n\u001b[0;32m----> 1\u001b[0;31m \u001b[0;32mimport\u001b[0m \u001b[0mnumpy\u001b[0m \u001b[0;32mas\u001b[0m \u001b[0mnp\u001b[0m\u001b[0;34m\u001b[0m\u001b[0;34m\u001b[0m\u001b[0m\n\u001b[0m\u001b[1;32m      2\u001b[0m \u001b[0;34m\u001b[0m\u001b[0m\n\u001b[1;32m      3\u001b[0m \u001b[0;31m# set the radius\u001b[0m\u001b[0;34m\u001b[0m\u001b[0;34m\u001b[0m\u001b[0;34m\u001b[0m\u001b[0m\n\u001b[1;32m      4\u001b[0m \u001b[0mr\u001b[0m \u001b[0;34m=\u001b[0m \u001b[0;36m6\u001b[0m\u001b[0;34m\u001b[0m\u001b[0;34m\u001b[0m\u001b[0m\n\u001b[1;32m      5\u001b[0m \u001b[0;34m\u001b[0m\u001b[0m\n",
      "\u001b[0;31mModuleNotFoundError\u001b[0m: No module named 'numpy'"
     ]
    }
   ],
   "source": [
    "import numpy as np\n",
    "\n",
    "# set the radius of the sphere\n",
    "r = 6\n",
    "\n",
    "# calculate the volume\n",
    "volume = (4/3)*np.pi*r**3"
   ]
  },
  {
   "cell_type": "markdown",
   "metadata": {
    "id": "7GdVMQY5e7Kz"
   },
   "source": [
    "### Problem 2\n",
    "\n",
    "Write a Python program to test whether a number is within 100 of 1000 or 2000."
   ]
  },
  {
   "cell_type": "code",
   "execution_count": null,
   "metadata": {},
   "outputs": [],
   "source": []
  },
  {
   "cell_type": "markdown",
   "metadata": {},
   "source": [
    "#### Answer"
   ]
  },
  {
   "cell_type": "code",
   "execution_count": null,
   "metadata": {},
   "outputs": [],
   "source": [
    "\n",
    "def near_thousand(n):\n",
    "    '''\n",
    "    This function checks whether a number is within 100 of 1000 or 2000. \n",
    "\n",
    "    The function returns the absolute value of a number. The argument may be an integer or a floating point number. If the argument is a complex number, its magnitude is returned.\n",
    "\n",
    "    Parameters\n",
    "    ----------\n",
    "    n : int, float, complex\n",
    "        One-electron orbital of electron at r1.\n",
    "    \n",
    "    Returns\n",
    "    -------\n",
    "    ((abs(1000 - n) <= 100) or (abs(2000 - n) <= 100)) : int\n",
    "                                                         One-electron density for alpha-spin electrons.\n",
    "   \n",
    "    '''\n",
    "      return ((abs(1000 - n) <= 100) or (abs(2000 - n) <= 100))\n",
    "\n",
    "print(near_thousand(1100))"
   ]
  },
  {
   "cell_type": "markdown",
   "metadata": {
    "id": "e9rFCYtffIoR"
   },
   "source": [
    "### Problem 3\n",
    "\n",
    "Write a Python program to calculate the sum of three given numbers. If all three values are equal then return three times their sum."
   ]
  },
  {
   "cell_type": "code",
   "execution_count": null,
   "metadata": {},
   "outputs": [],
   "source": []
  },
  {
   "cell_type": "markdown",
   "metadata": {},
   "source": [
    "#### Answer"
   ]
  },
  {
   "cell_type": "code",
   "execution_count": null,
   "metadata": {},
   "outputs": [],
   "source": [
    "\n",
    "def sum_thrice(x, y, z):\n",
    "    '''\n",
    "    This function takes three numbers and calculates their sum.\n",
    "\n",
    "    If all three inputs are equal their sum is returned\n",
    "    '''\n",
    "    # add the three numbers together\n",
    "    sum = x + y + z\n",
    "  \n",
    "    # catch if all three numbers are equal\n",
    "    if x == y == z:\n",
    "        sum = sum * 3\n",
    "    \n",
    "    return sum\n",
    "\n",
    "print(sum_thrice(1, 2, 3))"
   ]
  },
  {
   "cell_type": "markdown",
   "metadata": {
    "id": "R2smu4cefT-W"
   },
   "source": [
    "### Problem 4\n",
    "\n",
    "Write a Python program to find whether a given number is even or odd and print out an appropriate message."
   ]
  },
  {
   "cell_type": "code",
   "execution_count": null,
   "metadata": {},
   "outputs": [],
   "source": []
  },
  {
   "cell_type": "markdown",
   "metadata": {},
   "source": [
    "#### Answer"
   ]
  },
  {
   "cell_type": "code",
   "execution_count": null,
   "metadata": {},
   "outputs": [],
   "source": [
    "# specify a integer number\n",
    "num =\n",
    "\n",
    "# calculate the remainder to see if it is divisible by num\n",
    "mod = num % 2\n",
    "\n",
    "# print suitable message\n",
    "if mod > 0:\n",
    "    print(\"This is an odd number.\")\n",
    "else:\n",
    "    print(\"This is an even number.\")"
   ]
  },
  {
   "cell_type": "markdown",
   "metadata": {
    "id": "S3iPKKOmfm9T"
   },
   "source": [
    "### Problem 5\n",
    "\n",
    "Write a Python program that will accept the base and height of a triangle and compute the area."
   ]
  },
  {
   "cell_type": "markdown",
   "metadata": {
    "id": "TNrJPBmrfwY8"
   },
   "source": [
    "### Problem 6\n",
    "\n",
    "Write a Python program that will return true if the two given integer values are equal or their sum or difference is 5."
   ]
  },
  {
   "cell_type": "markdown",
   "metadata": {
    "id": "cNcEHcx-gA0v"
   },
   "source": [
    "### Problem 7\n",
    "\n",
    "Given variables x=10 and y=60, write a Python program to print \"10+60=70\" as a string. Make this program generic for any variable values."
   ]
  },
  {
   "cell_type": "markdown",
   "metadata": {
    "id": "6e-EFVXmgae7"
   },
   "source": [
    "### Problem 8\n",
    "\n",
    "Write a Python program to filter the positive numbers from a list."
   ]
  },
  {
   "cell_type": "markdown",
   "metadata": {
    "id": "EHFWcQf3hKMI"
   },
   "source": [
    "### Problem 9\n",
    "\n",
    "Write a function that takes an integer minutes and converts it to seconds.\n",
    "\n",
    "e.g.\n",
    "\n",
    "`convert_to_secs(5) -> 300`"
   ]
  },
  {
   "cell_type": "markdown",
   "metadata": {
    "id": "UD6KPTO6gkwd"
   },
   "source": [
    "### Problem 10\n",
    "\n",
    "Write a function, `add_it_up()`, that takes a single integer as input and returns the sum of the integers from zero to the input parameter.\n",
    "\n",
    "The function should return 0 if a non-integer is passed in."
   ]
  },
  {
   "cell_type": "markdown",
   "metadata": {
    "id": "zMivIRrbhp7N"
   },
   "source": [
    "### Problem 11\n",
    "\n",
    "Create a function that takes a string and returns it as an integer."
   ]
  },
  {
   "cell_type": "markdown",
   "metadata": {
    "id": "NJOD_Zpeh3yc"
   },
   "source": [
    "### Problem 12\n",
    "\n",
    "Create a function that takes a list containing only numbers and return the first element."
   ]
  },
  {
   "cell_type": "markdown",
   "metadata": {
    "id": "ELKkEbMRiGTi"
   },
   "source": [
    "### Problem 13\n",
    "\n",
    "Create a function that takes a list of numbers. Return the largest number in the list."
   ]
  },
  {
   "cell_type": "markdown",
   "metadata": {
    "id": "PpB5dTiviUa6"
   },
   "source": [
    "### Problem 14\n",
    "\n",
    "Create a function that returns `True` if an integer is divisible by 5, and `False` otherwise."
   ]
  },
  {
   "cell_type": "markdown",
   "metadata": {
    "id": "MP5f-OKdimgr"
   },
   "source": [
    "### Problem 15\n",
    "\n",
    "Create a function that takes an angle in radians and returns the corresponding angle in degrees."
   ]
  },
  {
   "cell_type": "markdown",
   "metadata": {
    "id": "YSKVpqm2ixq_"
   },
   "source": [
    "### Problem 16\n",
    "\n",
    "Write a function that takes a list and a number as arguments. Add the number to the end of the list, then remove the first element of the list. The function should then return the updated list.\n",
    "\n",
    "e.g.\n",
    "\n",
    "`next_in_line([5, 6, 7, 8, 9], 1) ➞ [6, 7, 8, 9, 1]`"
   ]
  },
  {
   "cell_type": "markdown",
   "metadata": {
    "id": "HS8MhXpujn63"
   },
   "source": [
    "### Problem 17\n",
    "\n",
    "Write a function that takes coordinates of two points on a two-dimensional plane and returns the length of the line segment connecting those two points.\n",
    "\n",
    "e.g.\n",
    "\n",
    "`line_length([0, 0], [1, 1]) ➞ 1.41`"
   ]
  },
  {
   "cell_type": "markdown",
   "metadata": {
    "id": "KlRUt36XkIzl"
   },
   "source": [
    "### Problem 18\n",
    "\n",
    "Create a function that takes two parameters and, if both parameters are strings, add them as if they were integers or if the two parameters are integers, concatenate them. If the two parameters are different data types, return None.\n",
    "\n",
    "e.g.\n",
    "\n",
    "`stupid_addition(1, 2) -> \"12\"`\n",
    "\n",
    "`stupid_addition(\"1\", \"2\") -> 3`\n",
    "\n"
   ]
  },
  {
   "cell_type": "markdown",
   "metadata": {
    "id": "ad6xlreXk8Jz"
   },
   "source": [
    "## Problem 19\n",
    "\n",
    "Write a program that checks whether a number is a palindrome (reads the same forwards as backwards.\n",
    "\n",
    "e.g.\n",
    "\n",
    "`is_it_palindrome(1331) -> Yes!`\n",
    "\n",
    "`is_it_palindrome(4983) -> No!`\n"
   ]
  },
  {
   "cell_type": "markdown",
   "metadata": {
    "id": "jWPde8Bsn7qt"
   },
   "source": [
    "### Problem 20\n",
    "\n",
    "The Collatz conjecture states that the following sequence always reaches 1:\n",
    "\n",
    "1. Start with a positive integer n. \n",
    "2. The next number in the sequence is $\\frac{n}{2}$ if $n$ is even and $3n + 1$ if $n$ is odd.\n",
    "\n",
    "Write a Python program to test this conjecture.\n",
    "\n",
    "e.g.\n",
    "\n",
    "`n = 5 -> 5 16 8 4 2 1`\n"
   ]
  },
  {
   "cell_type": "markdown",
   "metadata": {},
   "source": [
    "## NumPy"
   ]
  },
  {
   "cell_type": "markdown",
   "metadata": {},
   "source": [
    "### Problem 1\n",
    "\n",
    "Write a NumPy program to create a $3 \\times 3$ identity matrix."
   ]
  },
  {
   "cell_type": "markdown",
   "metadata": {},
   "source": [
    "### Problem 2\n",
    "\n",
    "Write a NumPy program to find the number of rows and columns of a given matrix."
   ]
  },
  {
   "cell_type": "markdown",
   "metadata": {},
   "source": [
    "### Problem 3\n",
    "\n",
    "Write a NumPy program to convert an array to a `float` type."
   ]
  },
  {
   "cell_type": "markdown",
   "metadata": {},
   "source": [
    "### Problem 4\n",
    "\n",
    "Write a NumPy program to compute the multiplication of two arrays you define."
   ]
  },
  {
   "cell_type": "markdown",
   "metadata": {},
   "source": [
    "### Problem 5\n",
    "\n",
    "Write a NumPy program to compute the determinant of a given square array."
   ]
  },
  {
   "cell_type": "markdown",
   "metadata": {},
   "source": [
    "### Problem 6\n",
    "\n",
    "Write a NumPy program to compute the inverse of a given array."
   ]
  },
  {
   "cell_type": "markdown",
   "metadata": {},
   "source": [
    "### Problem 7\n",
    "\n",
    "Write a NumPy program to compute the sum of the diagonal element of a given array."
   ]
  },
  {
   "cell_type": "markdown",
   "metadata": {},
   "source": [
    "### Problem 8\n",
    "\n",
    "Consider the following array:\n",
    "\n",
    "`arr = np.array([0, 1, 2, 3, 4, 5, 6, 7, 8, 9])`\n",
    "\n",
    "Write a program to extract the odd numbers."
   ]
  },
  {
   "cell_type": "markdown",
   "metadata": {},
   "source": [
    "### Problem 9\n",
    "\n",
    "Convert a 1D array to a 2D array with 2 rows."
   ]
  },
  {
   "cell_type": "markdown",
   "metadata": {},
   "source": [
    "### Problem 10\n",
    "\n",
    "Create two arrays and stack them vertically and horizontally."
   ]
  },
  {
   "cell_type": "markdown",
   "metadata": {},
   "source": [
    "### Problem 11\n",
    "\n",
    "Use the following line of code to generate an array of random numbers and extract all numbers between 5 and 10.\n",
    "\n",
    "`arr = np.array([2, 6, 1, 9, 10, 3, 27])`"
   ]
  },
  {
   "cell_type": "markdown",
   "metadata": {},
   "source": [
    "### Problem 12\n",
    "\n",
    "Find the mean, median and standard deviation of an array you create."
   ]
  },
  {
   "cell_type": "markdown",
   "metadata": {},
   "source": [
    "### Problem 13\n",
    "\n",
    "The following Python code snippet will create a $10 \\times 10$ array filled with random numbers\n",
    "\n",
    "`arr = np.random.rand(10, 10)`\n",
    "\n",
    "Extract the $3 \\times 3$ sub-matrix starting from the top left corner.\n",
    "\n",
    "Example of a $2 \\times 2$ sub-matrix extracted from a $3 \\times 3$ matrix:\n",
    "\n",
    "$$\n",
    "    \\begin{pmatrix}\n",
    "         1 & 2 & 3 \\\\\n",
    "         4 & 5 & 6 \\\\ \n",
    "         7 & 8 & 9\n",
    "    \\end{pmatrix}\n",
    "    \\rightarrow\n",
    "    \\begin{pmatrix}\n",
    "         1 & 2 \\\\\n",
    "         4 & 5 \\\\ \n",
    "    \\end{pmatrix}\n",
    "$$"
   ]
  },
  {
   "cell_type": "markdown",
   "metadata": {},
   "source": [
    "### Problem 14\n",
    "\n",
    "Transpose the array, `arr`, from question 13."
   ]
  },
  {
   "cell_type": "markdown",
   "metadata": {},
   "source": [
    "### Problem 15\n",
    "\n",
    "Given a 1D array, negate all elements which are between 3 and 8."
   ]
  },
  {
   "cell_type": "markdown",
   "metadata": {},
   "source": [
    "### Problem 16\n",
    "\n",
    "Calculate the eigenvalues and eigenvectors of the following array:\n",
    "\n",
    "$$\n",
    "    \\begin{pmatrix}\n",
    "         1 & 2 \\\\\n",
    "         2 & 3 \\\\ \n",
    "    \\end{pmatrix}\n",
    "$$"
   ]
  },
  {
   "cell_type": "markdown",
   "metadata": {},
   "source": [
    "### Problem 17\n",
    "\n",
    "Write a NumPy program to add a new row to an empty NumPy array."
   ]
  },
  {
   "cell_type": "markdown",
   "metadata": {},
   "source": [
    "### Problem 18\n",
    "\n"
   ]
  },
  {
   "cell_type": "code",
   "execution_count": null,
   "metadata": {},
   "outputs": [],
   "source": []
  }
 ],
 "metadata": {
  "colab": {
   "collapsed_sections": [],
   "name": "PracticeProblems.ipynb",
   "provenance": []
  },
  "kernelspec": {
   "display_name": "Python 3",
   "language": "python",
   "name": "python3"
  },
  "language_info": {
   "codemirror_mode": {
    "name": "ipython",
    "version": 3
   },
   "file_extension": ".py",
   "mimetype": "text/x-python",
   "name": "python",
   "nbconvert_exporter": "python",
   "pygments_lexer": "ipython3",
   "version": "3.8.10"
  },
  "toc-autonumbering": true
 },
 "nbformat": 4,
 "nbformat_minor": 4
}
