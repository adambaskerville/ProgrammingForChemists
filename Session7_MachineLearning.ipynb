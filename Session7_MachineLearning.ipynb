{
 "cells": [
  {
   "cell_type": "markdown",
   "metadata": {},
   "source": [
    "# Programming for Chemists: How Machine Learning is Changing Science"
   ]
  },
  {
   "cell_type": "markdown",
   "metadata": {},
   "source": [
    "Machine learning, the buzzphrase of the last 5 years but what is it? why is it important? why is there a session dedicated to it? Is it just applied statistics? We are going to:\n",
    "\n",
    "* Find out what machine learning is and why it is important.\n",
    "* Tools needed to do it.\n",
    "* How it is used by science.\n",
    "* Find out many of you have done machine learning without realising it.\n",
    "* Predict the solubility of small drug molecules using machine learning.\n",
    "\n",
    "**Aim of this session:**\n",
    "\n",
    "Machine learning is a **vast** and **rapidly** growing field of research built on very complex mathematics and statistics; which we will **not** cover. Instead we are going to explore how you can **use** it to solve real world problems; application over theory. There is a high probability you will end up using some form of machine learning in your future career, so it is more important you understand how you can use it as opposed to spending months or years understanding the mathematics behind the algorithms. \n",
    "\n",
    "We already benefit from machine learning in our day to day lives:\n",
    "\n",
    "* **Image recognition**: Software trained using ML to scan through hundreds of MRI and CT medical images per second highlighting abnormalities.\n",
    "* **Medical diagnosis**: Training programs using clinical symptoms to accurately diagnose patients. \n",
    "* **Speech recognition**: ML is behind the rise of assistant software like Alexa and Siri. \n",
    "* **Google**: Google is at the forefront, investing huge amounts of money into all facets of ML. It is used in their translation software, Google photos, Google assistant, Google Maps and many more.\n",
    "* **Financial services**: Used extensively in the finance sector to predict market shifts, customer spending patterns and it can even predict account closures before they occur!\n",
    "\n",
    "With so many companies wanting to use machine learning its implementation has become quite high level, requiring small amounts of code; the main hurdle being the cost of the hardware to calculate in sensible time.\n",
    "\n",
    "**Philosophy of AI:**\n",
    "\n",
    "Artificial Intelligence is a hotly debated issue in computer science and wider society for good reason; it could be humanities greatest invention but could it be our last? My personal take is more optimistic believing that AI systems capable of learning will only enhance and improve our own capability of learning. If I am wrong, at least this session will give an insight into how the machine overlords will *think*.  "
   ]
  },
  {
   "cell_type": "markdown",
   "metadata": {},
   "source": [
    "## Artificial Intelligence, Machine Learning, and Deep Learning. What's the Difference?"
   ]
  },
  {
   "cell_type": "markdown",
   "metadata": {},
   "source": [
    "<center><img src=\"https://raw.githubusercontent.com/adambaskerville/ProgrammingForChemists/master/images/AI_ML_DL.jpeg\" width=\"400\" height=\"400\" /></center>\n"
   ]
  },
  {
   "cell_type": "markdown",
   "metadata": {},
   "source": [
    "There are no agreed upon, standard definitions for any of these subject fields, but the [Google Machine Learning glossary](https://developers.google.com/machine-learning/glossary#m) provides sensible definitions:\n",
    "\n",
    "**Artificial Intelligence (AI):** A non-human program or model that can solve sophisticated tasks. For example, a program or model that translates text or a program or model that identifies diseases from radiologic images both exhibit artificial intelligence. Formally, machine learning is a sub-field of artificial intelligence. However, in recent years, some organizations have begun using the terms artificial intelligence and machine learning interchangeably.\n",
    "\n",
    "**Machine Learning (ML):** A program or system that builds (trains) a predictive model from input data. The system uses the learned model to make useful predictions from new (never-before-seen) data drawn from the same distribution as the one used to train the model. Machine learning also refers to the field of study concerned with these programs or systems.\n",
    "\n",
    "**Deep Learning (DL):** Is a machine learning technique that constructs artificial neural networks to mimic the structure and function of the human brain.\n",
    "\n",
    "Machine learning exists at the intersection of computer science, statistics, and data science. It uses elements of each of these fields, processing data in a way that can detect and learn from patterns, predict future activity, or make decisions."
   ]
  },
  {
   "cell_type": "markdown",
   "metadata": {},
   "source": [
    "## Hardware Barrier"
   ]
  },
  {
   "cell_type": "markdown",
   "metadata": {},
   "source": [
    "AI, ML and DL are mainly based on learning from **very large quantities of data** which standard computational hardware struggles with. To achieve results within a sensible time frame you often need server racks full of Graphical Processing Units (GPUs) to run everything using massively parallel programming. The popularity of video gaming has been the dominant force in the development of faster and bigger GPU technology which has allowed AI, ML and DL to expand so quickly. For companies wanting to analyse large volumes of data the bill can be hundreds of thousands of pounds on hardware/software alone plus the power and expertise to run it.\n",
    "\n",
    "**Difference between a CPU and GPU?**\n",
    "\n",
    "This is a technical topic but NVIDIA hired the Mythbusters to explain the difference more practically:"
   ]
  },
  {
   "cell_type": "code",
   "execution_count": 3,
   "metadata": {},
   "outputs": [
    {
     "data": {
      "image/jpeg": "[encoded data removed]",
      "text/html": [
       "\n",
       "        <iframe\n",
       "            width=\"400\"\n",
       "            height=\"300\"\n",
       "            src=\"https://www.youtube.com/embed/-P28LKWTzrI\"\n",
       "            frameborder=\"0\"\n",
       "            allowfullscreen\n",
       "        ></iframe>\n",
       "        "
      ],
      "text/plain": [
       "<IPython.lib.display.YouTubeVideo at 0x7f008aa557d0>"
      ]
     },
     "execution_count": 3,
     "metadata": {},
     "output_type": "execute_result"
    }
   ],
   "source": [
    "from IPython.display import YouTubeVideo\n",
    "YouTubeVideo('-P28LKWTzrI')"
   ]
  },
  {
   "cell_type": "markdown",
   "metadata": {},
   "source": [
    "**Matrix Multiplication, CPU vs. GPU:**\n",
    "\n",
    "I wrote two programs which multiply two randomly generated matrices of specified size, \\\\(\\mathbf{A}\\\\) and \\\\(\\mathbf{B}\\\\)\n",
    "\n",
    "\\\\[\n",
    "    \\mathbf{M} = \\mathbf{A} \\times \\mathbf{B}\n",
    "\\\\]\n",
    "and timed how long it took for the programs to finish. One of these programs was written for the CPU whilst the other was written for the GPU.\n",
    "\n",
    "**CPU:** Intel Xeon W-2145, 3.70GHz, 16 logical cores\n",
    "\n",
    "**GPU:** Titan V, 1.2 MHz, 5120 CUDA cores\n",
    "\n",
    "<center><img src=\"https://raw.githubusercontent.com/adambaskerville/ProgrammingForChemists/master/images/CPU_vs_GPU_MatrixMult-1.png\" width=\"600\" height=\"600\" /></center>\n"
   ]
  },
  {
   "cell_type": "markdown",
   "metadata": {},
   "source": [
    "## Turing test: How we test Artificial Intelligence\n",
    "\n",
    "Machine learning is a realisation of the pioneering work of Alan Turing in the 1950s;  where he published multiple papers, one titled \"[Computing Machinery and Intelligence](https://academic.oup.com/mind/article/LIX/236/433/986238)\". In this paper he described \"*The Imitation Game*\" as a means of answering a big question, \"**Can machines think?**\". Being practically minded Turing noted that trying to define **thinking** is a philosophical hurdle so opted for rephrasing the question as \"*Can machines do what we (as thinking entities) can do?*\" drawing a sharp distinction between the physical and intellectual capacities of a human. \n",
    "\n",
    "Turing described his version of the \"*imitation game*\", in which an interrogator attempts to distinguish which of two players is female, and where each player, hidden from sight, attempts to fool the interrogator into thinking they are the female through written answers to the interrogator’s questions. In Turing’s version, the male is replaced by a machine that attempts to respond to questions in such a way as to fool the interrogator into thinking it, not the female player, is female. \n",
    "\n",
    "The imitation game is now more commonly referred to as the **Turing test** and a subtle but vital quality of the test is that *written human language represents human-level thinking*. If the human Turing test judge is competent, then an entity requires *human-level intelligence* in order to pass the test. Modern AI systems must pass this test if they are to be deemed to have human level intelligence and as of November 2020, **nothing has passed the Turing test**, even if some have claimed to. It is predicted that something will pass the Turing test between the years 2029 and 2040."
   ]
  },
  {
   "cell_type": "markdown",
   "metadata": {},
   "source": [
    "## Supervised vs. Unsupervised Learning"
   ]
  },
  {
   "cell_type": "markdown",
   "metadata": {},
   "source": [
    "There are two main types of machine learning, called **supervised** and **unsupervised** learning."
   ]
  },
  {
   "cell_type": "markdown",
   "metadata": {},
   "source": [
    "### Supervised Learning\n",
    "\n",
    "Consider a mathematical function of the form\n",
    "\n",
    "\\\\[\n",
    "    y = f(x).\n",
    "\\\\]\n",
    "\n",
    "Conventionally we plug in the input values \\\\(x\\\\), into the known function \\\\(f\\\\), to calculate \\\\(y\\\\). **Supervised learning** is where you have input values, \\\\(x\\\\), and an output value \\\\(y\\\\), and use an algorithm to calculate \\\\(f\\\\), the mapping function from the input to the output. **The majority of practical machine learning uses supervised learning.** The more input and output data supplied, the more accurately \\\\(f\\\\) can be defined."
   ]
  },
  {
   "cell_type": "markdown",
   "metadata": {},
   "source": [
    "### Unsupervised Learning"
   ]
  },
  {
   "cell_type": "markdown",
   "metadata": {},
   "source": [
    "In contrast to supervised learning, **unsupervised learning** is where you only have input data \\\\(x\\\\) and no corresponding output variables. The goal for unsupervised learning is to model the underlying structure or distribution in the data to learn more about it. It is phrased **unsupervised learning** as unlike supervised learning there is no correct answer and the algorithms are left to their own devises tasked with discovering and presenting interesting structure in the data."
   ]
  },
  {
   "cell_type": "markdown",
   "metadata": {},
   "source": [
    "## Differences between conventional programming and machine learning\n",
    "These two types of machine learning signify the difference between traditional programming and machine learning. Conventionally we provide input data and the rules needed to transform this input data into a certain output. Supervised machine learning is supplied input data together with the related output data and attempts to figure out the rules that transform the input into the output data."
   ]
  },
  {
   "cell_type": "markdown",
   "metadata": {},
   "source": [
    "## Machine Learning in Python: TensorFlow"
   ]
  },
  {
   "cell_type": "markdown",
   "metadata": {},
   "source": [
    "Python remains one of the most popular languages for machine learning; boasting a variety of libraries aimed at its implementation including [**TensorFlow**](https://www.tensorflow.org/); an end-to-end open source machine learning platform developed by Google, available for many programming languages including Python."
   ]
  },
  {
   "cell_type": "markdown",
   "metadata": {},
   "source": [
    "## Worked Example: Linear Regression, Beer-Lambert law"
   ]
  },
  {
   "cell_type": "markdown",
   "metadata": {},
   "source": [
    "[Linear Regression](https://mathworld.wolfram.com/LinearRegression.html) is a conventional statistical method borrowed by machine learning as a **supervised** learning algorithm where the predicted output is continuous having a constant slope. It is used to predict values such as sales or price; rather than classifying them into categories such as car or tractor. Linear regression is the simplest machine learning algorithm which a lot of you have encountered before without realising it; **finding the line of best fit.** \n",
    "\n",
    "Is this really machine learning? Lets check:\n",
    "\n",
    "* We have the input data, \\\\(x\\\\).\n",
    "* We have the output data, \\\\(y\\\\).\n",
    "* We calculate the gradient and point of intercept of a line, forming a function \\\\(f\\\\), which attempts to map \\\\(x\\\\) onto \\\\(y\\\\)  \\\\(\\hspace{0.5cm}\\therefore \\hspace{0.5cm} y = f(x) \\\\).\n",
    "\n",
    "Linear regression provides us the mapping function \\\\(f\\\\), which we can then use to predict output values we have not explicitly calculated or measured. **Machine learning is often confused with applied statistics** but linear regression can be classed as both a statistical method and a machine learning algorithm. Lots of you have been doing machine learning without even realising it! \n",
    "\n",
    "We are going to solve a modified version of a problem some of you encountered in Excel workshop 4 of Maths and Data Analysis for Chemists.\n",
    "\n",
    "**Question:**\n",
    "\n",
    "UV/vis spectrophotometry is often used to determine concentrations of metal ions in solution. In order to do this, knowledge of the molar extinction coefficient is needed. This is the absorbance per unit concentration at a given wavelength. A student has made a series of standard samples of KMnO\\\\(_4\\\\) of known concentrations, so as to determine the molar extinction coefficient using the Beer-Lambert law\n",
    "\n",
    "\\\\[\n",
    "    A = \\epsilon c l,\n",
    "\\\\]\n",
    "where \\\\(A\\\\) is the measured absorbance, \\\\(\\epsilon\\\\) is the molar extinction coefficient, \\\\(c\\\\) is the concentration and \\\\(l\\\\) is the path length of the spectrophotometer cell (1 cm). The spectrometer is known to suffer from a constant offset, hence the following equation should be better model the experimental data:\n",
    "\n",
    "\\\\[\n",
    "    A = \\epsilon c l + A_0,\n",
    "\\\\]\n",
    "\n",
    "**Solution:**\n",
    "\n",
    "This question is asking for a line of best fit to be fitted to the data set, that noting that the equation of a straight line has the same form as the Beer-Lambert law\n",
    "\n",
    "\\\\[\n",
    "    \\begin{array}{cccccc}\n",
    "        & \\underbrace{A} & = & \\underbrace{\\epsilon c l} & + & \\underbrace{A_0} \\\\\n",
    "        & \\downarrow && \\downarrow && \\downarrow\\\\\n",
    "        & y & = & mx & + & c \n",
    "    \\end{array}\n",
    "\\\\] \n",
    "\n",
    "The original data set consisted of 10 data points but I have generated 200 data points for the purposes of this example, stored in `UV_vis_data.csv`. We will read this file in using pandas and fit a line of best fit to it using [`numpy.polyfit`](https://numpy.org/doc/stable/reference/generated/numpy.polyfit.html) which fits polynomials to data sets, where we specify the order of polynomial as `1`, a straight line:"
   ]
  },
  {
   "cell_type": "code",
   "execution_count": 5,
   "metadata": {},
   "outputs": [
    {
     "data": {
      "image/png": "[encoded data removed]",
      "text/plain": [
       "<Figure size 432x288 with 1 Axes>"
      ]
     },
     "metadata": {},
     "output_type": "display_data"
    },
    {
     "name": "stdout",
     "output_type": "stream",
     "text": [
      "3.4356838669011442\n"
     ]
    }
   ],
   "source": [
    "import numpy as np\n",
    "import matplotlib.pyplot as plt\n",
    "import tensorflow as tf\n",
    "import pandas as pd\n",
    "import seaborn as sns # we call this library which is based on matplotlib\n",
    "\n",
    "# set a dark grid style for the plot (looks nice!)\n",
    "sns.set_style(\"darkgrid\")\n",
    "\n",
    "# create the figure (fig) and axes (ax) objects\n",
    "fig, ax = plt.subplots()\n",
    "\n",
    "# define the column names in the data file\n",
    "colnames=['concentration', 'absorbance']\n",
    "\n",
    "# read the data file into a Pandas DataFrame and assign the column names\n",
    "uv_dat = pd.read_csv(\"data/UV_vis_data.csv\", names=colnames)\n",
    "\n",
    "# use numpy to fit a line of best fit using 'polyfit'\n",
    "m, c = np.polyfit(uv_dat['concentration'], uv_dat['absorbance'], 1)\n",
    "\n",
    "# create a numpy array of x-values in order to plot the line of best fit\n",
    "x = np.arange(uv_dat['concentration'].min(),uv_dat['concentration'].max(),  0.001)\n",
    "\n",
    "# define how the y-values are calculated using the equation of a straight line\n",
    "y = m*x + c\n",
    "\n",
    "# define the axes labels\n",
    "ax.set_xlabel('Absorbance / a.u.')\n",
    "ax.set_ylabel('Concentration / mM')\n",
    "\n",
    "# plot a scatter plot\n",
    "plt.scatter(uv_dat['concentration'], uv_dat['absorbance'], s=5, color='blue');\n",
    "\n",
    "# plot the x and y-values of the line of best fit\n",
    "plt.plot(x,y)\n",
    "\n",
    "plt.show()\n",
    "\n",
    "print(m*1.5 + c)"
   ]
  },
  {
   "cell_type": "code",
   "execution_count": null,
   "metadata": {},
   "outputs": [],
   "source": [
    "import numpy as np\n",
    "import matplotlib.pyplot as plt\n",
    "import tensorflow as tf\n",
    "import pandas as pd\n",
    "\n",
    "#colnames=['concentration', 'absorbance']\n",
    "\n",
    "#uv_dat = pd.read_csv(\"data/UV_vis_data.csv\", names=colnames)\n",
    "\n",
    "model = tf.keras.Sequential([tf.keras.layers.Dense(units=1, input_shape=[1])])\n",
    "\n",
    "model.compile(loss='mean_squared_error', optimizer=tf.keras.optimizers.Adam(learning_rate=0.1))\n",
    "\n",
    "history = model.fit(np.asarray(uv_dat['concentration']), np.asarray(uv_dat['absorbance']), epochs=500, verbose=False)\n",
    "\n",
    "plt.xlabel(\"Epoch Number\")\n",
    "plt.ylabel(\"Loss Magnitude\")\n",
    "\n",
    "plt.plot(history.history['loss'])\n",
    "\n",
    "plt.show()\n",
    "\n",
    "print(model.predict([1.5]))"
   ]
  },
  {
   "cell_type": "markdown",
   "metadata": {},
   "source": [
    "## DeepChem: Open source machine learning for Life Science"
   ]
  },
  {
   "cell_type": "markdown",
   "metadata": {},
   "source": [
    "[DeepChem](https://deepchem.io/) is a collection of open source tools for drug discovery, materials science, quantum chemistry, and biology; including **machine learning**. Application of machine learning to drug discovery is **very big business** [estimated to be worth \\\\$591 million in 2018](https://www.fnfresearch.com/ai-for-drug-discovery-market-by-drug-type)  and is expected to reach a value of around \\\\$12 billion by 2027.\n",
    "\n",
    "**Why?**\n",
    "\n",
    "It is estimated that bringing a new drug to market [costs major pharmaceutical companies at least \\\\$4 billion](https://www.forbes.com/sites/matthewherper/2012/02/10/the-truly-staggering-cost-of-inventing-new-drugs/#3d91a3bd4a94), and can take 10-15 years with less than 10% making it to market.\n",
    "\n",
    "Machine learning offers efficient understanding of vast amounts of chemical data, allowing for selection of the best drug candidates and predicting their possible properties; **all without even setting foot in a lab**. Drug companies like machine learning as it **can save them huge amounts of money and time.**"
   ]
  },
  {
   "cell_type": "markdown",
   "metadata": {},
   "source": [
    "### Basics of DeepChem\n",
    "\n",
    "The first thing we need understand is how we can represent a wide range of complex chemical structures using a unique metric; SMILES: **S**implified **M**olecular-**I**nput **L**ine-**E**ntry **S**ystem. These take the form of a single line notation for describing the structure of chemical species using short strings. SMILES strings can be imported by most molecule editors for conversion back into two-dimensional drawings or three-dimensional models of the molecules.\n",
    "\n",
    "SMILES has five basic syntax rules:\n",
    "\n",
    "1. **Atoms and Bonds:**\n",
    "|   |                         | \n",
    "|:--|:------------------------|\n",
    "| - | Single bond             |   \n",
    "| = | Double bond             |\n",
    "| # | Triple bond             |\n",
    "| * | Aromatic bond           |\n",
    "| . | Disconnected structures |\n",
    "\n",
    "2. **Chains:**\n",
    "\n",
    "    Combining atomic symbols and bond symbols allows for simple chain structures to be represented. The structures that are entered using SMILES are hydrogen-suppressed, represented without hydrogens. SMILES software understands the number of possible connections that an atom can have. \n",
    "\n",
    "| SMILES  |  Chemical formula  | Name            | \n",
    "|:--------|:-------------------|:----------------|\n",
    "|  CC     | CH$_3$CH$_3$       | Ethane          |   \n",
    "| C=C     | CH$_2$CH$_2$       | Ethene          |\n",
    "| Na.Cl   | NaCL               | Sodium chloride |"
   ]
  },
  {
   "cell_type": "code",
   "execution_count": 6,
   "metadata": {},
   "outputs": [
    {
     "ename": "ModuleNotFoundError",
     "evalue": "No module named 'rdkit'",
     "output_type": "error",
     "traceback": [
      "\u001b[0;31m---------------------------------------------------------------------------\u001b[0m",
      "\u001b[0;31mModuleNotFoundError\u001b[0m                       Traceback (most recent call last)",
      "\u001b[0;32m<ipython-input-6-27f1e57143ed>\u001b[0m in \u001b[0;36m<module>\u001b[0;34m\u001b[0m\n\u001b[0;32m----> 1\u001b[0;31m \u001b[0;32mfrom\u001b[0m \u001b[0mrdkit\u001b[0m \u001b[0;32mimport\u001b[0m \u001b[0mChem\u001b[0m\u001b[0;34m\u001b[0m\u001b[0;34m\u001b[0m\u001b[0m\n\u001b[0m\u001b[1;32m      2\u001b[0m \u001b[0;32mfrom\u001b[0m \u001b[0mrdkit\u001b[0m\u001b[0;34m.\u001b[0m\u001b[0mChem\u001b[0m\u001b[0;34m.\u001b[0m\u001b[0mDraw\u001b[0m \u001b[0;32mimport\u001b[0m \u001b[0mMolsToGridImage\u001b[0m\u001b[0;34m\u001b[0m\u001b[0;34m\u001b[0m\u001b[0m\n\u001b[1;32m      3\u001b[0m \u001b[0msmiles_list\u001b[0m \u001b[0;34m=\u001b[0m \u001b[0;34m[\u001b[0m\u001b[0;34m\"CCCCC\"\u001b[0m\u001b[0;34m,\u001b[0m\u001b[0;34m\"CCOCC\"\u001b[0m\u001b[0;34m,\u001b[0m\u001b[0;34m\"CCNCC\"\u001b[0m\u001b[0;34m,\u001b[0m\u001b[0;34m\"CCSCC\"\u001b[0m\u001b[0;34m]\u001b[0m\u001b[0;34m\u001b[0m\u001b[0;34m\u001b[0m\u001b[0m\n\u001b[1;32m      4\u001b[0m \u001b[0mmol_list\u001b[0m \u001b[0;34m=\u001b[0m \u001b[0;34m[\u001b[0m\u001b[0mChem\u001b[0m\u001b[0;34m.\u001b[0m\u001b[0mMolFromSmiles\u001b[0m\u001b[0;34m(\u001b[0m\u001b[0mx\u001b[0m\u001b[0;34m)\u001b[0m \u001b[0;32mfor\u001b[0m \u001b[0mx\u001b[0m \u001b[0;32min\u001b[0m \u001b[0msmiles_list\u001b[0m\u001b[0;34m]\u001b[0m\u001b[0;34m\u001b[0m\u001b[0;34m\u001b[0m\u001b[0m\n\u001b[1;32m      5\u001b[0m \u001b[0mdisplay_images\u001b[0m\u001b[0;34m(\u001b[0m\u001b[0mmols_to_pngs\u001b[0m\u001b[0;34m(\u001b[0m\u001b[0mmol_list\u001b[0m\u001b[0;34m)\u001b[0m\u001b[0;34m)\u001b[0m\u001b[0;34m\u001b[0m\u001b[0;34m\u001b[0m\u001b[0m\n",
      "\u001b[0;31mModuleNotFoundError\u001b[0m: No module named 'rdkit'"
     ]
    }
   ],
   "source": [
    "from rdkit import Chem\n",
    "from rdkit.Chem.Draw import MolsToGridImage\n",
    "\n",
    "smiles_list = [\"CC\",\"C=C\",\"Na.Cl\"]\n",
    "mol_list = [Chem.MolFromSmiles(x) for x in smiles_list]\n",
    "display_images(mols_to_pngs(mol_list))"
   ]
  },
  {
   "cell_type": "markdown",
   "metadata": {},
   "source": [
    "3. **Branches:**\n",
    "\n",
    "A branch from a chain is specified by placing the SMILES symbol(s) for the branch between parenthesis `()`. The string in parentheses is placed directly after the symbol for the atom to which it is connected. If it is connected by a double or triple bond, the bond symbol immediately follows the left parenthesis.\n",
    "\n",
    "| SMILES            |  Name            | \n",
    "|:------------------|:-----------------|\n",
    "|  CC(O)C           | 2-Propanol       |   \n",
    "| CC(C)CC(=O)       | 2-Methylbutanal  |\n",
    "| c1c(N(=O)=O)cccc1 | Nitrobenzene     |\n",
    "\n",
    "\n",
    "4. **Rings:**\n",
    "\n",
    "\n",
    "\n",
    "\n",
    "| SMILES      |  Name            | \n",
    "|:------------|:-----------------|\n",
    "|  C=1CCCCC1  | Cyclohexene      |   \n",
    "| c1ccccc1    | Benzene          |\n",
    "| C1OC1CC     | Ethyloxirane     |\n"
   ]
  },
  {
   "cell_type": "markdown",
   "metadata": {},
   "source": [
    "## Worked Example: Predicting the solubility of small molecules"
   ]
  },
  {
   "cell_type": "markdown",
   "metadata": {},
   "source": [
    "An important property of a new candidate drug is its solubility; if it isn't soluble enough then it will be unlikely to enter a patient's bloodstream to have a therapeutic effect. We will now use machine learning to build a model that predicts solubility of small molecules based on nothing but their chemical structure. "
   ]
  },
  {
   "cell_type": "code",
   "execution_count": null,
   "metadata": {},
   "outputs": [],
   "source": [
    "tasks, datasets, transformers = dc.molnet.load_delaney(featurizer='GraphConv')\n",
    "train_dataset, valid_dataset, test_dataset = datasets\n",
    "\n",
    "model = dc.models.GraphConvModel(n_tasks=1, mode='regression', dropout=0.2)\n",
    "\n",
    "model.fit(train_dataset, nb_epoch=100)\n",
    "\n",
    "metric = dc.metrics.Metric(dc.metrics.pearson_r2_score)\n",
    "\n",
    "print(\"Training set score:\", model.evaluate(train_dataset, [metric], transformers))\n",
    "print(\"Test set score:\", model.evaluate(test_dataset, [metric], transformers))\n",
    "\n",
    "solubilities = model.predict_on_batch(test_dataset.X[:10])\n",
    "for molecule, solubility in zip(test_dataset.ids, solubilities):\n",
    "    print(solubility, molecule)"
   ]
  }
 ],
 "metadata": {
  "kernelspec": {
   "display_name": "Python 3",
   "language": "python",
   "name": "python3"
  },
  "language_info": {
   "codemirror_mode": {
    "name": "ipython",
    "version": 3
   },
   "file_extension": ".py",
   "mimetype": "text/x-python",
   "name": "python",
   "nbconvert_exporter": "python",
   "pygments_lexer": "ipython3",
   "version": "3.7.7"
  }
 },
 "nbformat": 4,
 "nbformat_minor": 4
}
