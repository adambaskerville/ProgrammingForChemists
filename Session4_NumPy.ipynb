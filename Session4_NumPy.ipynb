{
 "cells": [
  {
   "cell_type": "markdown",
   "metadata": {},
   "source": [
    "# Programming For Chemists: Basic NumPy and arrays "
   ]
  },
  {
   "cell_type": "markdown",
   "metadata": {},
   "source": [
    "**Importance for scientists:**\n",
    "* Fast numerical computation.\n",
    "* Handling and manipulation of scientific data.\n",
    "* Pandas, a library we discuss in the next session is heavily relient on NumPy.\n",
    "* Nearly all mathematical programs written in Python will inevitably use NumPy. \n",
    "\n",
    "NumPy stands for *numerical python* and is the universal standard for working with numerical data in Python. It is **largely responsible for the popularity of the Python language within the sciences** due to its multidimensional array and the ability to perform a wide variety of mathematical operations on arrays. \n",
    "\n",
    "* It supplies an enormous library of high-level mathematical functions that operate on these arrays and matrices; implemented around very fast numerical C-libraries including [BLAS](http://www.netlib.org/blas/) and [LAPACK](http://www.netlib.org/lapack/). **Result:** You get the speed of C with the friendlier syntax of Python.\n",
    "\n",
    "* NumPy is possibly **the** most important Python library we will cover in this course; unfortunately only scratching the surface. \n",
    "* We will cover some of the important and useful functionality, then apply what we learn to some worked examples. \n",
    "* We will focus mainly on arrays and how they relate to matrices; one of the most useful tools in the sciences. "
   ]
  },
  {
   "cell_type": "markdown",
   "metadata": {},
   "source": [
    "## Importing NumPy\n",
    "\n",
    "In order to start using NumPy and all of the functions available in NumPy, you’ll need to import it which can be done in several ways:\n",
    "\n",
    "* Import the library as-is:"
   ]
  },
  {
   "cell_type": "code",
   "execution_count": null,
   "metadata": {},
   "outputs": [],
   "source": [
    "import numpy"
   ]
  },
  {
   "cell_type": "markdown",
   "metadata": {},
   "source": [
    "* This works fine, but when we reference functions from the library in the next section we will have to write `numpy.name_of_func` each time. \n",
    "* We can instead import the library and assign it to a different name:"
   ]
  },
  {
   "cell_type": "code",
   "execution_count": null,
   "metadata": {},
   "outputs": [],
   "source": [
    "import numpy as np"
   ]
  },
  {
   "cell_type": "markdown",
   "metadata": {},
   "source": [
    "* Where we have assigned `numpy` to `np`. Now we can reference the methods as `np.name_of_func` which is faster to write and less prone to mis-typing! **This code line has to be run to load the NumPy library for the rest of the worksheet!**\n",
    "\n",
    "* You can also import specific functions from a library using the following syntax, e.g. importing the dot product function:"
   ]
  },
  {
   "cell_type": "code",
   "execution_count": null,
   "metadata": {},
   "outputs": [],
   "source": [
    "from numpy import dot"
   ]
  },
  {
   "cell_type": "markdown",
   "metadata": {},
   "source": [
    "## NumPy Arrays\n",
    "\n",
    "An array is the central data structure of the NumPy library, representing a grid of values containing information about the raw data, how to locate an element, and how to interpret an element. \n",
    "\n",
    "* The elements are all of the same type, referred to as the array `dtype` (data type). \n",
    "* One way to initialize NumPy arrays is using Python lists, using nested lists for two- or higher-dimensional data. <font color='red'>Check the data type of the following array using the `type()` function:</font>"
   ]
  },
  {
   "cell_type": "code",
   "execution_count": null,
   "metadata": {},
   "outputs": [],
   "source": [
    "# Build a 1D array from a python list\n",
    "a = np.array([1, 2, 3, 4, 5, 6])\n",
    "\n",
    "print(a)"
   ]
  },
  {
   "cell_type": "code",
   "execution_count": null,
   "metadata": {},
   "outputs": [],
   "source": [
    "# Build a 2D array from nested python lists\n",
    "b = np.array([[1, 2, 3, 4], [5, 6, 7, 8], [9, 10, 11, 12]])\n",
    "\n",
    "print(b)"
   ]
  },
  {
   "cell_type": "markdown",
   "metadata": {},
   "source": [
    "* We can access the elements in the array using square brackets `[]`. \n",
    "    * Remember that **indexing in NumPy starts at 0.** That means that if you want to access the first element in your array, you’ll be accessing element `0` not `1`."
   ]
  },
  {
   "cell_type": "code",
   "execution_count": null,
   "metadata": {},
   "outputs": [],
   "source": [
    "# Get the first element from the numpy array, a. \n",
    "print(a[0])"
   ]
  },
  {
   "cell_type": "markdown",
   "metadata": {},
   "source": [
    "* To extract a specific element in a 2D array, we can use the notation `[row,column]`:"
   ]
  },
  {
   "cell_type": "code",
   "execution_count": null,
   "metadata": {},
   "outputs": [],
   "source": [
    "# Extract element from first row and second column\n",
    "print(b[0,3])\n",
    "# Extract element from third row and third column\n",
    "print(b[2,2])"
   ]
  },
  {
   "cell_type": "markdown",
   "metadata": {},
   "source": [
    "* You might occasionally hear an array referred to as a `ndarray`, which is shorthand for 'N-dimensional array.' \n",
    "    * An N-dimensional array is simply an array with any number of dimensions; 1-D, 2-D, 3-D etc... The NumPy `ndarray` class is used to *represent* vectors, matrices and more generally tensors."
   ]
  },
  {
   "cell_type": "markdown",
   "metadata": {},
   "source": [
    "### Exercise"
   ]
  },
  {
   "cell_type": "markdown",
   "metadata": {},
   "source": [
    "<font color='red'>Turn the following 1D-array into a 2D-array and print to screen:</font>"
   ]
  },
  {
   "cell_type": "code",
   "execution_count": null,
   "metadata": {},
   "outputs": [],
   "source": [
    "arr = np.array([1, 2, 3, 4, 5, 6, 7, 8, 9])"
   ]
  },
  {
   "cell_type": "markdown",
   "metadata": {},
   "source": [
    "### Useful Array Commands"
   ]
  },
  {
   "cell_type": "markdown",
   "metadata": {},
   "source": [
    "**np.zeros():**\n",
    "\n",
    "* Besides creating an array from a sequence of elements, you can easily create an array filled with zeros:"
   ]
  },
  {
   "cell_type": "code",
   "execution_count": null,
   "metadata": {},
   "outputs": [],
   "source": [
    "# Create 5 x 5 array of zeros\n",
    "np.zeros([5,5])"
   ]
  },
  {
   "cell_type": "markdown",
   "metadata": {},
   "source": [
    "**np.ones():**\n",
    "\n",
    "* Or an array filled with 1’s:"
   ]
  },
  {
   "cell_type": "code",
   "execution_count": null,
   "metadata": {},
   "outputs": [],
   "source": [
    "np.ones([5,5])"
   ]
  },
  {
   "cell_type": "markdown",
   "metadata": {},
   "source": [
    "**empty():**\n",
    "\n",
    "* The `empty` function creates an array whose initial content is random and depends on the state of the memory. The reason you may want to use `empty` over `zeros` is speed:"
   ]
  },
  {
   "cell_type": "code",
   "execution_count": null,
   "metadata": {},
   "outputs": [],
   "source": [
    "np.empty([5,5])"
   ]
  },
  {
   "cell_type": "markdown",
   "metadata": {},
   "source": [
    "* If using `empty` make sure to **fill all of the elements.** \n",
    "* You can also create an array with a range of elements: "
   ]
  },
  {
   "cell_type": "code",
   "execution_count": null,
   "metadata": {},
   "outputs": [],
   "source": [
    "np.arange(0, 11, 2)"
   ]
  },
  {
   "cell_type": "markdown",
   "metadata": {},
   "source": [
    "* NumPy arrays are not just limited to the default `np.float64` **(double precision)** data type; and you can explicitly specify which data type you want using the `dtype` keyword:"
   ]
  },
  {
   "cell_type": "code",
   "execution_count": null,
   "metadata": {},
   "outputs": [],
   "source": [
    "# Construct a 5 x 5 array of non-numeric 1's (string data type! str)\n",
    "m = np.ones([5,5], dtype=np.str)\n",
    "\n",
    "print(m)"
   ]
  },
  {
   "cell_type": "markdown",
   "metadata": {},
   "source": [
    "**Array dimensions:**\n",
    "\n",
    "* An important piece of information is the size and shape of our arrays. These can be extracted using the following:\n",
    "\n",
    "    `ndarray.ndim` tells you the number of dimensions, of the array.\n",
    "    \n",
    "    `ndarray.size` tells you the total number of elements of the array.\n",
    "\n",
    "    `ndarray.shape` displays a tuple of integers that indicate the number of elements stored along each dimension of the array. If, for example, you have a 2-D array with 2 rows and 4 columns, the shape of your array is (2, 4):"
   ]
  },
  {
   "cell_type": "code",
   "execution_count": null,
   "metadata": {},
   "outputs": [],
   "source": [
    "m = np.array([[0, 1, 2],\n",
    "              [3, 4, 5],\n",
    "              [6, 7, 8]])\n",
    "\n",
    "# Extract the number of dimensions of the array\n",
    "print(m.ndim)\n",
    "\n",
    "# Extract the number of elements in the array\n",
    "print(m.size)\n",
    "\n",
    "# Extract the shape of the array\n",
    "print(m.shape)"
   ]
  },
  {
   "cell_type": "markdown",
   "metadata": {},
   "source": [
    "* A very useful function is `np.reshape` which allows you to change the shape of the array without changing the data. When using the `reshape` method, the array you want to produce **needs** to have the same number of elements as the original array; you cannot lose or gain elements!"
   ]
  },
  {
   "cell_type": "code",
   "execution_count": null,
   "metadata": {},
   "outputs": [],
   "source": [
    "# Create a 1D numpy array (vector)\n",
    "a = np.arange(10)\n",
    "\n",
    "# Resize the array into 5 rows and 2 columns; assigning to variable b\n",
    "b = a.reshape(5,2)\n",
    "\n",
    "print(a)\n",
    "\n",
    "print(b)"
   ]
  },
  {
   "cell_type": "markdown",
   "metadata": {},
   "source": [
    "**Slicing:**\n",
    "\n",
    "Slicing means taking elements from an iterable between two given indices. In Python this is given the syntax : `[start:end]` or `[start:end:step]`\n",
    "\n",
    "* If you don't provide `start` it is considered 0. If you don't provide `end` it is considered to be the length of the iterable in that dimension, and if `step` is not provided it is considered 1. **Note:** The result includes the start index, but excludes the end index:"
   ]
  },
  {
   "cell_type": "code",
   "execution_count": null,
   "metadata": {},
   "outputs": [],
   "source": [
    "# create numpy array\n",
    "arr = np.array([[1, 2, 3],\n",
    "                [4, 5, 6],\n",
    "                [7, 8, 9]])\n",
    "\n",
    "# extract second element\n",
    "print(arr[1],\"\\n\")\n",
    "\n",
    "# slice row starting from index 0 -> 2\n",
    "print(arr[0:2], \"\\n\") \n",
    "\n",
    "# slice rows starting from index 1 but do not provide the end index\n",
    "print(arr[1:], \"\\n\")\n",
    "\n",
    "# slice rows starting from index = -2 and do not provide the end index\n",
    "print(arr[-2:], \"\\n\")\n",
    "\n",
    "# slice columns starting from index =1 and do not provide the end index\n",
    "print(arr[:2,1:], \"\\n\")\n",
    "\n",
    "# slice columns starting from index =1 and do not provide the end index\n",
    "print(arr[:,:2])"
   ]
  },
  {
   "cell_type": "markdown",
   "metadata": {},
   "source": [
    "Indexing and slicing operations can sometimes be difficult to visualise; the following figures hopefully can assist aid in their understanding:"
   ]
  },
  {
   "cell_type": "markdown",
   "metadata": {},
   "source": [
    "<center><img src=\"https://raw.githubusercontent.com/adambaskerville/ProgrammingForChemists/master/images/numpy_summary/1_trim.png\" width=\"600\" height=\"auto\" /></center>\n",
    "<br/><br/>\n",
    "<br/><br/>\n",
    "<center><img src=\"https://raw.githubusercontent.com/adambaskerville/ProgrammingForChemists/master/images/numpy_summary/2_trim.png\" width=\"600\" height=\"auto\" /></center>"
   ]
  },
  {
   "cell_type": "markdown",
   "metadata": {},
   "source": [
    "**Conditional Slicing:**\n",
    "\n",
    "* We can also select values from our array that fulfill certain conditions. Consider the following NumPy array:"
   ]
  },
  {
   "cell_type": "code",
   "execution_count": null,
   "metadata": {},
   "outputs": [],
   "source": [
    "m = np.array([[1, 2, 3, 4], [5, 6, 7, 8]])"
   ]
  },
  {
   "cell_type": "markdown",
   "metadata": {},
   "source": [
    "* Lets print all the values that are less than 4:"
   ]
  },
  {
   "cell_type": "code",
   "execution_count": null,
   "metadata": {},
   "outputs": [],
   "source": [
    "print(m[m < 4])"
   ]
  },
  {
   "cell_type": "markdown",
   "metadata": {},
   "source": [
    "* We can also apply multiple conditions using the `&` (and) and `|` (or):"
   ]
  },
  {
   "cell_type": "code",
   "execution_count": null,
   "metadata": {},
   "outputs": [],
   "source": [
    "print(m[(m < 6) & (m !=3)])"
   ]
  },
  {
   "cell_type": "markdown",
   "metadata": {},
   "source": [
    "**hstack() and vstack():**\n",
    "\n",
    "* It is often desirable to stack two arrays horizontally or vertically; done using `vstack()` and `hstack()`:"
   ]
  },
  {
   "cell_type": "code",
   "execution_count": null,
   "metadata": {},
   "outputs": [],
   "source": [
    "m1 = np.array([[1,2], \n",
    "               [10,12]])\n",
    "\n",
    "print(\"m1=\", m1)\n",
    "\n",
    "m2 = np.array([[4,1], \n",
    "               [0,0]])\n",
    "\n",
    "print(\"m2=\", m2)\n",
    "\n",
    "# horizontally stack the two arrays\n",
    "horizontal_stack = np.hstack((m1, m2))\n",
    "\n",
    "# vertically stack the two arrays\n",
    "vertical_stack = np.vstack((m1, m2))\n",
    "\n",
    "print(\"horizontal_stack:\")\n",
    "print(horizontal_stack)\n",
    "print(\"vertical_stack:\")\n",
    "print(vertical_stack)"
   ]
  },
  {
   "cell_type": "markdown",
   "metadata": {},
   "source": [
    "### Arithmetic Operations"
   ]
  },
  {
   "cell_type": "markdown",
   "metadata": {},
   "source": [
    "We now get to the major scientific application of NumPy; the ability to apply numerous mathematical operations to `ndarray()`s. Large parts of physics and chemistry are dominated by matrix algebra, and NumPy is the perfect tool to computationally handle these matrices. An important point must be stressed before continuing; done using the following examples of arithmetic operations on arrays:"
   ]
  },
  {
   "cell_type": "markdown",
   "metadata": {},
   "source": [
    "<center><img src=\"https://raw.githubusercontent.com/adambaskerville/ProgrammingForChemists/master/images/numpy_summary/array_arithmetic.png\" width=\"600\" height=\"auto\" /></center>"
   ]
  },
  {
   "cell_type": "markdown",
   "metadata": {},
   "source": [
    "* The following code implements the above graphical examples:"
   ]
  },
  {
   "cell_type": "code",
   "execution_count": null,
   "metadata": {},
   "outputs": [],
   "source": [
    "# Create 2 numpy arrays\n",
    "array1 = np.array([[1, 3],\n",
    "                   [3, 1]])\n",
    "\n",
    "array2 = np.array([[4, 5],\n",
    "                   [5, 4]])\n",
    "\n",
    "print(\"Addition:\")\n",
    "print(array1 + array2)\n",
    "\n",
    "print(\"Subtraction:\")\n",
    "print(array1 - array2)\n",
    "\n",
    "print(\"Multiplication:\")\n",
    "print(array1 * array2)\n",
    "\n",
    "print(\"Division:\")\n",
    "print(array1 / array2)"
   ]
  },
  {
   "cell_type": "markdown",
   "metadata": {},
   "source": [
    "* The results from addition and subtraction are expected, **but multiplication and division are incorrect?**\n",
    "* Here is a quick reminder of matrix multiplication rules for multiplying two matrices `A` and `B` which the above example does not do:\n",
    "\n",
    "<center><img src=\"https://raw.githubusercontent.com/adambaskerville/ProgrammingForChemists/master/images/matrix-multiplication-0.jpg\" width=\"400\" height=\"400\" /></center>"
   ]
  },
  {
   "cell_type": "markdown",
   "metadata": {},
   "source": [
    "* This leads to the important conclusion: **2D NumPy arrays are not conventional matrices**, and the standard operations `*, +, -, /` work **element-wise** on arrays. \n",
    "* Correct matrix multiplication can be achieved using NumPy arrays in the following ways:\n",
    "    * As of Python 3.5+ the `@` operator will perform the typical matrix multiplication.\n",
    "    * `np.matmul()` is a separate function in NumPy which calculates the matrix product of two arrays. This is preferred over the older `np.dot()` which also does matrix multiplication."
   ]
  },
  {
   "cell_type": "code",
   "execution_count": null,
   "metadata": {},
   "outputs": [],
   "source": [
    "m1 = np.array([[1, 3],\n",
    "             [3, 1]])\n",
    "\n",
    "m2 = np.array([[4, 5],\n",
    "             [5, 4]])\n",
    "\n",
    "print(\"@ operator:\")\n",
    "print(m1 @ m2)\n",
    "\n",
    "print(\"np.matmul():\")\n",
    "print(np.matmul(m1, m2))\n",
    "\n",
    "print(\"np.dot():\")\n",
    "print(np.dot(m1, m2))"
   ]
  },
  {
   "cell_type": "markdown",
   "metadata": {},
   "source": [
    "### More useful array operations"
   ]
  },
  {
   "cell_type": "code",
   "execution_count": null,
   "metadata": {},
   "outputs": [],
   "source": [
    "data = np.array([[1],\n",
    "                 [3],\n",
    "                 [6],\n",
    "                 [11]])\n",
    "\n",
    "# calculate maximum value in array\n",
    "print(data.max())\n",
    "\n",
    "# calculate minimum value in array\n",
    "print(data.min())\n",
    "\n",
    "# calculate sum of elements in array\n",
    "print(data.sum())\n",
    "\n",
    "# calculate product of elements in array\n",
    "print(data.prod())\n",
    "\n",
    "# calculate average of elements in the array\n",
    "print(data.mean())\n",
    "\n",
    "# calculate standard deviation of array\n",
    "print(data.std())\n",
    "\n",
    "# calculate transpose of array\n",
    "print(data.transpose())\n",
    "\n",
    "# reverse order of elements in array\n",
    "print(np.flip(data))"
   ]
  },
  {
   "cell_type": "markdown",
   "metadata": {},
   "source": [
    "### Access Docstring for more information (proof they are useful!)"
   ]
  },
  {
   "cell_type": "markdown",
   "metadata": {},
   "source": [
    "* Every object contains the reference to a string, which is known as the **docstring**, discussed in session 3.\n",
    "* In most cases, this docstring contains a quick and concise summary of the object and how to use it. \n",
    "* Python has a built-in `help()` function that can help you access this information. \n",
    "    * This means that nearly any time you need more information, you can use `help()` to quickly find lookup the syntax and purpose of a function; very useful given the large number of NumPy functions:"
   ]
  },
  {
   "cell_type": "code",
   "execution_count": null,
   "metadata": {},
   "outputs": [],
   "source": [
    "help (np.dot)"
   ]
  },
  {
   "cell_type": "markdown",
   "metadata": {},
   "source": [
    "### NumPy Linalg Module vs. SciPy\n",
    "\n",
    "The NumPy linear algebra module, `linalg` relies on **BLAS** and **LAPACK** to provide efficient low level implementations of standard linear algebra algorithms. \n",
    "\n",
    "* Linear algebra is the study of linear sets of equations, built upon matrix algebra; and the `linalg` module contains many relevant and useful functions which we may want to use in physics and chemistry including:\n",
    "\n",
    "| Function             | Purpose                                                             | \n",
    "|:---------------------|:--------------------------------------------------------------------|  \n",
    "| [np.linalg.det()](https://numpy.org/doc/stable/reference/generated/numpy.linalg.det.html#numpy.linalg.det)      | Calculate matrix determinant                                        |\n",
    "| [np.linalg.inv()](https://numpy.org/doc/stable/reference/generated/numpy.linalg.inv.html?highlight=inv#numpy.linalg.inv)     | Calculate matrix inverse                                            |\n",
    "| [np.linalg.trace()](https://numpy.org/doc/stable/reference/generated/numpy.trace.html#numpy.trace)    | Return the sum along diagonals of the array                         |\n",
    "| [np.linalg.eig()](https://numpy.org/doc/stable/reference/generated/numpy.linalg.eig.html?highlight=eig#numpy.linalg.eig)      | Compute the eigenvalues and right eigenvectors of a square array    | \n",
    "| [np.linalg.solve()](https://numpy.org/doc/stable/reference/generated/numpy.linalg.solve.html?highlight=solve#numpy.linalg.solve)    | Solve a linear matrix equation, or system of linear scalar equations| "
   ]
  },
  {
   "cell_type": "code",
   "execution_count": null,
   "metadata": {},
   "outputs": [],
   "source": [
    "arr = np.array([[1, 2, 3],\n",
    "                [2, 5, 6],\n",
    "                [3, 6, 8]])\n",
    "\n",
    "# calculate determinant\n",
    "print(\"Determinant:\")\n",
    "print(np.linalg.det(arr))\n",
    "print(\"\\n\")\n",
    "\n",
    "print(\"Inverse:\")\n",
    "# calculate matrix inverse\n",
    "print(np.linalg.inv(arr))\n",
    "print(\"\\n\")\n",
    "\n",
    "print(\"Trace:\")\n",
    "# calculate matrix trace\n",
    "print(np.trace(arr))\n",
    "print(\"\\n\")\n",
    "\n",
    "print(\"Eigenvalues:\")\n",
    "# calculate eigenvalues, returns both eigenvalues and eigenvectors\n",
    "print(np.linalg.eig(arr))"
   ]
  },
  {
   "cell_type": "markdown",
   "metadata": {},
   "source": [
    "#### SciPy\n",
    "\n",
    "* There is another incredibly useful library called [SciPy](https://www.scipy.org/); which is a Python-based ecosystem of open-source software for mathematics, science, and engineering. It contains modules for:\n",
    "\n",
    "    * optimization, \n",
    "    * linear algebra, \n",
    "    * integration, \n",
    "    * interpolation, \n",
    "    * special functions, \n",
    "    * FFT, \n",
    "    * signal and image processing, \n",
    "    * ODE solvers and many more, \n",
    "\n",
    "* If you understand NumPy syntax then you **will understand Scipy syntax** as it is built ontop and extends NumPy for scientific applications.\n",
    "\n",
    "* If you need access to any linear algebra routine **SciPy should be the first port of call** as it far more comprehensive than NumPy and is updated more regularly. See [here](https://docs.scipy.org/doc/scipy/reference/linalg.html) for a list of SciPy functions. These are nearly all built on fast C routines written in LAPACK and BLAS. We will learn more about SciPy in session 6."
   ]
  },
  {
   "cell_type": "markdown",
   "metadata": {},
   "source": [
    "# Worked Example: Price Comparison"
   ]
  },
  {
   "cell_type": "markdown",
   "metadata": {},
   "source": [
    "* Curie, Dirac, Einstein and Franklin are looking to buy some lab equipment with two available suppliers, \\\\(S_1\\\\) and \\\\(S_2\\\\). Each\n",
    "of them needs a differing amount of each item and due to the shops being far apart they will only visit a single supplier. Which shop will result in the lowest total bill for their lab equipment?\n",
    "\n",
    "* Here is a table of required lab equipment by each person:\n",
    "\n",
    "| Person   | Conical Flask  | Ph Probe  | Beaker  | Clamp  |\n",
    "|:---------|:--------------:|:---------:|:-------:|:------:|  \n",
    "| Curie    | 6              | 5         | 3       | 1      | \n",
    "| Dirac    | 3              | 6         | 2       | 2      |\n",
    "| Einstein | 3              | 4         | 3       | 1      |\n",
    "| Franklin | 6              | 2         | 1       | 3      |\n",
    "\n",
    "* Here is the table of prices from each supplier:\n",
    "\n",
    "| item           | Price \\\\(S_1\\\\) / £  | Price \\\\(S_2\\\\) / £  |\n",
    "|:---------------|:--------------------:|:--------------------:|\n",
    "| Conical Flask  |   1.50               | 1.00                 |\n",
    "| Ph Probe       |   6.00               | 6.50                 |\n",
    "| Beaker         |   3.00               | 2.50                 |\n",
    "| Clamp          |   4.00               | 5.00                 |\n",
    "\n",
    "* For example, the amount spent by Curie with supplier \\\\(S_1\\\\) is:\n",
    "\n",
    "$$\n",
    "( 6 \\times £1.50) + (5 \\times £6.00) + (3 \\times £3.00) + (1 \\times £4.00) = \\text{£} 52\n",
    "$$\n",
    "\n",
    "* The solution to this problem can be represented as a matrix multiplication problem. The first matrix represents the **demand** matrix and the second the **cost** matrix:\n",
    "\n",
    "$$\n",
    "\\textbf{demand} = \n",
    "\\begin{pmatrix}\n",
    "    6 & 5 & 3 & 1 \\\\\n",
    "    3 & 6 & 2 & 2 \\\\\n",
    "    3 & 4 & 3 & 1 \\\\\n",
    "    6 & 2 & 1 & 3 \n",
    "\\end{pmatrix} \\hspace{0.5cm}\n",
    "\\textbf{cost} = \n",
    "\\begin{pmatrix}\n",
    "    1.50 & 1.00 \\\\\n",
    "    6.00 & 6.50 \\\\\n",
    "    3.00 & 2.50 \\\\\n",
    "    4.00 & 5.00 \\\\\n",
    "\\end{pmatrix}\n",
    "$$\n",
    "\n",
    "* The total cost for each individual can be calculated by multiplying these two matrices:\n",
    "\n",
    "$$\n",
    "    \\textbf{T} = \\textbf{demand} \\times \\textbf{cost}\n",
    "$$\n",
    "\n",
    "<font color='red'>Finish off the following program that multiplies these two arrays:</font>"
   ]
  },
  {
   "cell_type": "code",
   "execution_count": null,
   "metadata": {},
   "outputs": [],
   "source": [
    "import numpy as np\n",
    "\n",
    "demand = np.array([[6, 5, 3, 1],\n",
    "                   [3, 6, 2, 2],\n",
    "                   [3, 4, 3, 1],\n",
    "                   [6, 2, 1, 3]])\n",
    "                   \n",
    "cost = np.array([[1.50, 1.00],\n",
    "                 [6.00, 6.50],\n",
    "                 [3.00, 2.50],\n",
    "                 [4.00, 5.00]])\n",
    "\n",
    "Total_cost = demand \n",
    "\n",
    "print(Total_cost)"
   ]
  },
  {
   "cell_type": "markdown",
   "metadata": {},
   "source": [
    "* The result is a matrix of total costs from each supplier (columns) for each person (rows). \n",
    "    * Dirac and Franklin will get the best price with supplier \\\\(S_1\\\\), \n",
    "    * Curie will get the best price from supplier \\\\(S_2\\\\),\n",
    "    * Einstein has the same quote from both suppliers."
   ]
  },
  {
   "cell_type": "markdown",
   "metadata": {},
   "source": [
    "# Worked Example: Balancing Chemical Equations"
   ]
  },
  {
   "cell_type": "markdown",
   "metadata": {},
   "source": [
    "* Consider the folowing reaction:\n",
    "\n",
    "$$ \n",
    "\\text{MgO} + \\text{Fe} \\rightarrow \\text{Fe}_2\\text{O}_3 + \\text{Mg} \n",
    "$$\n",
    "\n",
    "* This equation is not balanced:\n",
    "    * We have 2 iron atoms on the right but only one on the left; and 1 oxygen on the left but 3 on the right. \n",
    "\n",
    "* This particular example can be done by inspection but for the purposes of this tutorial on NumPy, applying some of our accrued knowledge, we will convert it into a matrix problem and solve as the linear system\n",
    "\n",
    "$$\n",
    "Ax = b,\n",
    "$$\n",
    "\n",
    "* We can solve this using NumPy! We want to know the coefficient of each term in order to balance the equation which we can think of as the following equation:\n",
    "\n",
    "$$\n",
    "x_1\\text{MgO} + x_2\\text{Fe} \\rightarrow x_3\\text{Fe}_2\\text{O}_3 + x_4\\text{Mg}\n",
    "$$\n",
    "\n",
    "* where \\\\(x_1, x_2, x_3, x_4\\\\) are the coefficients to be found. We can now create a vector of the form\n",
    "\n",
    "$$\n",
    "\\begin{pmatrix}\n",
    "\\text{number of Mg atoms} \\\\\n",
    "\\text{number of Fe atoms} \\\\\n",
    "\\text{number of O atoms}\n",
    "\\end{pmatrix},\n",
    "$$\n",
    "\n",
    "* and count the number of each element in each term in the chemical reaction:\n",
    "\n",
    "$$\n",
    "x_1\\begin{pmatrix}\n",
    "    1 \\\\\n",
    "    0 \\\\\n",
    "    1\n",
    "\\end{pmatrix} + \n",
    "x_2\\begin{pmatrix}\n",
    "    0 \\\\\n",
    "    1 \\\\\n",
    "    0\n",
    "\\end{pmatrix} \\rightarrow \n",
    "x_3\\begin{pmatrix}\n",
    "    0 \\\\\n",
    "    2 \\\\\n",
    "    3\n",
    "\\end{pmatrix} + \n",
    "x_4\\begin{pmatrix}\n",
    "    1 \\\\\n",
    "    0 \\\\\n",
    "    0\n",
    "\\end{pmatrix}.\n",
    "$$\n",
    "\n",
    "* We can subtract the \\\\(x_3\\\\) term over to the LHS and set \\\\(x_4=1\\\\) on the RHS to form \\\\(Ax = b\\\\)\n",
    "\n",
    "$$\n",
    "\\overbrace{\n",
    "\\begin{pmatrix}\n",
    "    1 & 0 & 0   \\\\\n",
    "    0 & 1 & -2  \\\\\n",
    "    1 & 0 & -3  \n",
    "\\end{pmatrix}}^{A}\n",
    "\\overbrace{\n",
    "\\begin{pmatrix}\n",
    "    x_1 \\\\\n",
    "    x_2 \\\\\n",
    "    x_3 \\\\\n",
    "\\end{pmatrix}}^{x} = \n",
    "\\overbrace{\n",
    "\\begin{pmatrix}\n",
    "    1\\\\\n",
    "    0 \\\\\n",
    "    0 \\\\\n",
    "\\end{pmatrix}}^{b}.\n",
    "$$"
   ]
  },
  {
   "cell_type": "code",
   "execution_count": null,
   "metadata": {},
   "outputs": [],
   "source": [
    "# create the 4 vectors as numpy arrays\n",
    "vec1 = np.array([[1],\n",
    "                 [0],\n",
    "                 [1]]) \n",
    "\n",
    "vec2 = np.array([[0],\n",
    "                 [1],\n",
    "                 [0]]) \n",
    "\n",
    "vec3 = np.array([[0],\n",
    "                 [-2],\n",
    "                 [-3]]) \n",
    "\n",
    "b = np.array([[1],\n",
    "              [0],\n",
    "              [0]]) \n",
    "\n",
    "# combine the x_1, x_2 and x_3 vectors into a 2D-array using hstack()\n",
    "A = np.hstack((vec1, vec2, vec3))\n",
    "\n",
    "print(A)"
   ]
  },
  {
   "cell_type": "markdown",
   "metadata": {},
   "source": [
    "* We now have the LHS and RHS of our equation; and can solve by calculating the inverse of \\\\(A\\\\) and multiply it by \\\\(b\\\\) on the RHS to solve for \\\\(x\\\\)\n",
    "\n",
    "$$\n",
    "    x = A^{-1}b.\n",
    "$$"
   ]
  },
  {
   "cell_type": "code",
   "execution_count": null,
   "metadata": {},
   "outputs": [],
   "source": [
    "# calculate the inverse of matrix A\n",
    "Ainv = np.linalg.inv(A)\n",
    "\n",
    "# multiply Ainv by b (vec4) to calculate the x_i values\n",
    "xvec = Ainv @ b\n",
    "\n",
    "# extract the coefficient values from the vector\n",
    "for i in range(xvec.size):\n",
    "    print(\"x{} = {}\".format(i, xvec[i]))"
   ]
  },
  {
   "cell_type": "markdown",
   "metadata": {},
   "source": [
    "* Our solution is thus:\n",
    "\n",
    "$$\n",
    "    1\\text{MgO} + \\frac{2}{3}\\text{Fe} \\rightarrow \\frac{1}{3}\\text{Fe}_2\\text{O}_3 + 1\\text{Mg} \n",
    "$$"
   ]
  },
  {
   "cell_type": "markdown",
   "metadata": {},
   "source": [
    "* In the above Python code we explicitly calculated the matrix inverse matrix multiplication, but we can use the inbuilt [np.solve()](https://numpy.org/doc/stable/reference/generated/numpy.linalg.solve.html) function which solves linear systems, achieving the same result:"
   ]
  },
  {
   "cell_type": "code",
   "execution_count": null,
   "metadata": {},
   "outputs": [],
   "source": [
    "np.linalg.solve(A, b)"
   ]
  },
  {
   "cell_type": "markdown",
   "metadata": {},
   "source": [
    "## Review\n",
    "\n",
    "In this session we covered:\n",
    "\n",
    "* The purpose of NumPy and its key type, the ndarray.\n",
    "* Useful commands applicable to arrays along with how to index and slice arrays.\n",
    "* Arithmetic operations on arrays and the difference between how NumPy treats arrays and matrices.\n",
    "* Brief overview of some of the key functions in the linear algebra module, `linalg`.\n",
    "* How to run Python code locally using the IDE Visual Studio Code."
   ]
  },
  {
   "cell_type": "markdown",
   "metadata": {},
   "source": [
    "## Exercises"
   ]
  },
  {
   "cell_type": "markdown",
   "metadata": {},
   "source": [
    "1. Create a \\\\(6 \\times 3\\\\) array of your choosing and print the number of rows and columns."
   ]
  },
  {
   "cell_type": "code",
   "execution_count": null,
   "metadata": {},
   "outputs": [],
   "source": [
    "import numpy as np"
   ]
  },
  {
   "cell_type": "markdown",
   "metadata": {},
   "source": [
    "2. Write a NumPy program to compute the multiplication of two  matrices of your choosing."
   ]
  },
  {
   "cell_type": "code",
   "execution_count": null,
   "metadata": {},
   "outputs": [],
   "source": []
  },
  {
   "cell_type": "markdown",
   "metadata": {},
   "source": [
    "3. Write a NumPy program to compute the inverse of a matrix of your choosing."
   ]
  },
  {
   "cell_type": "code",
   "execution_count": null,
   "metadata": {},
   "outputs": [],
   "source": []
  },
  {
   "cell_type": "markdown",
   "metadata": {},
   "source": [
    "4. Create a \\\\(10 \\times 10\\\\) array with random values and find the minimum and maximum values."
   ]
  },
  {
   "cell_type": "code",
   "execution_count": null,
   "metadata": {},
   "outputs": [],
   "source": []
  },
  {
   "cell_type": "markdown",
   "metadata": {},
   "source": [
    "## Running Python Locally\n",
    "\n",
    "* So far we have been using Jupyter notebooks to do our programming but this is not a requirement to run Python code. \n",
    "* Python code is conventionally typed in a text editor and run locally on a users' computer without need for internet access. \n",
    "* As you apply your programming knowledge in your own projects and future studies it will be of great benefit to know how this is done, which is now demonstrated using the Integrated Development Environment (IDE) [Visual Studio Code](https://code.visualstudio.com/). \n",
    "\n",
    "* **IDEs** are software applications that provide comprehensive facilities to computer programmers. \n",
    "    * They contain a lot of useful features which assist you whilst you program, such as:\n",
    "        * syntax autocomplete, \n",
    "        * function lookup, \n",
    "        * variable tracker, \n",
    "        * data type lists and many more. \n",
    "        \n",
    "* The following are my recommended IDEs:\n",
    "\n",
    "1. [Visual Studio Code](https://code.visualstudio.com/)\n",
    "2. [Spyder](https://www.spyder-ide.org/)\n",
    "3. [PyCharm](https://www.jetbrains.com/pycharm/)\n",
    "\n",
    "* I personally use Visual Studio Code as it offers support for nearly every known programming language. \n",
    "* If you use multiple programming languages it can be cumbersome to have multiple IDEs corresponding to each language which you need to change to when needed. \n",
    "    * Visual Studio Code allows me to do all my programming in a single software. It is also available on all 3 main operating systems, Linux, Mac and Windows. \n",
    "* **I am not sponsored by Visual Studio Code. it is just my preferred IDE.**\n",
    "\n",
    "### Install Visual Studio Code\n",
    "\n",
    "1. Visit the following link and download the software for your respective operating system:\n",
    "\n",
    "    [Visual Studio Code](https://code.visualstudio.com/)\n",
    "\n",
    "2. Check out the [introductory video series](https://code.visualstudio.com/docs/getstarted/introvideos) on the basics of using vscode.\n",
    "\n",
    "3. Install the Python extension doing the following:\n",
    "\n",
    "<center><img src=\"https://raw.githubusercontent.com/adambaskerville/ProgrammingForChemists/master/images/PythonInstall.gif\" width=\"1000\" height=\"1000\" /></center>\n",
    "\n",
    "### Running Python in vscode\n",
    "\n",
    "1. Create file with extension `.py` symbolising a Python file.\n",
    "2. Type your Python code and save the file.\n",
    "3. Press the play button near the top right of the vscode screen.\n",
    "\n",
    "<center><img src=\"https://raw.githubusercontent.com/adambaskerville/ProgrammingForChemists/master/images/RunningPython.gif\" width=\"900\" height=\"900\" /></center>"
   ]
  }
 ],
 "metadata": {
  "kernelspec": {
   "display_name": "Python 3",
   "language": "python",
   "name": "python3"
  },
  "language_info": {
   "codemirror_mode": {
    "name": "ipython",
    "version": 3
   },
   "file_extension": ".py",
   "mimetype": "text/x-python",
   "name": "python",
   "nbconvert_exporter": "python",
   "pygments_lexer": "ipython3",
   "version": "3.7.3"
  }
 },
 "nbformat": 4,
 "nbformat_minor": 4
}
