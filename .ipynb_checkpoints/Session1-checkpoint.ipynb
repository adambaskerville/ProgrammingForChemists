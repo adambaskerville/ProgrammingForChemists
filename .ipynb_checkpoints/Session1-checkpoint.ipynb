{
 "cells": [
  {
   "cell_type": "markdown",
   "metadata": {},
   "source": [
    "# Programming for Chemists\n"
   ]
  },
  {
   "cell_type": "markdown",
   "metadata": {
    "slideshow": {
     "slide_type": "slide"
    }
   },
   "source": [
    "The aim of this course is to provide you with the skills to utilise\n",
    "computers in your own scientific work, from data management,\n",
    "analysis and presentation to solving real scientific problems."
   ]
  },
  {
   "cell_type": "markdown",
   "metadata": {},
   "source": [
    "## Learning Outcomes"
   ]
  },
  {
   "cell_type": "markdown",
   "metadata": {},
   "source": [
    "At the end of this course participants should be able to\n",
    "demonstrate:\n",
    "\n",
    "* Knowledge of the Python 3 programming language.\n",
    "* An understanding of key data types and structures in Python.\n",
    "* The skills to write and develop simple programs in Python.\n",
    "* The ability to import data from files for analysis and presentation.\n",
    "* The ability to detect errors in programs.\n",
    "* The ability to describe and document the results of a programming project."
   ]
  },
  {
   "cell_type": "markdown",
   "metadata": {},
   "source": [
    "## Resources"
   ]
  },
  {
   "cell_type": "markdown",
   "metadata": {},
   "source": [
    "1. Recommended textbook:\n",
    "    * Learning Scientific Programming with Python, C. Hill, 2016. Cambridge University Press. **Sussex Ebook link:** https://sussex-primo.hosted.exlibrisgroup.com/permalink/f/c622i2/44SUS_ALMA_DS51141926100002461\n",
    "2. Supplementary reading:\n",
    "    * Python notes for professionals: https://books.goalkicker.com/PythonBook/\n",
    "3. Recommended online resources:\n",
    "    * Official Python documentation: https://docs.python.org/3/\n",
    "4. Mathematical/computer programming problems (Good for application of what you learn, but some are very\n",
    "advanced):\n",
    "    * Project Euler: https://projecteuler.net/"
   ]
  },
  {
   "cell_type": "markdown",
   "metadata": {},
   "source": [
    "## Course Overview"
   ]
  },
  {
   "cell_type": "markdown",
   "metadata": {},
   "source": [
    "1. Introduction and Jupyter Notebook\n",
    "2. Key data types and uses\n",
    "3. Basic programming structures\n",
    "4. File input/output and plotting\n",
    "5. Basic NumPy and arrays\n",
    "6. Peak finding and smoothing data\n",
    "7. Mathematics with NumPy and SciPy\n",
    "8. Machine learning: The basics"
   ]
  },
  {
   "cell_type": "markdown",
   "metadata": {},
   "source": [
    "# Introduction to Programming for Chemists"
   ]
  },
  {
   "cell_type": "markdown",
   "metadata": {},
   "source": [
    "**Q. Why learn to program as a chemist?**\n",
    "* The world of chemistry is changing, laboratories are generating increasing quantities of digital data, and chemists need the ability to efficiently process, analyze, and visualize these data.\n",
    "* An increasing number of chemistry and biochemistry related jobs specifically ask for programming experience.\n",
    "* It opens more opportunities in different areas of science outside of your degree subject.\n",
    "* It will make you a more efficient and effective scientist."
   ]
  },
  {
   "cell_type": "markdown",
   "metadata": {},
   "source": [
    "**Q. Why use the Python programming language?**\n",
    "\n",
    "* It is a powerful, general-purpose programming language.\n",
    "* It is a high-level language, meaning it automates fundamental operations such as memory management carried out at the processor level.\n",
    "* It has a large variety of data structures such as lists, tuples, dictionaries and sets.\n",
    "* It can easily interface with lower-level languages such as `C`, `C++`, `Fortran`, `Rust` etc. . .\n",
    "* It has a shallow learning curve with a clean and simple syntax. \n",
    "\n",
    "**Example:** Consider printing items from a shopping list using Python vs. using C. To run the Python code element click on the code and hold <kbd>SHIFT</kbd> and press <kbd>ENTER</kbd>. This notebook can not run the C code as it only works with one kernel at a time. You do not need to understand the syntax here as we will discuss it in a future session."
   ]
  },
  {
   "cell_type": "markdown",
   "metadata": {},
   "source": [
    "**Python Syntax:**"
   ]
  },
  {
   "cell_type": "code",
   "execution_count": null,
   "metadata": {},
   "outputs": [],
   "source": [
    "shopping = [\"Bread\", 'Oranges', 'Soup', 'Tea'] \n",
    "for item in shopping:\n",
    "    print(item)"
   ]
  },
  {
   "cell_type": "markdown",
   "metadata": {},
   "source": [
    "**C Syntax:**"
   ]
  },
  {
   "cell_type": "code",
   "execution_count": null,
   "metadata": {},
   "outputs": [],
   "source": [
    "#include <stdio.h>\n",
    "#include <stdlib.h>\n",
    "#include <string.h>\n",
    "#define MAX_STRING_LENGTH 20\n",
    "#define NUMBER_OF_STRINGS 4\n",
    "int main()\n",
    "{\n",
    "    int i;\n",
    "    char shopping[NUMBER_OF_STRINGS][MAX_STRING_LENGTH + 1];\n",
    "    strcpy(shopping[0], \"Bread\");\n",
    "    strcpy(shopping[1], \"Oranges\");\n",
    "    strcpy(shopping[2], \"Soup\");\n",
    "    strcpy(shopping[3], \"Tea\");\n",
    "    \n",
    "    for (i=0; i<NUMBER_OF_STRINGS; i++) {\n",
    "        fprintf(stdout, \"%s\\n\", shopping[i]);\n",
    "    }\n",
    "}\n",
    "\n",
    "# Output:\n",
    "Bread\n",
    "Oranges\n",
    "Soup\n",
    "Tea"
   ]
  },
  {
   "cell_type": "markdown",
   "metadata": {},
   "source": [
    "Python was designed to be a highly readable language, with a relatively uncluttered visual layout making use of English keywords where other languages use punctuation. Python aims to be simple and consistent in the design of its syntax which is clear from the examples above."
   ]
  },
  {
   "cell_type": "markdown",
   "metadata": {},
   "source": [
    "## **Google Colab**\n",
    "\n",
    "Google colab is the platform we will use to host and interact with the Jupyter notebooks. To access the Jupyter notebooks in this course:\n",
    "\n",
    "1. Visit Google Colab: `colab.research.google.com` \n",
    "2. In the window that pops up click the `GitHub` tab and copy and paste the following into the `Enter a GitHub URL or search by organisation or user`: https://github.com/adambaskerville/ProgrammingForChemists\n",
    "\n",
    "3. Click the magnifying glass button (Search).\n",
    "\n",
    "4. You can then select which notebook you want to view and interact with. You can save copies of your version of the notebooks to your local drive or to cloud storage, but cannot override the master copies on GitHub.\n",
    "\n",
    "Below is a GIF of this process:\n",
    "\n",
    "![Using Google Colab](https://raw.githubusercontent.com/adambaskerville/ProgrammingForChemists/master/GoogleColabGIF.gif)"
   ]
  },
  {
   "cell_type": "markdown",
   "metadata": {},
   "source": [
    "## Jupyter Notebook"
   ]
  },
  {
   "cell_type": "markdown",
   "metadata": {},
   "source": [
    "* The Jupyter notebook is an open document that can contain documentation, code, interactive elements, and the output of your Python code such as plots and numerical values.\n",
    "* It is an interactive environment, ideal for data processing and visualisation and suitable for sharing with others.\n",
    "* It is Free and Open Source Software (FOSS) and accessible anywhere, either online or downloadable for offline use.\n",
    "* Each interactive session will take place at a computer using a Jupyter Notebook and any required data files.\n",
    "* **Note** you do not *need* a Jupyter notebook to run Python code. Python code is most commonly developed in text editors locally and run through your computers' terminal. The Jupyter notebook is used in these tutorials for the convenience of allowing text and usable code cells in the same format and without the need for UNIX commands. In session 4 we will download and use `VScode` which will provide a local and very versatile solution for your programming requirements in this course and beyond."
   ]
  },
  {
   "cell_type": "markdown",
   "metadata": {},
   "source": [
    "### The Notebook Interface\n",
    "\n",
    "The Jupyter interface will hopefully not look entirely alien; after all, Jupyter is essentially an advanced word processor. Take a look around the menus and get a feel for the options.\n",
    "\n",
    "There are two terms that you should notice, cells and kernels, which are key to understanding Jupyter and to what makes it more than just a word processor:\n",
    "\n",
    "* A kernel is a “computational engine” that executes the code contained in a notebook document.\n",
    "* A cell is a container for text to be displayed in the notebook or code to be executed by the notebook’s kernel.\n",
    "\n",
    "Cells form the body of a Jupyter notebook, and they come in two main types:\n",
    "\n",
    "* A **code** cell contains code to be executed in the kernel and displays its output below the cell.\n",
    "* A **Markdown** cell contains text formatted using the Markdown language and displays its output in-place when it is run.\n",
    "\n",
    "To use Python in a Jupyter notebook, type your Python code into a code cell which is one of these: "
   ]
  },
  {
   "cell_type": "code",
   "execution_count": 1,
   "metadata": {},
   "outputs": [],
   "source": [
    "# This is a code cell!"
   ]
  },
  {
   "cell_type": "markdown",
   "metadata": {},
   "source": [
    "Markdownand hold <kbd>SHIFT</kbd> and press <kbd>ENTER</kbd> to run the code or press the <kbd>&#9658;</kbd> button in the top bar and the output is printed below the cell. It is **highly encouraged** to add your own code to the example code cells as you progress through the sessions and experiment with what you are learning and test any ideas you have. "
   ]
  },
  {
   "cell_type": "markdown",
   "metadata": {},
   "source": [
    "## Getting Started with Python 3"
   ]
  },
  {
   "cell_type": "markdown",
   "metadata": {},
   "source": [
    "### Hello World!\n",
    "\n",
    "A tradition when learning a new language is to print \"Hello World!\" to the screen, which we will now do. To print this in Python we need to invoke the `print` function and inside it write, \"Hello World\" in quotation marks which represent the string datatype in the Python language; we will cover strings in more detail in the next session. To learn the syntax and how to run the code, type this into the code box below `print(\"Hello World!\")` then run the code."
   ]
  },
  {
   "cell_type": "code",
   "execution_count": null,
   "metadata": {},
   "outputs": [],
   "source": []
  },
  {
   "cell_type": "markdown",
   "metadata": {},
   "source": [
    "Note the importance of the quotation marks in the above code example. Run the following code which does not include them:"
   ]
  },
  {
   "cell_type": "code",
   "execution_count": null,
   "metadata": {},
   "outputs": [],
   "source": [
    "print(Hello World)"
   ]
  },
  {
   "cell_type": "markdown",
   "metadata": {},
   "source": [
    "This is invalid syntax as we have now told Python to print variables Hello and World which we have not defined. \n",
    "\n",
    "When you ran the cell, its output will have been displayed below the cell and the label to its left will have changed from `In [ ]` to `In [1]`. The output of a code cell forms part of the document, and you can tell the difference between code and Markdown cells because code cells have that label on the left whereas Markdown cells do not.\n",
    "\n",
    "`In` is simply short for “Input,” while the label number indicates when the cell was executed on the kernel which in this instance was first, hence `[1]`. Run the cell again and the label will change to `In [2]` because now the cell was the second to be run on the kernel. You can insert new code cells below the currently selected one by clicking <kbd>+</kbd> on the top menu.\n",
    "\n",
    "Now we have got to grips with Jupyter, let's learn some Python fundamentals. "
   ]
  },
  {
   "cell_type": "markdown",
   "metadata": {},
   "source": [
    "### Creating variables and Assigning Values\n",
    "One of the most important things that we want to do is create **variables** which represent a quantity whose value can change. To do this in Python, we need to specify the variable name, and then assign a value to it, which is done using the following syntax, `variable name = value`. Lets assign the value 10 to the letter `x`:"
   ]
  },
  {
   "cell_type": "code",
   "execution_count": 9,
   "metadata": {},
   "outputs": [],
   "source": [
    "x = 10 # Create the variable x"
   ]
  },
  {
   "cell_type": "markdown",
   "metadata": {},
   "source": [
    "Variable assignment works from left to right. So the following will give you a syntax error:"
   ]
  },
  {
   "cell_type": "code",
   "execution_count": 6,
   "metadata": {},
   "outputs": [
    {
     "ename": "SyntaxError",
     "evalue": "can't assign to literal (<ipython-input-6-ea1f1a64d427>, line 1)",
     "output_type": "error",
     "traceback": [
      "\u001b[0;36m  File \u001b[0;32m\"<ipython-input-6-ea1f1a64d427>\"\u001b[0;36m, line \u001b[0;32m1\u001b[0m\n\u001b[0;31m    10 = x\u001b[0m\n\u001b[0m          ^\u001b[0m\n\u001b[0;31mSyntaxError\u001b[0m\u001b[0;31m:\u001b[0m can't assign to literal\n"
     ]
    }
   ],
   "source": [
    "10 = x"
   ]
  },
  {
   "cell_type": "markdown",
   "metadata": {},
   "source": [
    "There are strict rules for naming of variables:\n",
    "\n",
    "1. Variable names must start with a letter or an underscore:"
   ]
  },
  {
   "cell_type": "code",
   "execution_count": null,
   "metadata": {},
   "outputs": [],
   "source": [
    "x = 10 # valid\n",
    "_y = 10 # valid\n",
    "\n",
    "9x = 10 # Invalid as starts with numeral\n",
    "$y = False # Invalid as starts with symbol"
   ]
  },
  {
   "cell_type": "markdown",
   "metadata": {},
   "source": [
    "2. The remainder of your variable name may consist of letters, numbers and underscores."
   ]
  },
  {
   "cell_type": "markdown",
   "metadata": {},
   "source": [
    "3. Names are case sensitive:"
   ]
  },
  {
   "cell_type": "code",
   "execution_count": null,
   "metadata": {},
   "outputs": [],
   "source": [
    "x = 9 # Define variable lower case x\n",
    "y = X*5 # 'Accidentally' call upper case X "
   ]
  },
  {
   "cell_type": "markdown",
   "metadata": {},
   "source": [
    "When you use `=` to do an assignment, what's on the left of `=` is a **name** for the **object** on the right. `=` assigns the **reference** of the object on the right to the **name** on the left. That is:\n",
    "\n",
    "```a_name = an_object # \"a_name\" is now a name for the reference to the object \"an_object\"```"
   ]
  },
  {
   "cell_type": "markdown",
   "metadata": {},
   "source": [
    "You can assign multiple values to multiple variables in one line, but there must be an equal number of arguments on the left and right sides of the `=` operator:"
   ]
  },
  {
   "cell_type": "code",
   "execution_count": 12,
   "metadata": {},
   "outputs": [
    {
     "name": "stdout",
     "output_type": "stream",
     "text": [
      "1 2 3\n"
     ]
    }
   ],
   "source": [
    "x, y, z = 1, 2, 3\n",
    "print(x, y, z)"
   ]
  },
  {
   "cell_type": "markdown",
   "metadata": {},
   "source": [
    "You can also assign a single value to several variables simultaneously:"
   ]
  },
  {
   "cell_type": "code",
   "execution_count": 13,
   "metadata": {},
   "outputs": [
    {
     "name": "stdout",
     "output_type": "stream",
     "text": [
      "1 1 1\n"
     ]
    }
   ],
   "source": [
    "x = y = z = 1\n",
    "print(x, y, z)"
   ]
  },
  {
   "cell_type": "markdown",
   "metadata": {},
   "source": [
    "Variable values can be updated with new values throughout the program:"
   ]
  },
  {
   "cell_type": "code",
   "execution_count": 1,
   "metadata": {},
   "outputs": [
    {
     "name": "stdout",
     "output_type": "stream",
     "text": [
      "3\n",
      "5\n"
     ]
    }
   ],
   "source": [
    "x = 1\n",
    "y = 2\n",
    "print(x + y)\n",
    "\n",
    "x = 3 # Assign a different object to x\n",
    "print(x + y)"
   ]
  },
  {
   "cell_type": "markdown",
   "metadata": {},
   "source": [
    "### Comments\n",
    "In the above examples you may have noticed multiple `#` symbols with text written after them. These are known as **comments** and are a crucial and often underused aspect of programming languages. Comments are lines that exist in computer programs that are ignored by the program. Including comments in programs makes code more readable for humans as it provides some information or explanation about what each part of a program is doing. In general, it is a good idea to write comments while you are writing or updating a program as it is easy to forget your thought process later on, and comments written later may be less useful in the long term. Comments are also very appreciated by someone who may use your program or be tasked with modifying parts of it, as they need an insight into your thought process. Try to avoid W.E.T comments meaning you 'Wrote Everything Twice'. Comments such as:"
   ]
  },
  {
   "cell_type": "code",
   "execution_count": null,
   "metadata": {},
   "outputs": [],
   "source": [
    "return a  # Returns a"
   ]
  },
  {
   "cell_type": "markdown",
   "metadata": {},
   "source": [
    "Your comments should be D.R.Y. (Don’t Repeat Yourself) and offer insight into how the code truly functions. Do not be afraid to write about limitations or future changes you want to make with the code."
   ]
  },
  {
   "cell_type": "markdown",
   "metadata": {},
   "source": [
    "# Review"
   ]
  },
  {
   "cell_type": "markdown",
   "metadata": {},
   "source": [
    "In this session we covered:\n",
    "\n",
    "* Motivation for learning to program\n",
    "* Motivation for using Python\n",
    "* How to use a Jupyter notebook\n",
    "* Printed Hello World!\n",
    "* How to assign variables in Python\n",
    "* How to write comments in python"
   ]
  },
  {
   "cell_type": "markdown",
   "metadata": {},
   "source": [
    "# Glossary\n",
    "\n",
    "Throughout this course many acronyms and phrases will be used, presented here for easy lookup:\n",
    "\n",
    "* **Algorithm:** A list of steps to finish a task.\n",
    "* **Code:** The language that programmers create and use to tell a computer what to do.\n",
    "* **CPU:** Central Processing Unit. This is the electronic circuitry within a computer that executes instructions that make up a computer program.\n",
    "* **Data:** Information. Often, quantities, characters, or symbols that are the inputs and outputs of computer programs.\n",
    "* **Debugging:** Finding and fixing problems in an algorithm or program.\n",
    "* **Function:** A piece of code that you can easily call over and over again.\n",
    "* **Hard Drive (HDD):** This is an example of non-volatile random-access memory; where the non-volatile means the disk keeps its bytes even after being powered off.\n",
    "* **Loop:** The action of doing something over and over again.\n",
    "* **Program:** An algorithm that has been coded into something that can be run by a machine.\n",
    "* **Pseudocode:** Pseudocode is a plain language description of the steps in an algorithm or another system.\n",
    "* **RAM:** Random Access Memory. This is a form of computer memory that can be read and changed in any order, typically used to store working data and machine code.\n",
    "* **Variable:** A placeholder for a piece of information that can change."
   ]
  }
 ],
 "metadata": {
  "kernelspec": {
   "display_name": "Python 3",
   "language": "python",
   "name": "python3"
  },
  "language_info": {
   "codemirror_mode": {
    "name": "ipython",
    "version": 3
   },
   "file_extension": ".py",
   "mimetype": "text/x-python",
   "name": "python",
   "nbconvert_exporter": "python",
   "pygments_lexer": "ipython3",
   "version": "3.7.3"
  },
  "toc-autonumbering": true
 },
 "nbformat": 4,
 "nbformat_minor": 4
}
