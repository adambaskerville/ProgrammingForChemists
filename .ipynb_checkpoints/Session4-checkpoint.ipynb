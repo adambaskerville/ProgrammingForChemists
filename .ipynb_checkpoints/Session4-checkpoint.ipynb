{
 "cells": [
  {
   "cell_type": "markdown",
   "metadata": {},
   "source": [
    "# Programming For Chemists: Basic NumPy and arrays "
   ]
  },
  {
   "cell_type": "markdown",
   "metadata": {},
   "source": [
    "NumPy stands for *numerical python* and is the universal standard for working with numerical data in Python. It is largely responsible for the popularity of the Python language within the sciences due to its multidimensional array and the ability to perform a wide variety of mathematical operations on arrays. It supplies an enormous library of high-level mathematical functions that operate on these arrays and matrices; implemented around very fast numerical C-libraries including [BLAS](http://www.netlib.org/blas/) and [LAPACK](http://www.netlib.org/lapack/). **Result:** You get the speed of C with the friendlier syntax of Python.\n",
    "\n",
    "NumPy is possibly **the** most important Python library we will cover in this course; unfortunately only scratching the surface. We will cover some of the important and useful functionality, then apply what we learn to some worked examples.  \n",
    "\n",
    "Before we begin we will briefly discuss running Python code locally using a text editor on your own computer."
   ]
  },
  {
   "cell_type": "markdown",
   "metadata": {},
   "source": [
    "to## Running Python Locally\n",
    "\n",
    "So far we have been using Jupyter notebooks to do our programming but this is not a requirement to run Python code. Python code is conventionally typed in a text editor and run locally on a users' computer without need for internet access. As you apply your programming knowledge in your own projects and future studies it will be of great benefit to know how this is done, which is now demonstrated using the Integrated Development Environment (IDE) [Visual Studio Code](https://code.visualstudio.com/). IDEs are software applications that provide comprehensive facilities to computer programmers. They contain a lot of useful features which assist you whilst you program, such as syntax autocomplete, function lookup, variable tracker, data type lists and many more. The following are recommended IDEs:\n",
    "\n",
    "1. [Visual Studio Code](https://code.visualstudio.com/)\n",
    "2. [Spyder](https://www.spyder-ide.org/)\n",
    "3. [PyCharm](https://www.jetbrains.com/pycharm/)\n",
    "\n",
    "I personally use Visual Studio Code as it offers support for nearly every known programming language. If you use multiple programming languages it can be cumbersome to have multiple IDEs corresponding to each language which you need to change to when needed. Visual Studio Code allows me to do all my programming in a single software. It is also available on all 3 main operating systems, Linux, Mac and Windows. Follows is a step-by-step guide to downloading and installing Visual Studio Code.\n",
    "\n",
    "The following is how to program and run a Python program locally:\n",
    "\n",
    "1. Create file with extension `.py` symbolising a Python file.\n",
    "2. Type your Python code and save the file.\n",
    "3. Open your terminal/command prompt and navigate to the directory where your file is located.\n",
    "4. Type `python name_of_file.py` and press enter.\n",
    "    \n",
    "![Python Example in Ubuntu](https://raw.githubusercontent.com/adambaskerville/ProgrammingForChemists/master/PythonExampleUbuntu.gif)"
   ]
  },
  {
   "cell_type": "markdown",
   "metadata": {},
   "source": [
    "## Installing NumPy\n",
    "\n",
    "If NumPy is not installed on your system "
   ]
  },
  {
   "cell_type": "markdown",
   "metadata": {},
   "source": [
    "## Importing NumPy\n",
    "\n",
    "In order to start using NumPy and all of the functions available in NumPy, you’ll need to import it. This is done using the import statement:"
   ]
  },
  {
   "cell_type": "code",
   "execution_count": 2,
   "metadata": {},
   "outputs": [],
   "source": [
    "import numpy as np"
   ]
  },
  {
   "cell_type": "markdown",
   "metadata": {},
   "source": [
    "where we have assigned `numpy` to `np` in order to save time."
   ]
  },
  {
   "cell_type": "markdown",
   "metadata": {},
   "source": [
    "## NumPy Arrays\n",
    "\n",
    "An array is the central data structure of the NumPy library, representing a grid of values containing information about the raw data, how to locate an element, and how to interpret an element. The elements are all of the same type, referred to as the array `dtype` (data type). One way to initialize NumPy arrays is using Python lists, using nested lists for two- or higher-dimensional data. For example:"
   ]
  },
  {
   "cell_type": "code",
   "execution_count": 17,
   "metadata": {},
   "outputs": [
    {
     "name": "stdout",
     "output_type": "stream",
     "text": [
      "[1 2 3 4 5 6]\n"
     ]
    }
   ],
   "source": [
    "# Build a 1D array from a python list\n",
    "a = np.array([1, 2, 3, 4, 5, 6])\n",
    "\n",
    "print(a)"
   ]
  },
  {
   "cell_type": "code",
   "execution_count": 18,
   "metadata": {},
   "outputs": [
    {
     "name": "stdout",
     "output_type": "stream",
     "text": [
      "[[ 1  2  3  4]\n",
      " [ 5  6  7  8]\n",
      " [ 9 10 11 12]]\n"
     ]
    }
   ],
   "source": [
    "# Build a 2D array from nested python lists\n",
    "b = np.array([[1, 2, 3, 4], [5, 6, 7, 8], [9, 10, 11, 12]])\n",
    "print(b)"
   ]
  },
  {
   "cell_type": "markdown",
   "metadata": {},
   "source": [
    "We can access the elements in the array using square brackets. Remember that indexing in NumPy starts at 0. That means that if you want to access the first element in your array, you’ll be accessing element `0` not `1`."
   ]
  },
  {
   "cell_type": "code",
   "execution_count": 21,
   "metadata": {},
   "outputs": [
    {
     "name": "stdout",
     "output_type": "stream",
     "text": [
      "1\n"
     ]
    }
   ],
   "source": [
    "# Get the first element from the numpy array, a. \n",
    "print(a[0])"
   ]
  },
  {
   "cell_type": "markdown",
   "metadata": {},
   "source": [
    "To extract a specific matrix element, we can use the notation [row,column]:"
   ]
  },
  {
   "cell_type": "code",
   "execution_count": 24,
   "metadata": {},
   "outputs": [
    {
     "name": "stdout",
     "output_type": "stream",
     "text": [
      "4\n",
      "11\n"
     ]
    }
   ],
   "source": [
    "# Extract element from first row and second column\n",
    "print(b[0,3])\n",
    "# Extract element from third row and third column\n",
    "print(b[2,2])"
   ]
  },
  {
   "cell_type": "markdown",
   "metadata": {},
   "source": [
    "You might occasionally hear an array referred to as a `ndarray`, which is shorthand for 'N-dimensional array.' An N-dimensional array is simply an array with any number of dimensions; 1-D, 2-D, 3-D etc... The NumPy `ndarray` class is used to represent both matrices and vectors, where a **vector** is an array with a single dimension (there’s no difference between row and column vectors in NumPy), while a **matrix** refers to an array with two dimensions. For 3-D or higher dimensional arrays, the term **tensor** is the preferred terminology; but these will not be covered in this introduction as vectors and matrices are far more commonplace."
   ]
  },
  {
   "cell_type": "markdown",
   "metadata": {},
   "source": [
    "### Useful Array Commands"
   ]
  },
  {
   "cell_type": "markdown",
   "metadata": {},
   "source": [
    "**np.zeros():**\n",
    "\n",
    "Besides creating an array from a sequence of elements, you can easily create an array filled with zeros:"
   ]
  },
  {
   "cell_type": "code",
   "execution_count": 26,
   "metadata": {},
   "outputs": [
    {
     "data": {
      "text/plain": [
       "array([[0., 0., 0., 0., 0.],\n",
       "       [0., 0., 0., 0., 0.],\n",
       "       [0., 0., 0., 0., 0.],\n",
       "       [0., 0., 0., 0., 0.],\n",
       "       [0., 0., 0., 0., 0.]])"
      ]
     },
     "execution_count": 26,
     "metadata": {},
     "output_type": "execute_result"
    }
   ],
   "source": [
    "# Create 5 x 5 array of zeros\n",
    "np.zeros([5,5])"
   ]
  },
  {
   "cell_type": "markdown",
   "metadata": {},
   "source": [
    "**np.ones():**\n",
    "\n",
    "Or an array filled with 1’s:"
   ]
  },
  {
   "cell_type": "code",
   "execution_count": 27,
   "metadata": {},
   "outputs": [
    {
     "data": {
      "text/plain": [
       "array([[1., 1., 1., 1., 1.],\n",
       "       [1., 1., 1., 1., 1.],\n",
       "       [1., 1., 1., 1., 1.],\n",
       "       [1., 1., 1., 1., 1.],\n",
       "       [1., 1., 1., 1., 1.]])"
      ]
     },
     "execution_count": 27,
     "metadata": {},
     "output_type": "execute_result"
    }
   ],
   "source": [
    "np.ones([5,5])"
   ]
  },
  {
   "cell_type": "markdown",
   "metadata": {},
   "source": [
    "Or even an empty array! \n",
    "\n",
    "**empty():**\n",
    "\n",
    "The `empty` function creates an array whose initial content is random and depends on the state of the memory. The reason you may want to use `empty` over `zeros` is speed:"
   ]
  },
  {
   "cell_type": "code",
   "execution_count": 29,
   "metadata": {},
   "outputs": [
    {
     "data": {
      "text/plain": [
       "array([[1., 1., 1., 1., 1.],\n",
       "       [1., 1., 1., 1., 1.],\n",
       "       [1., 1., 1., 1., 1.],\n",
       "       [1., 1., 1., 1., 1.],\n",
       "       [1., 1., 1., 1., 1.]])"
      ]
     },
     "execution_count": 29,
     "metadata": {},
     "output_type": "execute_result"
    }
   ],
   "source": [
    "np.empty([5,5])"
   ]
  },
  {
   "cell_type": "markdown",
   "metadata": {},
   "source": [
    "If using `empty` make sure to **fill all of the elements.** You can also create an array with a range of elements: "
   ]
  },
  {
   "cell_type": "code",
   "execution_count": 34,
   "metadata": {},
   "outputs": [
    {
     "data": {
      "text/plain": [
       "array([ 0,  2,  4,  6,  8, 10])"
      ]
     },
     "execution_count": 34,
     "metadata": {},
     "output_type": "execute_result"
    }
   ],
   "source": [
    "np.arange(0, 11, 2)"
   ]
  },
  {
   "cell_type": "markdown",
   "metadata": {},
   "source": [
    "NumPy arrays are not just limited to the default `np.float64` data type; and you can explicitly specify which data type you want using the `dtype` keyword:"
   ]
  },
  {
   "cell_type": "code",
   "execution_count": 38,
   "metadata": {},
   "outputs": [
    {
     "name": "stdout",
     "output_type": "stream",
     "text": [
      "[['1' '1' '1' '1' '1']\n",
      " ['1' '1' '1' '1' '1']\n",
      " ['1' '1' '1' '1' '1']\n",
      " ['1' '1' '1' '1' '1']\n",
      " ['1' '1' '1' '1' '1']]\n"
     ]
    }
   ],
   "source": [
    "# Construct a 5 x 5 array of non-numeric 1's (string data type! str)\n",
    "m = np.ones([5,5], dtype=np.str)\n",
    "print(m)"
   ]
  },
  {
   "cell_type": "markdown",
   "metadata": {},
   "source": [
    "**Array dimensions:**\n",
    "\n",
    "An important piece of information is the size and shape of our arrays. These can be extracted using the following:\n",
    "\n",
    "`ndarray.ndim` tells you the number of dimensions, of the array.\n",
    "\n",
    "`ndarray.size` tells you the total number of elements of the array.\n",
    "\n",
    "`ndarray.shape` displays a tuple of integers that indicate the number of elements stored along each dimension of the array. If, for example, you have a 2-D array with 2 rows and 4 columns, the shape of your array is (2, 4):"
   ]
  },
  {
   "cell_type": "code",
   "execution_count": 3,
   "metadata": {},
   "outputs": [
    {
     "name": "stdout",
     "output_type": "stream",
     "text": [
      "2\n",
      "9\n",
      "(3, 3)\n"
     ]
    }
   ],
   "source": [
    "m = np.array([[0, 1, 2],\n",
    "              [3, 4, 5],\n",
    "              [6, 7, 8]])\n",
    "\n",
    "# Extract the number of dimensions of the array\n",
    "print(m.ndim)\n",
    "# Extract the number of elements in the array\n",
    "print(m.size)\n",
    "# Extract the shape of the array\n",
    "print(m.shape)"
   ]
  },
  {
   "cell_type": "markdown",
   "metadata": {},
   "source": [
    "An very useful function is `np.reshape` which allows you to change the shape of the array without changing the data. When using the `reshape` method, the array you want to produce **needs** to have the same number of elements as the original array; you cannot lose or gain elements!"
   ]
  },
  {
   "cell_type": "code",
   "execution_count": 52,
   "metadata": {},
   "outputs": [
    {
     "name": "stdout",
     "output_type": "stream",
     "text": [
      "[0 1 2 3 4 5 6 7 8 9]\n",
      "[[0 1]\n",
      " [2 3]\n",
      " [4 5]\n",
      " [6 7]\n",
      " [8 9]]\n"
     ]
    }
   ],
   "source": [
    "# Create a 1D numpy array (vector)\n",
    "a = np.arange(10)\n",
    "\n",
    "# Resize the array into 5 rows and 2 columns; assigning to variable b\n",
    "b = a.reshape(5,2)\n",
    "\n",
    "print(a)\n",
    "\n",
    "print(b)"
   ]
  },
  {
   "cell_type": "markdown",
   "metadata": {},
   "source": [
    "**Slicing:**\n",
    "\n",
    "Slicing means taking elements from an iterable between two given indices. In Python this is given the syntax : `[start:end]` or `[start:end:step]`\n",
    "\n",
    "If you don't provide `start` it is considered 0. If you don't provide `end` it is considered to be the length of the iterable in that dimension, and if `step` is not provided it is considered 1. **Note:** The result includes the start index, but excludes the end index:"
   ]
  },
  {
   "cell_type": "code",
   "execution_count": 12,
   "metadata": {},
   "outputs": [
    {
     "name": "stdout",
     "output_type": "stream",
     "text": [
      "[4 5 6] \n",
      "\n",
      "[[1 2 3]\n",
      " [4 5 6]] \n",
      "\n",
      "[[4 5 6]\n",
      " [7 8 9]] \n",
      "\n",
      "[[4 5 6]\n",
      " [7 8 9]] \n",
      "\n",
      "[[2 3]\n",
      " [5 6]] \n",
      "\n",
      "[[1]\n",
      " [4]]\n"
     ]
    }
   ],
   "source": [
    "# create numpy array\n",
    "arr = np.array([[1, 2, 3],\n",
    "                [4, 5, 6],\n",
    "                [7, 8, 9]])\n",
    "\n",
    "# extract second element\n",
    "print(arr[1],\"\\n\")\n",
    "\n",
    "# slice row starting from index 0 -> 2\n",
    "print(arr[0:2], \"\\n\") \n",
    "\n",
    "# slice rows starting from index 1 but do not provide the end index\n",
    "print(arr[1:], \"\\n\")\n",
    "\n",
    "# slice rows starting from index = -2 and do not provide the end index\n",
    "print(arr[-2:], \"\\n\")\n",
    "\n",
    "# slice columns starting from index =1 and do not provide the end index\n",
    "print(arr[:2,1:], \"\\n\")\n",
    "\n",
    "# slice columns starting from index =1 and do not provide the end index\n",
    "print(arr[:2,:1])"
   ]
  },
  {
   "cell_type": "markdown",
   "metadata": {},
   "source": [
    "Indexing and slicing operations can sometimes be difficult to visualise; the following figures hopefully can assist aid in their understanding:"
   ]
  },
  {
   "cell_type": "markdown",
   "metadata": {},
   "source": [
    "![Python Example in Ubuntu](https://raw.githubusercontent.com/adambaskerville/ProgrammingForChemists/master/numpy_slicing_graphic.png)"
   ]
  },
  {
   "cell_type": "markdown",
   "metadata": {},
   "source": [
    "**Conditional Slicing:**\n",
    "\n",
    "We can also select values from our array that fulfill certain conditions. Consider the following NumPy array:"
   ]
  },
  {
   "cell_type": "code",
   "execution_count": 8,
   "metadata": {},
   "outputs": [],
   "source": [
    "m = np.array([[1, 2, 3, 4], [5, 6, 7, 8]])"
   ]
  },
  {
   "cell_type": "markdown",
   "metadata": {},
   "source": [
    "Lets print all the values that are less than 4:"
   ]
  },
  {
   "cell_type": "code",
   "execution_count": 9,
   "metadata": {},
   "outputs": [
    {
     "name": "stdout",
     "output_type": "stream",
     "text": [
      "[1 2 3]\n"
     ]
    }
   ],
   "source": [
    "print(m[m < 4])"
   ]
  },
  {
   "cell_type": "markdown",
   "metadata": {},
   "source": [
    "We can also apply multiple conditions using the `&` (and) and `|` (or):"
   ]
  },
  {
   "cell_type": "code",
   "execution_count": 10,
   "metadata": {},
   "outputs": [
    {
     "name": "stdout",
     "output_type": "stream",
     "text": [
      "[1 2 4 5]\n"
     ]
    }
   ],
   "source": [
    "print(m[(m < 6) & (m !=3)])"
   ]
  },
  {
   "cell_type": "markdown",
   "metadata": {},
   "source": [
    "**hstack() and vstack():**\n",
    "\n",
    "It is often desirable to stack two arrays horizontally or vertically; done using `vstack()` and `hstack()`:"
   ]
  },
  {
   "cell_type": "code",
   "execution_count": 33,
   "metadata": {},
   "outputs": [
    {
     "name": "stdout",
     "output_type": "stream",
     "text": [
      "m1= [[ 1  2]\n",
      " [10 12]]\n",
      "m2= [[4 1]\n",
      " [0 0]]\n",
      "horizontal_stack:\n",
      "[[ 1  2  4  1]\n",
      " [10 12  0  0]]\n",
      "vertical_stack:\n",
      "[[ 1  2]\n",
      " [10 12]\n",
      " [ 4  1]\n",
      " [ 0  0]]\n"
     ]
    }
   ],
   "source": [
    "m1 = np.array([[1,2], \n",
    "               [10,12]])\n",
    "\n",
    "print(\"m1=\", m1)\n",
    "\n",
    "m2 = np.array([[4,1], \n",
    "               [0,0]])\n",
    "\n",
    "print(\"m2=\", m2)\n",
    "\n",
    "# horizontally stack the two arrays\n",
    "horizontal_stack = np.hstack((m1, m2))\n",
    "\n",
    "# vertically stack the two arrays\n",
    "vertical_stack = np.vstack((m1, m2))\n",
    "\n",
    "print(\"horizontal_stack:\")\n",
    "print(horizontal_stack)\n",
    "print(\"vertical_stack:\")\n",
    "print(vertical_stack)"
   ]
  },
  {
   "cell_type": "markdown",
   "metadata": {},
   "source": [
    "### Array Operations"
   ]
  },
  {
   "cell_type": "markdown",
   "metadata": {},
   "source": [
    "Mathematical operations on arrays ar\n",
    "\n",
    "First, a reminder of matrix multiplication:\n",
    "\n",
    "<center><img src=\"https://raw.githubusercontent.com/adambaskerville/ProgrammingForChemists/master/matrix-multiplication-0.jpg\" width=\"400\" height=\"400\" /></center>\n"
   ]
  },
  {
   "cell_type": "code",
   "execution_count": null,
   "metadata": {},
   "outputs": [],
   "source": []
  }
 ],
 "metadata": {
  "kernelspec": {
   "display_name": "Python 3",
   "language": "python",
   "name": "python3"
  },
  "language_info": {
   "codemirror_mode": {
    "name": "ipython",
    "version": 3
   },
   "file_extension": ".py",
   "mimetype": "text/x-python",
   "name": "python",
   "nbconvert_exporter": "python",
   "pygments_lexer": "ipython3",
   "version": "3.7.7"
  }
 },
 "nbformat": 4,
 "nbformat_minor": 4
}
