{
 "cells": [
  {
   "cell_type": "markdown",
   "metadata": {},
   "source": [
    "# Programming for Chemists: Smoothing Data and Peak Finding\n",
    "\n",
    "Why would we want to smooth data?\n",
    "\n",
    "* Data from experiment will often be noisy and important features might not be obvious. Smoothing the data makes features more apparent and measurable.\n",
    "* Smoothing can allow us to interpret the data better.\n",
    "\n",
    "However, by filtering noise or smoothing data you are modifying the data; which is a common and acceptable practice in science *as long as it is done properly*. You **MUST** clearly state that the data was smoothed and the method by which it was smoothed, never modify data without clearly stating how it was modified.\n",
    "\n",
    "If we want to learn to smooth data, we need some data. We will load "
   ]
  },
  {
   "cell_type": "code",
   "execution_count": null,
   "metadata": {},
   "outputs": [],
   "source": []
  }
 ],
 "metadata": {
  "kernelspec": {
   "display_name": "Python 3",
   "language": "python",
   "name": "python3"
  },
  "language_info": {
   "codemirror_mode": {
    "name": "ipython",
    "version": 3
   },
   "file_extension": ".py",
   "mimetype": "text/x-python",
   "name": "python",
   "nbconvert_exporter": "python",
   "pygments_lexer": "ipython3",
   "version": "3.7.7"
  }
 },
 "nbformat": 4,
 "nbformat_minor": 4
}
