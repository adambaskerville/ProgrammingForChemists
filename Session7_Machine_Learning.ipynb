{
 "cells": [
  {
   "cell_type": "markdown",
   "metadata": {},
   "source": [
    "# Programming for Chemists: How Machine Learning is Changing Science\n",
    "\n",
    "Machine learning, the buzz phrase of the last 10 years, but what is it? why is it important? why is there a session dedicated to it? It is a **vast** and **rapidly** growing field of research built on very complex mathematics and statistics; which we will not cover. Instead we are going to explore how you can **use** it to solve real world problems; application over theory. There is a high probability you will end up using machine learning in your work, so it is more important you understand how you can use it as opposed to spending months understanding the mathematics behind the algorithms.\n",
    "\n",
    "Machine learning is one of the **most significant** advancements in modern computing with its current implementation a realisation of the pioneering work of Alan Turing in the 1950s;  where he published multiple papers, one titled \"[Computing Machinery and Intelligence](https://academic.oup.com/mind/article/LIX/236/433/986238)\". In this paper he described \"*the imitation game*\" as a means of answering a big question, \"*Can machines think?*\". "
   ]
  },
  {
   "cell_type": "markdown",
   "metadata": {},
   "source": [
    "## Artificial Intelligence, Machine Learning, and Deep Learning. What's the Difference?\n",
    "\n",
    "There is no unanimously agreed upon definition of machine learning but a general definition is, \"*a sub-set of artificial intelligence where computer algorithms autonomously learn from data and information given to it. Machine learning does not require computers to be explicitly programmed but can change and improve their algorithms by themselves.*\""
   ]
  },
  {
   "cell_type": "code",
   "execution_count": null,
   "metadata": {},
   "outputs": [],
   "source": []
  }
 ],
 "metadata": {
  "kernelspec": {
   "display_name": "Python 3",
   "language": "python",
   "name": "python3"
  },
  "language_info": {
   "codemirror_mode": {
    "name": "ipython",
    "version": 3
   },
   "file_extension": ".py",
   "mimetype": "text/x-python",
   "name": "python",
   "nbconvert_exporter": "python",
   "pygments_lexer": "ipython3",
   "version": "3.7.7"
  }
 },
 "nbformat": 4,
 "nbformat_minor": 4
}
