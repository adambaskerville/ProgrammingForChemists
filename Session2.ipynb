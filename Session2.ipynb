{
 "cells": [
  {
   "cell_type": "markdown",
   "metadata": {},
   "source": [
    "# Programming for Chemists: Key data types and uses"
   ]
  },
  {
   "cell_type": "markdown",
   "metadata": {},
   "source": [
    "In this session we will cover the key data types in Python, their common uses and how they interact with one another. Data types are the classification of data items and represent a quantity which determines what operations can be performed on that data. Numeric, non-numeric and Boolean (true/false) data are the most commonly used data types. However, each programming language has its own classification largely reflecting its programming philosophy."
   ]
  },
  {
   "cell_type": "markdown",
   "metadata": {},
   "source": [
    "## Numeric data types\n",
    "\n",
    "There are three distinct **numeric types** in Python: \n",
    "\n",
    "1. Integers\n",
    "2. Floating point numbers\n",
    "3. Complex numbers\n",
    "\n",
    "An `integer` is a number that can be written without a fractional component, e.g. 1, 12, 643656 etc... \n",
    "\n",
    "`Floating point numbers` are numbers that do have a fractional part, e.g. 7.3715 or 3.14159. The \"float\" refers to the fact that a number's decimal point can be placed anywhere relative to the significant digits of the number. In general floating point numbers are represented approximately to a fixed number of significant digits (the significand) and scaled using an exponent in some fixed base, for example the floating point number 4.1384\n",
    "\n",
    "\\\\[\n",
    "4.1384 = \\underbrace{41384}_{\\text{significand}} \\times \\underbrace{10}_{\\text{base}} \\overbrace{^{-4}}^{\\text{exponent}}\n",
    "\\\\]\n",
    "This position is indicated as the exponent component, and thus the floating-point representation is very similar to scientific notation. Understanding floating point numbers and their limitations are vital as they are one of the most used data types in all of science. Say an astrophysicist wants to use the speed of light, $c \\approx 299 792 458 ms^{-1}$, and Newton's gravitational constant, $G = 0.0000000000667$ in the same calculation, how do we handle the difference in magnitudes between these numbers? With floating point numbers! \n",
    "\n",
    "In Python floating point numbers are implemented using the `double` type from the `C` programming language meaning they are accurate to approximately 15-16 decimal places. Precision of floating point numbers varies between computers and we can ask Python to tell us the limitations on how your computer processes floating point numbers using the `sys` module as follows: "
   ]
  },
  {
   "cell_type": "code",
   "execution_count": 54,
   "metadata": {},
   "outputs": [
    {
     "data": {
      "text/plain": [
       "sys.float_info(max=1.7976931348623157e+308, max_exp=1024, max_10_exp=308, min=2.2250738585072014e-308, min_exp=-1021, min_10_exp=-307, dig=15, mant_dig=53, epsilon=2.220446049250313e-16, radix=2, rounds=1)"
      ]
     },
     "execution_count": 54,
     "metadata": {},
     "output_type": "execute_result"
    }
   ],
   "source": [
    "import sys # Import the System-specific parameters and functions module\n",
    "sys.float_info # Ask Python to print information about floating point representations"
   ]
  },
  {
   "cell_type": "markdown",
   "metadata": {},
   "source": [
    "Lets discuss what the key terms mean:\n",
    "\n",
    "* `max`: Maximum representable positive finite float\n",
    "* `min`: Minimum representable positive normalized float\n",
    "* `dig`: Maximum number of decimal digits that can be faithfully represented in a float\n",
    "* `epsilon`: Difference between 1.0 and the least value greater than 1.0 that is representable as a float\n",
    "\n",
    "This shows that floating point numbers have the advantage of being able to represent very large and very small numbers, but unfortunately when converting a decimal number into a binary representation, base 2, floating point numbers cannot be represented exactly. Due to limited computer memory you have to cut off the decimal part at some point and continue on with the calculation, hence the creation of the `double` data type which is accurate to approximately 15-16 decimal places. Any digits past this point should be considered incorrect. Unfortunately these error digits can cause headaches for programmers as they can accumulate throughout a calculation and cause rounding errors.\n",
    "\n",
    "Let us look at a simple example of precision loss due to representing decimal numbers as floating point numbers, also known as **floating point rounding error**. Consider the addition of 0.1 and 0.2:"
   ]
  },
  {
   "cell_type": "code",
   "execution_count": 20,
   "metadata": {},
   "outputs": [
    {
     "name": "stdout",
     "output_type": "stream",
     "text": [
      "0.30000000000000004\n"
     ]
    }
   ],
   "source": [
    "print(0.1 + 0.2)"
   ]
  },
  {
   "cell_type": "markdown",
   "metadata": {},
   "source": [
    "This is technically incorrect as the answer should be **exactly** 0.3. For nearly all applications this number is correct. This will not affect an engineer building a bridge as it does not matter that the number is technically incorrect at the 16th decimal place. However in certain scientific disciplines, e.g. programming of physical chemistry, floating point errors are a major obstacle. Floating point errors should be taken very seriously by scientists as some major catastrophes have resulted due to misunderstanding of how numbers are represented on computers, including:\n",
    "\n",
    "* **1991 patriot missile defence disaster:** The American patriot missile defense battery failed to intercept an incoming Scud missile which killed 28 soldiers. The internal clock of the defense system measured and stored time as an integer value in units of tenths of a second; and so this number was multiplied by 1/10 to produce the time in seconds. 1/10, has a non-terminating binary representation and was chopped at approximately 7 digits after the decimal point. The Patriot battery had been active for around 100 hours, and these truncations of the time measurements resulted in an effective time error of ~ 0.34 seconds. A Scud missile travels at 1,676 metres per second, travelling more than half a kilometre in this time. This resulted in the system mis-tracking the incoming Scud projectile, instead scanning an area of airspace more than 500 metres from the target.\n",
    "\n",
    "* **1996 Ariane 5 rocket explosion:** Shortly after the launch of the rocket, the inertial guidance system produced a number which was interpreted by the rockets' on-board computer as a course change. The on-board computer then reacted correctly to get back on the right course based on that number. However, even though the number from the guidance system looked like a course change, it was not. The guidance system had actually shut down because of a number conversion error which was not handled correctly. The shut down was caused when the software attempted to convert a 64 bit velocity number into a 16 bit number, causing a integer overflow error which was not handled correctly. This caused the **\\$500 million** rocket to explode seconds after launch, a catastrophe that could have been prevented by just a few lines of code. Below is a clip of the sudden, incorrect course change the Ariane 5 rocket makes.\n",
    "\n",
    "<center><img src='https://media.giphy.com/media/YqWdjFCg5igsXDF9W2/giphy.gif'></center>\n",
    "\n",
    "Integers in Python are implemented using \"arbitrary precision\" as they are stored as a `digit array` object which is variable in length and hence integer representations are only limited by the memory of the computer. Arbitrary precision integers mean that as long as the integer can fit in your computer's memory, mathematical operations applied to said integer should result in exactly correct numerical answers; with no rounding errors.   "
   ]
  },
  {
   "cell_type": "markdown",
   "metadata": {},
   "source": [
    "## Boolean "
   ]
  },
  {
   "cell_type": "markdown",
   "metadata": {},
   "source": [
    "Booleans are a data type that exist in all programming languages, acting as a \"switch\" representing \"True\" or \"False\". You can declare a boolean value in your code using the keywords `True` and `False` (note the uppercase). Let us assign a boolean data type to a variable:"
   ]
  },
  {
   "cell_type": "code",
   "execution_count": 9,
   "metadata": {},
   "outputs": [],
   "source": [
    "Python_is_fun = True"
   ]
  },
  {
   "cell_type": "markdown",
   "metadata": {},
   "source": [
    "More commonly, a boolean value is returned as a result of some kind of comparison. Consider the comparison of two integers:"
   ]
  },
  {
   "cell_type": "code",
   "execution_count": 19,
   "metadata": {},
   "outputs": [
    {
     "data": {
      "text/plain": [
       "False"
      ]
     },
     "execution_count": 19,
     "metadata": {},
     "output_type": "execute_result"
    }
   ],
   "source": [
    "x = 1\n",
    "y = 10\n",
    "\n",
    "x == y # Does x == y?"
   ]
  },
  {
   "cell_type": "markdown",
   "metadata": {},
   "source": [
    "Note the use of double equals `==` which represents the `Equal to` operator. This is one of many comparison operators in Python, with others listed in the table below.\n",
    "\n",
    "| Operator   |      What it means        | Example\n",
    "|----------  |:-------------             |:-------\n",
    "| `==`       |  Equal to                 | x == y\n",
    "| `!=`       |  Not equal to             | x != y\n",
    "|  `<`       |  Less than                | x < y\n",
    "|  `>`       |  Greater than             | x > y\n",
    "|  `<=`      |  Less than or equal to    | x <= y\n",
    "|  `>=`      |  Greater than or equal to | x >= y"
   ]
  },
  {
   "cell_type": "markdown",
   "metadata": {},
   "source": [
    "Here are some more examples of comparison operators. Work out the (True/False) output before running them!"
   ]
  },
  {
   "cell_type": "code",
   "execution_count": 13,
   "metadata": {},
   "outputs": [
    {
     "data": {
      "text/plain": [
       "True"
      ]
     },
     "execution_count": 13,
     "metadata": {},
     "output_type": "execute_result"
    }
   ],
   "source": [
    "1 != 4"
   ]
  },
  {
   "cell_type": "code",
   "execution_count": 76,
   "metadata": {},
   "outputs": [
    {
     "data": {
      "text/plain": [
       "False"
      ]
     },
     "execution_count": 76,
     "metadata": {},
     "output_type": "execute_result"
    }
   ],
   "source": [
    "23 > 23"
   ]
  },
  {
   "cell_type": "code",
   "execution_count": 15,
   "metadata": {},
   "outputs": [
    {
     "data": {
      "text/plain": [
       "True"
      ]
     },
     "execution_count": 15,
     "metadata": {},
     "output_type": "execute_result"
    }
   ],
   "source": [
    "56 <= 100"
   ]
  },
  {
   "cell_type": "code",
   "execution_count": 75,
   "metadata": {},
   "outputs": [
    {
     "data": {
      "text/plain": [
       "False"
      ]
     },
     "execution_count": 75,
     "metadata": {},
     "output_type": "execute_result"
    }
   ],
   "source": [
    "\"String\" == \"string\""
   ]
  },
  {
   "cell_type": "markdown",
   "metadata": {},
   "source": [
    "What if we have multiple conditions that decide the output of a program? We can use logical operators to evaluate whether two or more expressions are `True` or `False`. There are three logical operators that are used to compare values, evaluating expressions down to Boolean values returning either `True` or `False`. These operators are `and`, `or`, and `not` and are defined in the table below.\n",
    "\n",
    "| Operator   |      What it means                                   | Example    |\n",
    "|----------  |:-------------                                        |:---------  |\n",
    "| `and`      |  True if **both** the operands are true                  | x and y    |\n",
    "| `or`       |  True if **either** of the operands is true              | x or y     |\n",
    "| `not`      |  True if operand is false (complements the operand)  | not x      |\n",
    "\n",
    "Consider some more complex examples given below utilising `and`, `or` and `not` for comparisons:"
   ]
  },
  {
   "cell_type": "code",
   "execution_count": 72,
   "metadata": {},
   "outputs": [
    {
     "data": {
      "text/plain": [
       "False"
      ]
     },
     "execution_count": 72,
     "metadata": {},
     "output_type": "execute_result"
    }
   ],
   "source": [
    "(1 != 1) and (2 < 3)"
   ]
  },
  {
   "cell_type": "code",
   "execution_count": 71,
   "metadata": {},
   "outputs": [
    {
     "data": {
      "text/plain": [
       "True"
      ]
     },
     "execution_count": 71,
     "metadata": {},
     "output_type": "execute_result"
    }
   ],
   "source": [
    "(10 > 1) or (4 < 1)"
   ]
  },
  {
   "cell_type": "code",
   "execution_count": 77,
   "metadata": {},
   "outputs": [
    {
     "data": {
      "text/plain": [
       "False"
      ]
     },
     "execution_count": 77,
     "metadata": {},
     "output_type": "execute_result"
    }
   ],
   "source": [
    "x = True\n",
    "not x"
   ]
  },
  {
   "cell_type": "code",
   "execution_count": 80,
   "metadata": {},
   "outputs": [
    {
     "data": {
      "text/plain": [
       "True"
      ]
     },
     "execution_count": 80,
     "metadata": {},
     "output_type": "execute_result"
    }
   ],
   "source": [
    "x = False\n",
    "\n",
    "3 > 1 and not x"
   ]
  },
  {
   "cell_type": "markdown",
   "metadata": {},
   "source": [
    "Boolean logic is a very useful way to make your code behave differently based on current conditions. They see their main use in conjunction with the `if`, `elif` and `else` conditional statements which we will cover shortly."
   ]
  },
  {
   "cell_type": "markdown",
   "metadata": {},
   "source": [
    "## Sequence data types"
   ]
  },
  {
   "cell_type": "markdown",
   "metadata": {},
   "source": [
    "A sequence is an ordered collection of similar or different data types allowing for storage of multiple values in an efficient and organised fashion. Python has a variety of sequence data types but we will focus on the three key ones."
   ]
  },
  {
   "cell_type": "markdown",
   "metadata": {},
   "source": [
    "### **String** \n",
    "\n",
    "A string value is a collection of one or more characters put in single, double or triple quotes."
   ]
  },
  {
   "cell_type": "code",
   "execution_count": 26,
   "metadata": {},
   "outputs": [
    {
     "name": "stdout",
     "output_type": "stream",
     "text": [
      "This is a string in single quotes\n",
      "This is a string in double quotes\n",
      "This is a string in triple quotes\n"
     ]
    }
   ],
   "source": [
    "print('This is a string in single quotes')\n",
    "\n",
    "print(\"This is a string in double quotes\")\n",
    "\n",
    "print('''This is a string in triple quotes''')"
   ]
  },
  {
   "cell_type": "markdown",
   "metadata": {},
   "source": [
    "`''` and `\"\"` are equivalent. If you have an apostrophe in your string, it is easier to use `\"\"` so the string does not terminate at the apostrophe. If you have quotes in the string, it's easier to use `''` so the string does not terminate at the quotes. Triple quotes (both `\"\"\"` and `'''` are permitted) allow the string to contain line breaks. A Python string can contain as many characters as you wish. The only limit is your machine’s memory."
   ]
  },
  {
   "cell_type": "markdown",
   "metadata": {},
   "source": [
    "### **List**\n",
    "\n",
    "A list object is an ordered collection of one or more data items, not necessarily of the same type, put in square brackets."
   ]
  },
  {
   "cell_type": "code",
   "execution_count": 120,
   "metadata": {},
   "outputs": [],
   "source": [
    "lab_shopping = [\"Conical flasks\", \"Bunsen burners\", \"Test tubes\"] # A list of strings\n",
    "\n",
    "data_type_list = [\"String\", 22, 5.36456, True] # A list of multiple data types"
   ]
  },
  {
   "cell_type": "markdown",
   "metadata": {},
   "source": [
    "A very important quality of Python lists is that they use **zero-based indexing**, meaning the first item in the list has index 0, **not** 1, an index of 1 is the second item and so on. Indices are assigned to the items in the list in order to extract out specific items using the notation `List[index]`. Let us extract out the first two items from the following list:"
   ]
  },
  {
   "cell_type": "code",
   "execution_count": 121,
   "metadata": {},
   "outputs": [
    {
     "name": "stdout",
     "output_type": "stream",
     "text": [
      "Item 1\n",
      "Item 2\n"
     ]
    }
   ],
   "source": [
    "lst = [\"Item 1\", \"Item 2\", \"Item 3\"] # Create a list\n",
    "\n",
    "print(lst[0]) # Print the first item, index 0\n",
    "\n",
    "print(lst[1]) # Print the second item, index 1"
   ]
  },
  {
   "cell_type": "markdown",
   "metadata": {},
   "source": [
    "You can also use negative indices to iterate through the list in reverse order. Consider extracting the last item of the following list:"
   ]
  },
  {
   "cell_type": "code",
   "execution_count": 64,
   "metadata": {},
   "outputs": [
    {
     "data": {
      "text/plain": [
       "5"
      ]
     },
     "execution_count": 64,
     "metadata": {},
     "output_type": "execute_result"
    }
   ],
   "source": [
    "lst = [1, 2, 3, 4, 5] # A list of integers\n",
    "\n",
    "lst[-1] # Extract the last item of the list by using a negative index"
   ]
  },
  {
   "cell_type": "markdown",
   "metadata": {},
   "source": [
    "There are a lot of useful operations that can be applied to lists including: "
   ]
  },
  {
   "cell_type": "code",
   "execution_count": 128,
   "metadata": {},
   "outputs": [
    {
     "name": "stdout",
     "output_type": "stream",
     "text": [
      "Item appended: [1, 5, 7]\n",
      "Item inserted: [1, 3, 5, 7]\n",
      "Count items: 1\n",
      "Reverse list: [7, 5, 3, 1]\n",
      "Number of items: 4\n"
     ]
    }
   ],
   "source": [
    "# Create a list\n",
    "lst = [1, 5] \n",
    "\n",
    "# Add an item, x, to the end of the list using .append(x)\n",
    "lst.append(7) \n",
    "print(\"Item appended:\", lst)\n",
    "\n",
    "# Insert an item in the list at a specified position using .insert(i,x). i is the index of the element before which to insert, x is the item to insert\n",
    "lst.insert(1, 3) \n",
    "print(\"Item inserted:\", lst)\n",
    "\n",
    "# Count the number of times an item appears in the list using .count(x), e.g. the number 1:\n",
    "print(\"Count items:\", lst.count(1)) \n",
    "\n",
    "# Reverse the order of elements in the list in place using .reverse()\n",
    "lst.reverse() \n",
    "print(\"Reverse list:\", lst)\n",
    "\n",
    "# Count the number of items in a list using len(list)\n",
    "print(\"Number of items:\", len(lst)) "
   ]
  },
  {
   "cell_type": "markdown",
   "metadata": {},
   "source": [
    "### **Tuple** \n",
    "\n",
    "Lists are enclosed in brackets `[ ]` and their elements and size can be changed, they are **mutable**. Tuples are enclosed in parentheses `( )` and cannot be updated, they are **immutable.**"
   ]
  },
  {
   "cell_type": "code",
   "execution_count": 89,
   "metadata": {},
   "outputs": [
    {
     "name": "stdout",
     "output_type": "stream",
     "text": [
      "('apple', 'banana', 'orange')\n"
     ]
    }
   ],
   "source": [
    "our_first_tuple = (\"apple\", \"banana\", \"orange\") # Make a tuple\n",
    "print(our_first_tuple)"
   ]
  },
  {
   "cell_type": "markdown",
   "metadata": {},
   "source": [
    "You can access tuple items just like we did with list items, by referring to the index number, inside square brackets:"
   ]
  },
  {
   "cell_type": "code",
   "execution_count": 84,
   "metadata": {},
   "outputs": [
    {
     "data": {
      "text/plain": [
       "'apple'"
      ]
     },
     "execution_count": 84,
     "metadata": {},
     "output_type": "execute_result"
    }
   ],
   "source": [
    "our_first_tuple[0]"
   ]
  },
  {
   "cell_type": "markdown",
   "metadata": {},
   "source": [
    "There is a culture of using tuples for collections of **heterogeneous** objects which are data with high variability of data types and formats; for example an address broken into name, street, city, county and post code.\n",
    "\n",
    "Lists on the other hand are often used for **homogeneous** objects which share the same data type or format. it should be noted that these are just conventions and it is up to the user what structure they use. The important deciding factor for choosing a tuple or list is the mutability of your data. Must it be mutable? Use a **list**. Must it not be mutable? Use a **tuple**.\n",
    "\n",
    "Tuples may seem a limited version of a Python `list` but they do have unique advantages:\n",
    "    \n",
    "* Tuples are faster than lists. If you're defining a constant set of values and are only ever going to iterate through it, use a tuple instead of a list.\n",
    "* It makes your code safer if you “write-protect” data that does not need to be changed. Using a tuple instead of a list is like having a lock on the data requiring special user privilige to override it.\n",
    "* Some tuples can be used as dictionary keys (specifically, tuples that contain immutable values like strings, numbers, and other tuples). Lists can **never** be used as dictionary keys, because lists are not immutable. We will discuss dictionaires in the next section."
   ]
  },
  {
   "cell_type": "markdown",
   "metadata": {},
   "source": [
    "## **Dictionaries**"
   ]
  },
  {
   "cell_type": "markdown",
   "metadata": {},
   "source": [
    "Dictionaries are one of the most useful data types in the Python language. They are Python’s implementation of a data structure that is more generally known as an **associative array**. A dictionary consists of a collection of key-value pairs. Each key-value pair maps the key to its associated value.\n",
    "\n",
    "\n",
    "Dictionaries are defined by enclosing a comma-separated list of key-value pairs in curly braces (`{}`). A colon (`:`) separates each key from its associated value. Let's consider a dictionary which stores some useful scientific data:"
   ]
  },
  {
   "cell_type": "code",
   "execution_count": 101,
   "metadata": {},
   "outputs": [
    {
     "name": "stdout",
     "output_type": "stream",
     "text": [
      "{'pressure': 20, 'temperature': 110, 'ph': 3.1, 'salinity': 1.025, 'threshold': False}\n"
     ]
    }
   ],
   "source": [
    "# Create a dictionary to hold useful scientific data from an experiment\n",
    "experiment_info = {\n",
    "    'pressure'    : 20,\n",
    "    'temperature' : 110,\n",
    "    'ph'          : 3.1,\n",
    "    'salinity'    : 1.025,\n",
    "    'threshold'   : False\n",
    "}\n",
    "\n",
    "print(experiment_info)"
   ]
  },
  {
   "cell_type": "markdown",
   "metadata": {},
   "source": [
    "When we printed the entries in the dictionary they are displayed in the order they were defined, but that is irrelevant when it comes to retrieving them as dictionary elements are not accessed by numerical index like lists and tuples. A value is retrieved from a dictionary by specifying its corresponding key in square brackets (`[]`):"
   ]
  },
  {
   "cell_type": "code",
   "execution_count": 95,
   "metadata": {},
   "outputs": [
    {
     "data": {
      "text/plain": [
       "3.1"
      ]
     },
     "execution_count": 95,
     "metadata": {},
     "output_type": "execute_result"
    }
   ],
   "source": [
    "# Print the ph from the dictionary\n",
    "experiment_info['ph']"
   ]
  },
  {
   "cell_type": "markdown",
   "metadata": {},
   "source": [
    "To add a new key to an existing dictionary, we just need to assign a new key and value. Let's add a `volume` key and value to our `experiment_info` dictionary"
   ]
  },
  {
   "cell_type": "code",
   "execution_count": 103,
   "metadata": {},
   "outputs": [
    {
     "name": "stdout",
     "output_type": "stream",
     "text": [
      "{'pressure': 20, 'temperature': 110, 'ph': 3.1, 'salinity': 1.025, 'volume': 30}\n"
     ]
    }
   ],
   "source": [
    "experiment_info['volume'] = 30 \n",
    "print(experiment_info)"
   ]
  },
  {
   "cell_type": "markdown",
   "metadata": {},
   "source": [
    "If you want to update an entry in a dictionary, assign a new value to an existing key. Let's change the temperature:"
   ]
  },
  {
   "cell_type": "code",
   "execution_count": 100,
   "metadata": {},
   "outputs": [
    {
     "name": "stdout",
     "output_type": "stream",
     "text": [
      "{'pressure': 20, 'temperature': 50, 'ph': 3.1, 'salinity': 1.025, 'threshold': False, 'volume': 30}\n"
     ]
    }
   ],
   "source": [
    "experiment_info['temperature'] = 50 \n",
    "print(experiment_info)"
   ]
  },
  {
   "cell_type": "markdown",
   "metadata": {},
   "source": [
    "To delete an entry from a dictionary, use the `del` statement, specifying the key to delete. Let's delete the threshold entry:"
   ]
  },
  {
   "cell_type": "code",
   "execution_count": 102,
   "metadata": {},
   "outputs": [
    {
     "name": "stdout",
     "output_type": "stream",
     "text": [
      "{'pressure': 20, 'temperature': 110, 'ph': 3.1, 'salinity': 1.025}\n"
     ]
    }
   ],
   "source": [
    "del experiment_info['threshold']\n",
    "print(experiment_info)"
   ]
  },
  {
   "cell_type": "markdown",
   "metadata": {},
   "source": [
    "In most applications the exact type and number of keys is unknown so it is more common to first define an empty dictionary and add entries later. Any data types can be added to a dictionary including `lists`, `tuples` and even other dictionaries!"
   ]
  },
  {
   "cell_type": "code",
   "execution_count": 118,
   "metadata": {},
   "outputs": [
    {
     "name": "stdout",
     "output_type": "stream",
     "text": [
      "{'temperature': 200, 'volume': 20, 'other': [3, 5, 6], 'runs': {'exp1': 10, 'exp2': 5}}\n"
     ]
    }
   ],
   "source": [
    "# Create empty dictionary as '{}'\n",
    "new_experiment = {}\n",
    "\n",
    "# Add temperature to empty dictionary\n",
    "new_experiment['temperature'] = 200\n",
    "# Add volume to dictionary\n",
    "new_experiment['volume'] = 20\n",
    "# Add list to dictionary\n",
    "new_experiment['other'] = [3, 5, 6]\n",
    "# Add dictionary to dictionary\n",
    "new_experiment['runs'] = {'exp1': 10, 'exp2': 5}\n",
    "\n",
    "print(new_experiment)"
   ]
  },
  {
   "cell_type": "markdown",
   "metadata": {},
   "source": [
    "Retrieving the values in the sublist or subdictionary requires an additional index or key:"
   ]
  },
  {
   "cell_type": "code",
   "execution_count": 119,
   "metadata": {},
   "outputs": [
    {
     "name": "stdout",
     "output_type": "stream",
     "text": [
      "5\n",
      "10\n"
     ]
    }
   ],
   "source": [
    "# Extract the second item from the 'other' list\n",
    "print(new_experiment['other'][1])\n",
    "\n",
    "#Extract the number of runs for experiment 1 from the sub dictionary called 'runs'\n",
    "print(new_experiment['runs']['exp1'])\n"
   ]
  },
  {
   "cell_type": "markdown",
   "metadata": {},
   "source": [
    "The values contained in a dictionary don’t need to be the same type and neither do the keys:"
   ]
  },
  {
   "cell_type": "code",
   "execution_count": 115,
   "metadata": {},
   "outputs": [
    {
     "name": "stdout",
     "output_type": "stream",
     "text": [
      "{33: 'String 1', 5.34: 'String 2', True: 5.791}\n",
      "String 1\n",
      "String 2\n",
      "5.791\n"
     ]
    }
   ],
   "source": [
    "# Form a dictionary of multiple data types for keys and values\n",
    "data_dict = {33: 'String 1', 5.34: 'String 2', True: 5.791}\n",
    "\n",
    "# Print the dictionary\n",
    "print(data_dict)\n",
    "\n",
    "# Print the associated values in the dictionary using the keys \n",
    "print(data_dict[33])\n",
    "\n",
    "print(data_dict[5.34])\n",
    "\n",
    "print(data_dict[True])\n"
   ]
  },
  {
   "cell_type": "markdown",
   "metadata": {},
   "source": [
    "A key can appear in a dictionary **only once**, duplicate keys are not allowed. A dictionary maps each key to a corresponding value, so it is not possible to map a key more than once. There are **no restrictions** on dictionary values which can be any type of object Python supports, including mutable types like lists and dictionaries, and user-defined objects."
   ]
  },
  {
   "cell_type": "markdown",
   "metadata": {},
   "source": [
    "## Checking Types"
   ]
  },
  {
   "cell_type": "markdown",
   "metadata": {},
   "source": [
    "As your programs become larger and more complex it can sometimes be useful to check specific data types of variables, which is easily done using the  `type` function. This can be especially useful when checking the output of a particular command as data types may be changing when they are not supposed to."
   ]
  },
  {
   "cell_type": "code",
   "execution_count": 134,
   "metadata": {},
   "outputs": [
    {
     "name": "stdout",
     "output_type": "stream",
     "text": [
      "<class 'int'>\n",
      "<class 'float'>\n",
      "<class 'str'>\n"
     ]
    }
   ],
   "source": [
    "x = 10 \n",
    "y = 23.67 \n",
    "z = 'This is a string'\n",
    "\n",
    "# Check the type of x\n",
    "print(type(x))\n",
    "\n",
    "# Check the type of y\n",
    "print(type(y))\n",
    "\n",
    "# Check the type of z\n",
    "print(type(z))\n"
   ]
  },
  {
   "cell_type": "markdown",
   "metadata": {},
   "source": [
    "## Review"
   ]
  },
  {
   "cell_type": "markdown",
   "metadata": {},
   "source": [
    "In this session we covered:\n",
    "    \n",
    "* Numeric data types, integers, floating point numbers and complex numbers.\n",
    "* Booleans which evaluate to 'True' or 'False' and how to use them with comparison and logical operators.\n",
    "* Sequence data types including strings, lists and tuples, learning how to maipulate them.\n",
    "* How to use dictionaries to store and access key-value pairs."
   ]
  }
 ],
 "metadata": {
  "kernelspec": {
   "display_name": "Python 3",
   "language": "python",
   "name": "python3"
  },
  "language_info": {
   "codemirror_mode": {
    "name": "ipython",
    "version": 3
   },
   "file_extension": ".py",
   "mimetype": "text/x-python",
   "name": "python",
   "nbconvert_exporter": "python",
   "pygments_lexer": "ipython3",
   "version": "3.7.7"
  },
  "toc-showcode": false,
  "toc-showmarkdowntxt": false
 },
 "nbformat": 4,
 "nbformat_minor": 4
}
