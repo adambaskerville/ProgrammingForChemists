{
 "cells": [
  {
   "cell_type": "markdown",
   "metadata": {},
   "source": [
    "# Programming for Chemists\n"
   ]
  },
  {
   "cell_type": "markdown",
   "metadata": {},
   "source": [
    "The aim of this course is to provide you with the skills to utilise\n",
    "computers in your own scientific work, from data management,\n",
    "analysis and presentation to solving real scientific problems."
   ]
  },
  {
   "cell_type": "markdown",
   "metadata": {},
   "source": [
    "## Learning Outcomes"
   ]
  },
  {
   "cell_type": "markdown",
   "metadata": {},
   "source": [
    "At the end of this course participants should be able to\n",
    "demonstrate:\n",
    "\n",
    "* Knowledge of the Python 3 programming language\n",
    "* An understanding of key data types and structures in Python\n",
    "* The skills to write and develop simple programs in Python\n",
    "* The ability to import data from files for analysis and presentation\n",
    "* The ability to detect errors in programs\n",
    "* The ability to describe and document the results of a programming project"
   ]
  },
  {
   "cell_type": "markdown",
   "metadata": {},
   "source": [
    "## Resources"
   ]
  },
  {
   "cell_type": "markdown",
   "metadata": {},
   "source": [
    "1. Recommended textbook\n",
    "\n",
    "    - Learning Scientific Programming with Python, C. Hill, 2016. Cambridge University Press. **Sussex Ebook link:** https://sussex-primo.hosted.exlibrisgroup.com/permalink/f/c622i2/44SUS_ALMA_DS51141926100002461\n",
    "\n",
    "2. Supplementary reading\n",
    "     - Python notes for professionals: https://books.goalkicker.com/PythonBook/\n",
    "3. Recommended online resources\n",
    "\n",
    "     - Official Python documentation: https://docs.python.org/3/\n",
    "\n",
    "4. Mathematical/computer programming problems (Good for application of what you learn, but some are very\n",
    "advanced)\n",
    "\n",
    "     - Project Euler: https://projecteuler.net/"
   ]
  },
  {
   "cell_type": "markdown",
   "metadata": {},
   "source": [
    "## Course Overview"
   ]
  },
  {
   "cell_type": "markdown",
   "metadata": {},
   "source": [
    "1. Introduction and Jupyter Notebook\n",
    "2. Key data types and uses\n",
    "3. Basic programming structures\n",
    "4. File input/output\n",
    "5. Plotting\n",
    "6. Basic NumPy and arrays\n",
    "7. Peak finding and smoothing data\n",
    "8. Mathematics with NumPy and SciPy"
   ]
  },
  {
   "cell_type": "markdown",
   "metadata": {},
   "source": [
    "# Introduction to Programming for Chemists"
   ]
  },
  {
   "cell_type": "markdown",
   "metadata": {},
   "source": [
    "**Q. Why learn to program as a chemist?**\n",
    "* The world of chemistry is changing, laboratories are generating increasing quantities of digital data, and chemists need the ability to efficiently process, analyze, and visualize these data.\n",
    "* An increasing number of chemistry and biochemistry related jobs specifically ask for programming experience.\n",
    "* It opens more opportunities in different areas of science outside of your degree subject.\n",
    "* It will make you a more efficient and effective scientist."
   ]
  },
  {
   "cell_type": "markdown",
   "metadata": {},
   "source": [
    "**Q. Why use the Python programming language?**\n",
    "\n",
    "* It is a powerful, general-purpose programming language.\n",
    "* It is a high-level language, meaning it automates fundamental operations such as memory management carried out at the processor level.\n",
    "* It has a large variety of data structures such as lists, tuples, dictionaries and sets.\n",
    "* It can easily interface with lower-level languages such as `C`, `C++`, `Fortran`, `Rust` etc. . .\n",
    "* It has a shallow learning curve with a clean and simple syntax. \n",
    "\n",
    "**Example:** Consider printing items from a shopping list using Python vs. using C. To run the Python code element click on the code and hold <kbd>SHIFT</kbd> and press <kbd>ENTER</kbd>. This notebook can not run the `C` code as it only works with one kernel at a time."
   ]
  },
  {
   "cell_type": "markdown",
   "metadata": {},
   "source": [
    "**Python Syntax:**"
   ]
  },
  {
   "cell_type": "code",
   "execution_count": null,
   "metadata": {},
   "outputs": [],
   "source": [
    "shopping = [\"Bread\", 'Oranges', 'Soup', 'Tea'] \n",
    "for item in shopping:\n",
    "    print(item)"
   ]
  },
  {
   "cell_type": "markdown",
   "metadata": {},
   "source": [
    "**C Syntax:**"
   ]
  },
  {
   "cell_type": "code",
   "execution_count": null,
   "metadata": {},
   "outputs": [],
   "source": [
    "#include <stdio.h>\n",
    "#include <stdlib.h>\n",
    "#include <string.h>\n",
    "#define MAX_STRING_LENGTH 20\n",
    "#define NUMBER_OF_STRINGS 4\n",
    "int main()\n",
    "{\n",
    "    int i;\n",
    "    char shopping[NUMBER_OF_STRINGS][MAX_STRING_LENGTH+1];\n",
    "    strcpy(shopping[0], \"Bread\");\n",
    "    strcpy(shopping[1], \"Oranges\");\n",
    "    strcpy(shopping[2], \"Soup\");\n",
    "    strcpy(shopping[3], \"Tea\");\n",
    "    for (i=0; i<NUMBER_OF_STRINGS; i++) {\n",
    "        fprintf(stdout, \"%s\\n\", shopping[i]);\n",
    "    }\n",
    "}"
   ]
  },
  {
   "cell_type": "markdown",
   "metadata": {},
   "source": [
    "Python was designed to be a highly readable language, with a relatively uncluttered visual layout and uses English keywords frequently where other languages use punctuation. Python aims to be simple and consistent in the design of its syntax which is hopefully clear from the examples above."
   ]
  },
  {
   "cell_type": "markdown",
   "metadata": {},
   "source": [
    "## Jupyter Notebook"
   ]
  },
  {
   "cell_type": "markdown",
   "metadata": {},
   "source": [
    "* The Jupyter notebook is an open document that can contain documentation, code, interactive elements, and the output of your Python code such as plots and numerical values.\n",
    "* It is an interactive environment, ideal for data processing and visualisation and suitable for sharing with others.\n",
    "* It is Free and Open Source Software (FOSS) and accessible anywhere, either online or downloadable for offline use.\n",
    "* Each interactive session will take place at a computer using a Jupyter Notebook and any required data files."
   ]
  },
  {
   "cell_type": "markdown",
   "metadata": {},
   "source": [
    "# Getting Started with Python 3"
   ]
  },
  {
   "cell_type": "markdown",
   "metadata": {},
   "source": [
    "Using Python in a Jupyter notebook is easy. Just type your python code into a code cell which is one of these: "
   ]
  },
  {
   "cell_type": "code",
   "execution_count": 1,
   "metadata": {},
   "outputs": [],
   "source": [
    "# This is a code cell!"
   ]
  },
  {
   "cell_type": "markdown",
   "metadata": {},
   "source": [
    "and hold <kbd>SHIFT</kbd> and press <kbd>ENTER</kbd> to run the code. It is **highly encouraged** to add code to the example code cells as you progress through the sessions and experiment with what you are learning and test any ideas you have. "
   ]
  },
  {
   "cell_type": "markdown",
   "metadata": {},
   "source": [
    "### Hello World\n",
    "\n",
    "A tradition when learning a new language is to print \"Hello World!\" to the screen, which we will now do. To print this in Python we need to invoke the `print` function and inside it write, \"Hello World\" in quotation marks which represent the string datatype in the Python language. To learn the syntax and how to run the code, type this into the code box below `print(\"Hello World!\")` then run the code."
   ]
  },
  {
   "cell_type": "code",
   "execution_count": null,
   "metadata": {},
   "outputs": [],
   "source": []
  },
  {
   "cell_type": "markdown",
   "metadata": {},
   "source": [
    "Note the importance of the quotation marks in the above code example. Run the following code which does not include them:"
   ]
  },
  {
   "cell_type": "code",
   "execution_count": null,
   "metadata": {},
   "outputs": [],
   "source": [
    "print(Hello World)"
   ]
  },
  {
   "cell_type": "markdown",
   "metadata": {},
   "source": [
    "This is invalid syntax as we have now told Python to print variables Hello and World which we have not defined. We will cover strings along with other key data types in the next session, but for now lets learn some Python basics. "
   ]
  },
  {
   "cell_type": "markdown",
   "metadata": {},
   "source": [
    "### Creating variables and assigning values\n",
    "One of the most important things that we want to do is create **variables** which represent a quantity whose value can change. To do this in Python, we need to specify the variable name, and then assign a value to it, which is done using the following syntax, `variable name = value`. Lets assign the value 10 to the variable letter `x`:"
   ]
  },
  {
   "cell_type": "code",
   "execution_count": 9,
   "metadata": {},
   "outputs": [],
   "source": [
    "x = 10 # Create the variable x"
   ]
  },
  {
   "cell_type": "markdown",
   "metadata": {},
   "source": [
    "Variable assignment works from left to right. So the following will give you a syntax error:"
   ]
  },
  {
   "cell_type": "code",
   "execution_count": 6,
   "metadata": {},
   "outputs": [
    {
     "ename": "SyntaxError",
     "evalue": "can't assign to literal (<ipython-input-6-ea1f1a64d427>, line 1)",
     "output_type": "error",
     "traceback": [
      "\u001b[0;36m  File \u001b[0;32m\"<ipython-input-6-ea1f1a64d427>\"\u001b[0;36m, line \u001b[0;32m1\u001b[0m\n\u001b[0;31m    10 = x\u001b[0m\n\u001b[0m          ^\u001b[0m\n\u001b[0;31mSyntaxError\u001b[0m\u001b[0;31m:\u001b[0m can't assign to literal\n"
     ]
    }
   ],
   "source": [
    "10 = x"
   ]
  },
  {
   "cell_type": "markdown",
   "metadata": {},
   "source": [
    "There are strict rules for naming of variables:\n",
    "\n",
    "1. Variable names must start with a letter or an underscore:"
   ]
  },
  {
   "cell_type": "code",
   "execution_count": null,
   "metadata": {},
   "outputs": [],
   "source": [
    "x = 10 # valid\n",
    "_y = 10 # valid\n",
    "\n",
    "9x = 10 # Invalid as starts with numeral\n",
    "\n",
    "$y = False # Invalid as starts with symbol\n"
   ]
  },
  {
   "cell_type": "markdown",
   "metadata": {},
   "source": [
    "2. The remainder of your variable name may consist of letters, numbers and underscores."
   ]
  },
  {
   "cell_type": "markdown",
   "metadata": {},
   "source": [
    "3. Names are case sensitive:"
   ]
  },
  {
   "cell_type": "code",
   "execution_count": 8,
   "metadata": {},
   "outputs": [
    {
     "ename": "NameError",
     "evalue": "name 'X' is not defined",
     "output_type": "error",
     "traceback": [
      "\u001b[0;31m---------------------------------------------------------------------------\u001b[0m",
      "\u001b[0;31mNameError\u001b[0m                                 Traceback (most recent call last)",
      "\u001b[0;32m<ipython-input-8-bf5eebaa71fa>\u001b[0m in \u001b[0;36m<module>\u001b[0;34m\u001b[0m\n\u001b[1;32m      1\u001b[0m \u001b[0mx\u001b[0m \u001b[0;34m=\u001b[0m \u001b[0;36m9\u001b[0m \u001b[0;31m# Define variable lower case x\u001b[0m\u001b[0;34m\u001b[0m\u001b[0;34m\u001b[0m\u001b[0m\n\u001b[0;32m----> 2\u001b[0;31m \u001b[0my\u001b[0m \u001b[0;34m=\u001b[0m \u001b[0mX\u001b[0m\u001b[0;34m*\u001b[0m\u001b[0;36m5\u001b[0m \u001b[0;31m# 'Accidentally' call upper case X\u001b[0m\u001b[0;34m\u001b[0m\u001b[0;34m\u001b[0m\u001b[0m\n\u001b[0m",
      "\u001b[0;31mNameError\u001b[0m: name 'X' is not defined"
     ]
    }
   ],
   "source": [
    "x = 9 # Define variable lower case x\n",
    "y = X*5 # 'Accidentally' call upper case X "
   ]
  },
  {
   "cell_type": "markdown",
   "metadata": {},
   "source": [
    "When you use `=` to do an assignment, what's on the left of `=` is a **name** for the **object** on the right. `=` assigns the **reference** of the object on the right to the **name** on the left. That is:\n",
    "\n",
    "```a_name = an_object # \"a_name\" is now a name for the reference to the object \"an_object\"```"
   ]
  },
  {
   "cell_type": "markdown",
   "metadata": {},
   "source": [
    "You can assign multiple values to multiple variables in one line, but there must be an equal number of arguments on the left and right sides of the `=` operator:"
   ]
  },
  {
   "cell_type": "code",
   "execution_count": 12,
   "metadata": {},
   "outputs": [
    {
     "name": "stdout",
     "output_type": "stream",
     "text": [
      "1 2 3\n"
     ]
    }
   ],
   "source": [
    "x, y, z = 1, 2, 3\n",
    "print(x, y, z)"
   ]
  },
  {
   "cell_type": "markdown",
   "metadata": {},
   "source": [
    "You can also assign a single value to several variables simultaneously:"
   ]
  },
  {
   "cell_type": "code",
   "execution_count": 13,
   "metadata": {},
   "outputs": [
    {
     "name": "stdout",
     "output_type": "stream",
     "text": [
      "1 1 1\n"
     ]
    }
   ],
   "source": [
    "x = y = z = 1\n",
    "print(x, y, z)"
   ]
  },
  {
   "cell_type": "markdown",
   "metadata": {},
   "source": [
    "### Comments\n",
    "In the above examples you may have noticed multiple `#` symbols with text written after them. These are known as **comments** and are a crucial and often underused aspect of programming languages. Comments are lines that exist in computer programs that are ignored by the program. Including comments in programs makes code more readable for humans as it provides some information or explanation about what each part of a program is doing. In general, it is a good idea to write comments while you are writing or updating a program as it is easy to forget your thought process later on, and comments written later may be less useful in the long term. Comments are also very appreciated by someone who may use your program or be tasked with modifying parts of it, as they need an insight into your thought process. Try to avoid W.E.T comments meaning you 'Wrote Everything Twice'. Comments such as:"
   ]
  },
  {
   "cell_type": "code",
   "execution_count": null,
   "metadata": {},
   "outputs": [],
   "source": [
    "return a  # Returns a"
   ]
  },
  {
   "cell_type": "markdown",
   "metadata": {},
   "source": [
    "Your comments should be D.R.Y. (Don’t Repeat Yourself) and offer insight into how the code truly functions.\n",
    "\n"
   ]
  }
 ],
 "metadata": {
  "kernelspec": {
   "display_name": "Python 3",
   "language": "python",
   "name": "python3"
  },
  "language_info": {
   "codemirror_mode": {
    "name": "ipython",
    "version": 3
   },
   "file_extension": ".py",
   "mimetype": "text/x-python",
   "name": "python",
   "nbconvert_exporter": "python",
   "pygments_lexer": "ipython3",
   "version": "3.7.7"
  },
  "toc-autonumbering": true
 },
 "nbformat": 4,
 "nbformat_minor": 4
}
